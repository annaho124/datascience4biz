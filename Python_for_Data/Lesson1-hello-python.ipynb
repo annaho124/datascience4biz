{
 "cells": [
  {
   "cell_type": "markdown",
   "source": [
    "This course covers the key Python skills you’ll need so you can start using Python for data science. \r\n",
    "\r\n",
    "We'll start with a brief overview of Python syntax, variable assignment, and arithmetic operators."
   ],
   "metadata": {
    "papermill": {
     "duration": 0.01787,
     "end_time": "2021-06-04T13:06:57.197508",
     "exception": false,
     "start_time": "2021-06-04T13:06:57.179638",
     "status": "completed"
    },
    "tags": []
   }
  },
  {
   "cell_type": "markdown",
   "source": [
    "# Lesson 1 - Hello Python!\r\n",
    "\r\n",
    "## Lesson:\r\n",
    "\r\n",
    "Python was named for the British comedy troupe [Monty Python](https://en.wikipedia.org/wiki/Monty_Python).\r\n",
    "\r\n",
    "Just for fun, try reading over the code below and predicting what it's going to do when run. (If you have no idea, that's fine!)\r\n",
    "\r\n",
    "Then click the \"output\" button to see the results of our program."
   ],
   "metadata": {
    "papermill": {
     "duration": 0.016372,
     "end_time": "2021-06-04T13:06:57.231829",
     "exception": false,
     "start_time": "2021-06-04T13:06:57.215457",
     "status": "completed"
    },
    "tags": []
   }
  },
  {
   "cell_type": "code",
   "execution_count": 1,
   "source": [
    "lesson_amount = 0\r\n",
    "print(lesson_amount)\r\n",
    "\r\n",
    "#We learned about Python in class, so let add 1 into our lesson_amount\r\n",
    "lesson_amount = lesson_amount + 1\r\n",
    "\r\n",
    "#Let's check if we have learn some lesson of Python code before\r\n",
    "if lesson_amount > 0:\r\n",
    "    print(\"I learn some Python code!\")\r\n",
    "\r\n",
    "lesson_learned = \"Lesson \" * lesson_amount\r\n",
    "print(lesson_learned)"
   ],
   "outputs": [
    {
     "output_type": "stream",
     "name": "stdout",
     "text": [
      "0\n",
      "I learn some Python code!\n",
      "Lesson \n"
     ]
    }
   ],
   "metadata": {
    "_kg_hide-output": true,
    "execution": {
     "iopub.execute_input": "2021-06-04T13:06:57.271529Z",
     "iopub.status.busy": "2021-06-04T13:06:57.270482Z",
     "iopub.status.idle": "2021-06-04T13:06:57.275578Z",
     "shell.execute_reply": "2021-06-04T13:06:57.275001Z"
    },
    "papermill": {
     "duration": 0.027367,
     "end_time": "2021-06-04T13:06:57.275722",
     "exception": false,
     "start_time": "2021-06-04T13:06:57.248355",
     "status": "completed"
    },
    "tags": []
   }
  },
  {
   "cell_type": "markdown",
   "source": [
    "There's a lot to unpack here! This silly program demonstrates many important aspects of what Python code looks like and how it works. Let's review the code from top to bottom."
   ],
   "metadata": {
    "papermill": {
     "duration": 0.016773,
     "end_time": "2021-06-04T13:06:57.311689",
     "exception": false,
     "start_time": "2021-06-04T13:06:57.294916",
     "status": "completed"
    },
    "tags": []
   }
  },
  {
   "cell_type": "code",
   "execution_count": 2,
   "source": [
    "lesson_amount = 0"
   ],
   "outputs": [],
   "metadata": {
    "collapsed": true,
    "execution": {
     "iopub.execute_input": "2021-06-04T13:06:57.350775Z",
     "iopub.status.busy": "2021-06-04T13:06:57.350226Z",
     "iopub.status.idle": "2021-06-04T13:06:57.353613Z",
     "shell.execute_reply": "2021-06-04T13:06:57.353058Z"
    },
    "papermill": {
     "duration": 0.025,
     "end_time": "2021-06-04T13:06:57.353752",
     "exception": false,
     "start_time": "2021-06-04T13:06:57.328752",
     "status": "completed"
    },
    "tags": []
   }
  },
  {
   "cell_type": "markdown",
   "source": [
    "**Variable assignment:** Here we create a variable called `lesson_amount` and assign it the value of 0 using `=`, which is called the assignment operator.\r\n",
    "\r\n",
    "> **Aside**: If you've programmed in certain other languages (like Java or C++), you might be noticing some things Python *doesn't* require us to do here:  \r\n",
    "- we don't need to \"declare\" `lesson_amount` before assigning to it\r\n",
    "- we don't need to tell Python what type of value `lesson_amount` is going to refer to. In fact, we can even go on to reassign `lesson_amount` to refer to a different sort of thing like a string or a boolean."
   ],
   "metadata": {
    "papermill": {
     "duration": 0.016643,
     "end_time": "2021-06-04T13:06:57.387706",
     "exception": false,
     "start_time": "2021-06-04T13:06:57.371063",
     "status": "completed"
    },
    "tags": []
   }
  },
  {
   "cell_type": "code",
   "execution_count": 3,
   "source": [
    "print(lesson_amount)"
   ],
   "outputs": [
    {
     "output_type": "stream",
     "name": "stdout",
     "text": [
      "0\n"
     ]
    }
   ],
   "metadata": {
    "_kg_hide-output": false,
    "collapsed": true,
    "execution": {
     "iopub.execute_input": "2021-06-04T13:06:57.426718Z",
     "iopub.status.busy": "2021-06-04T13:06:57.426101Z",
     "iopub.status.idle": "2021-06-04T13:06:57.429519Z",
     "shell.execute_reply": "2021-06-04T13:06:57.429038Z"
    },
    "papermill": {
     "duration": 0.024896,
     "end_time": "2021-06-04T13:06:57.429651",
     "exception": false,
     "start_time": "2021-06-04T13:06:57.404755",
     "status": "completed"
    },
    "tags": []
   }
  },
  {
   "cell_type": "markdown",
   "source": [
    "**Function calls:**. `print` is a Python function that displays the value passed to it on the screen. We call functions by putting parentheses after their name, and putting the inputs (or *arguments*) to the function in those parentheses."
   ],
   "metadata": {
    "papermill": {
     "duration": 0.017615,
     "end_time": "2021-06-04T13:06:57.465299",
     "exception": false,
     "start_time": "2021-06-04T13:06:57.447684",
     "status": "completed"
    },
    "tags": []
   }
  },
  {
   "cell_type": "code",
   "execution_count": 4,
   "source": [
    "#We learned about Python in class, so let add 1 into our lesson_amount\r\n",
    "lesson_amount = lesson_amount + 1"
   ],
   "outputs": [],
   "metadata": {
    "_kg_hide-output": false,
    "collapsed": true,
    "execution": {
     "iopub.execute_input": "2021-06-04T13:06:57.505876Z",
     "iopub.status.busy": "2021-06-04T13:06:57.505264Z",
     "iopub.status.idle": "2021-06-04T13:06:57.508025Z",
     "shell.execute_reply": "2021-06-04T13:06:57.507452Z"
    },
    "papermill": {
     "duration": 0.024767,
     "end_time": "2021-06-04T13:06:57.508159",
     "exception": false,
     "start_time": "2021-06-04T13:06:57.483392",
     "status": "completed"
    },
    "tags": []
   }
  },
  {
   "cell_type": "markdown",
   "source": [
    "The first line above is a **comment**. In Python, comments begin with the `#` symbol.\r\n",
    "\r\n",
    "Next we see an example of reassignment. Reassigning the value of an existing variable looks just the same as creating a variable - it still uses the `=` assignment operator.\r\n",
    "\r\n",
    "In this case, the value we're assigning to `lesson_amount` involves some simple arithmetic on its previous value. When it encounters this line, Python evaluates the expression on the right-hand-side of the `=` (0 + 1 = 1), and then assigns that value to the variable on the left-hand-side."
   ],
   "metadata": {
    "papermill": {
     "duration": 0.018098,
     "end_time": "2021-06-04T13:06:57.544190",
     "exception": false,
     "start_time": "2021-06-04T13:06:57.526092",
     "status": "completed"
    },
    "tags": []
   }
  },
  {
   "cell_type": "code",
   "execution_count": 5,
   "source": [
    "#Let's check if we have learn some lesson of Python code before\r\n",
    "if lesson_amount > 0:\r\n",
    "    print(\"I learn some Python code!\")\r\n",
    "\r\n",
    "lesson_learned = 'Lesson Lesson Lesson'\r\n",
    "print(lesson_learned)"
   ],
   "outputs": [
    {
     "output_type": "stream",
     "name": "stdout",
     "text": [
      "I learn some Python code!\n",
      "Lesson Lesson Lesson\n"
     ]
    }
   ],
   "metadata": {
    "_kg_hide-output": false,
    "collapsed": true,
    "execution": {
     "iopub.execute_input": "2021-06-04T13:06:57.582610Z",
     "iopub.status.busy": "2021-06-04T13:06:57.582020Z",
     "iopub.status.idle": "2021-06-04T13:06:57.587226Z",
     "shell.execute_reply": "2021-06-04T13:06:57.587622Z"
    },
    "papermill": {
     "duration": 0.025914,
     "end_time": "2021-06-04T13:06:57.587796",
     "exception": false,
     "start_time": "2021-06-04T13:06:57.561882",
     "status": "completed"
    },
    "tags": []
   }
  },
  {
   "cell_type": "markdown",
   "source": [
    "We won't talk much about \"conditionals\" until later, but, even if you've never coded before, you can probably guess what this does. Python is prized for its readability and the simplicity. \r\n",
    "\r\n",
    "Note how we indicated which code belongs to the `if`. `\"I learned some Python code!\"` is only supposed to be printed if `lesson_amount` is positive. But the later code (like `print(lesson_learned)`) should be executed no matter what. How do we (and Python) know that?\r\n",
    "\r\n",
    "The colon (`:`) at the end of the `if` line indicates that a new **code block** is starting. Subsequent lines which are indented are part of that code block. \r\n",
    "> **Aside**: If you've coded before, you might know that some other languages use `{`curly braces`}` to mark the beginning and end of code blocks. Python's use of meaningful whitespace can be surprising to programmers who are accustomed to other languages, but in practice it can lead to more consistent and readable code than languages that do not enforce indentation of code blocks. \r\n",
    "\r\n",
    "The later lines dealing with `lesson_learned` are not indented with an extra 4 spaces, so they're not a part of the `if`'s code block. We'll see more examples of indented code blocks later when we define functions and using loops.\r\n",
    "\r\n",
    "This code snippet is also our first sighting of a **string** in Python:\r\n",
    "\r\n",
    "```python\r\n",
    "\"I learned some Python code!\"\r\n",
    "```\r\n",
    "\r\n",
    "Strings can be marked either by double or single quotation marks. (But because this particular string *contains* a single-quote character, we might confuse Python by trying to surround it with single-quotes, unless we're careful.)"
   ],
   "metadata": {
    "papermill": {
     "duration": 0.018051,
     "end_time": "2021-06-04T13:06:57.623736",
     "exception": false,
     "start_time": "2021-06-04T13:06:57.605685",
     "status": "completed"
    },
    "tags": []
   }
  },
  {
   "cell_type": "code",
   "execution_count": 6,
   "source": [
    "lesson_learned = \"Lesson \" * lesson_amount\r\n",
    "print(lesson_learned)"
   ],
   "outputs": [
    {
     "output_type": "stream",
     "name": "stdout",
     "text": [
      "Lesson \n"
     ]
    }
   ],
   "metadata": {
    "_kg_hide-output": false,
    "collapsed": true,
    "execution": {
     "iopub.execute_input": "2021-06-04T13:06:57.662442Z",
     "iopub.status.busy": "2021-06-04T13:06:57.661847Z",
     "iopub.status.idle": "2021-06-04T13:06:57.666794Z",
     "shell.execute_reply": "2021-06-04T13:06:57.667482Z"
    },
    "papermill": {
     "duration": 0.025987,
     "end_time": "2021-06-04T13:06:57.667658",
     "exception": false,
     "start_time": "2021-06-04T13:06:57.641671",
     "status": "completed"
    },
    "tags": []
   }
  },
  {
   "cell_type": "markdown",
   "source": [
    "The `*` operator can be used to multiply two numbers (`3 * 3` evaluates to 9), but we can also multiply a string by a number, to get a version that's been repeated that many times. Python offers a number of cheeky little time-saving tricks like this where operators like `*` and `+` have a different meaning depending on what kind of thing they're applied to. (The technical term for this is [operator overloading](https://en.wikipedia.org/wiki/Operator_overloading).)"
   ],
   "metadata": {
    "papermill": {
     "duration": 0.017843,
     "end_time": "2021-06-04T13:06:57.703891",
     "exception": false,
     "start_time": "2021-06-04T13:06:57.686048",
     "status": "completed"
    },
    "tags": []
   }
  },
  {
   "cell_type": "markdown",
   "source": [
    "## Numbers and arithmetic in Python\n",
    "\n",
    "We've already seen an example of a variable containing a number above:"
   ],
   "metadata": {
    "papermill": {
     "duration": 0.017832,
     "end_time": "2021-06-04T13:06:57.739848",
     "exception": false,
     "start_time": "2021-06-04T13:06:57.722016",
     "status": "completed"
    },
    "tags": []
   }
  },
  {
   "cell_type": "code",
   "execution_count": 7,
   "source": [
    "lesson_amount = 0"
   ],
   "outputs": [],
   "metadata": {
    "collapsed": true,
    "execution": {
     "iopub.execute_input": "2021-06-04T13:06:57.779444Z",
     "iopub.status.busy": "2021-06-04T13:06:57.778784Z",
     "iopub.status.idle": "2021-06-04T13:06:57.782116Z",
     "shell.execute_reply": "2021-06-04T13:06:57.782552Z"
    },
    "papermill": {
     "duration": 0.024527,
     "end_time": "2021-06-04T13:06:57.782722",
     "exception": false,
     "start_time": "2021-06-04T13:06:57.758195",
     "status": "completed"
    },
    "tags": []
   }
  },
  {
   "cell_type": "markdown",
   "source": [
    "\"Number\" is a fine informal name for the kind of thing, but if we wanted to be more technical, we could ask Python how it would describe the type of thing that `lesson_amount` is:"
   ],
   "metadata": {
    "papermill": {
     "duration": 0.019022,
     "end_time": "2021-06-04T13:06:57.819837",
     "exception": false,
     "start_time": "2021-06-04T13:06:57.800815",
     "status": "completed"
    },
    "tags": []
   }
  },
  {
   "cell_type": "code",
   "execution_count": 8,
   "source": [
    "type(lesson_amount)"
   ],
   "outputs": [
    {
     "output_type": "execute_result",
     "data": {
      "text/plain": [
       "int"
      ]
     },
     "metadata": {},
     "execution_count": 8
    }
   ],
   "metadata": {
    "collapsed": true,
    "execution": {
     "iopub.execute_input": "2021-06-04T13:06:57.866158Z",
     "iopub.status.busy": "2021-06-04T13:06:57.865470Z",
     "iopub.status.idle": "2021-06-04T13:06:57.871557Z",
     "shell.execute_reply": "2021-06-04T13:06:57.871990Z"
    },
    "papermill": {
     "duration": 0.027831,
     "end_time": "2021-06-04T13:06:57.872176",
     "exception": false,
     "start_time": "2021-06-04T13:06:57.844345",
     "status": "completed"
    },
    "tags": []
   }
  },
  {
   "cell_type": "markdown",
   "source": [
    "It's an `int` - short for integer. There's another sort of number we commonly encounter in Python:"
   ],
   "metadata": {
    "papermill": {
     "duration": 0.018547,
     "end_time": "2021-06-04T13:06:57.911220",
     "exception": false,
     "start_time": "2021-06-04T13:06:57.892673",
     "status": "completed"
    },
    "tags": []
   }
  },
  {
   "cell_type": "code",
   "execution_count": 9,
   "source": [
    "type(19.95)"
   ],
   "outputs": [
    {
     "output_type": "execute_result",
     "data": {
      "text/plain": [
       "float"
      ]
     },
     "metadata": {},
     "execution_count": 9
    }
   ],
   "metadata": {
    "collapsed": true,
    "execution": {
     "iopub.execute_input": "2021-06-04T13:06:57.951693Z",
     "iopub.status.busy": "2021-06-04T13:06:57.951120Z",
     "iopub.status.idle": "2021-06-04T13:06:57.957087Z",
     "shell.execute_reply": "2021-06-04T13:06:57.956585Z"
    },
    "papermill": {
     "duration": 0.027347,
     "end_time": "2021-06-04T13:06:57.957231",
     "exception": false,
     "start_time": "2021-06-04T13:06:57.929884",
     "status": "completed"
    },
    "tags": []
   }
  },
  {
   "cell_type": "markdown",
   "source": [
    "A `float` is a number with a decimal place - very useful for representing things like weights or proportions.\r\n",
    "\r\n",
    "`type()` is the second built-in function we've seen (after `print()`), and it's another good one to remember. It's very useful to be able to ask Python \"what kind of thing is this?\". "
   ],
   "metadata": {
    "papermill": {
     "duration": 0.018491,
     "end_time": "2021-06-04T13:06:57.994756",
     "exception": false,
     "start_time": "2021-06-04T13:06:57.976265",
     "status": "completed"
    },
    "tags": []
   }
  },
  {
   "cell_type": "markdown",
   "source": [
    "A natural thing to want to do with numbers is perform arithmetic. We've seen the `+` operator for addition, and the `*` operator for multiplication. Python also has us covered for the rest of the basic buttons on your calculator:\r\n",
    "\r\n",
    "| Operator     | Name           | Description                                            |\r\n",
    "|--------------|----------------|--------------------------------------------------------|\r\n",
    "| ``a + b``    | Addition       | Sum of ``a`` and ``b``                                 |\r\n",
    "| ``a - b``    | Subtraction    | Difference of ``a`` and ``b``                          |\r\n",
    "| ``a * b``    | Multiplication | Product of ``a`` and ``b``                             |\r\n",
    "| ``a / b``    | True division  | Quotient of ``a`` and ``b``                            |\r\n",
    "| ``a // b``   | Floor division | Quotient of ``a`` and ``b``, removing fractional parts |\r\n",
    "| ``a % b``    | Modulus        | Integer remainder after division of ``a`` by ``b``     |\r\n",
    "| ``a ** b``   | Exponentiation | ``a`` raised to the power of ``b``                     |\r\n",
    "| ``-a``       | Negation       | The negative of ``a``                                  |\r\n",
    "\r\n",
    "<span style=\"display:none\"></span>\r\n",
    "\r\n",
    "One interesting observation here is that, whereas your calculator probably just has one button for division, Python can do two kinds. \"True division\" is basically what your calculator does:"
   ],
   "metadata": {
    "papermill": {
     "duration": 0.018559,
     "end_time": "2021-06-04T13:06:58.032642",
     "exception": false,
     "start_time": "2021-06-04T13:06:58.014083",
     "status": "completed"
    },
    "tags": []
   }
  },
  {
   "cell_type": "code",
   "execution_count": 10,
   "source": [
    "print(5 / 2)\r\n",
    "print(6 / 2)"
   ],
   "outputs": [
    {
     "output_type": "stream",
     "name": "stdout",
     "text": [
      "2.5\n",
      "3.0\n"
     ]
    }
   ],
   "metadata": {
    "collapsed": true,
    "execution": {
     "iopub.execute_input": "2021-06-04T13:06:58.074522Z",
     "iopub.status.busy": "2021-06-04T13:06:58.073568Z",
     "iopub.status.idle": "2021-06-04T13:06:58.079360Z",
     "shell.execute_reply": "2021-06-04T13:06:58.078795Z"
    },
    "papermill": {
     "duration": 0.028142,
     "end_time": "2021-06-04T13:06:58.079508",
     "exception": false,
     "start_time": "2021-06-04T13:06:58.051366",
     "status": "completed"
    },
    "tags": []
   }
  },
  {
   "cell_type": "markdown",
   "source": [
    "It always gives us a `float`. \n",
    "\n",
    "The `//` operator gives us a result that's rounded down to the next integer."
   ],
   "metadata": {
    "papermill": {
     "duration": 0.019051,
     "end_time": "2021-06-04T13:06:58.117755",
     "exception": false,
     "start_time": "2021-06-04T13:06:58.098704",
     "status": "completed"
    },
    "tags": []
   }
  },
  {
   "cell_type": "code",
   "execution_count": 11,
   "source": [
    "2 + 2"
   ],
   "outputs": [
    {
     "output_type": "execute_result",
     "data": {
      "text/plain": [
       "4"
      ]
     },
     "metadata": {},
     "execution_count": 11
    }
   ],
   "metadata": {}
  },
  {
   "cell_type": "code",
   "execution_count": 12,
   "source": [
    "print(5 // 2)\r\n",
    "print(6 // 2)"
   ],
   "outputs": [
    {
     "output_type": "stream",
     "name": "stdout",
     "text": [
      "2\n",
      "3\n"
     ]
    }
   ],
   "metadata": {
    "collapsed": true,
    "execution": {
     "iopub.execute_input": "2021-06-04T13:06:58.161599Z",
     "iopub.status.busy": "2021-06-04T13:06:58.160701Z",
     "iopub.status.idle": "2021-06-04T13:06:58.163562Z",
     "shell.execute_reply": "2021-06-04T13:06:58.163990Z"
    },
    "papermill": {
     "duration": 0.027267,
     "end_time": "2021-06-04T13:06:58.164149",
     "exception": false,
     "start_time": "2021-06-04T13:06:58.136882",
     "status": "completed"
    },
    "tags": []
   }
  },
  {
   "cell_type": "markdown",
   "source": [
    "Can you think of where this would be useful? You'll see an example soon in the coding challenges."
   ],
   "metadata": {
    "papermill": {
     "duration": 0.018944,
     "end_time": "2021-06-04T13:06:58.202329",
     "exception": false,
     "start_time": "2021-06-04T13:06:58.183385",
     "status": "completed"
    },
    "tags": []
   }
  },
  {
   "cell_type": "markdown",
   "source": [
    "### Order of operations\n",
    "\n",
    "The arithmetic we learned in primary school has conventions about the order in which operations are evaluated. Some remember these by a mnemonic such as **PEMDAS** - **P**arentheses, **E**xponents, **M**ultiplication/**D**ivision, **A**ddition/**S**ubtraction.\n",
    "\n",
    "Python follows similar rules about which calculations to perform first. They're mostly pretty intuitive."
   ],
   "metadata": {
    "papermill": {
     "duration": 0.018833,
     "end_time": "2021-06-04T13:06:58.240806",
     "exception": false,
     "start_time": "2021-06-04T13:06:58.221973",
     "status": "completed"
    },
    "tags": []
   }
  },
  {
   "cell_type": "code",
   "execution_count": 13,
   "source": [
    "8 - 3 + 2"
   ],
   "outputs": [
    {
     "output_type": "execute_result",
     "data": {
      "text/plain": [
       "7"
      ]
     },
     "metadata": {},
     "execution_count": 13
    }
   ],
   "metadata": {
    "collapsed": true,
    "execution": {
     "iopub.execute_input": "2021-06-04T13:06:58.284750Z",
     "iopub.status.busy": "2021-06-04T13:06:58.283958Z",
     "iopub.status.idle": "2021-06-04T13:06:58.287891Z",
     "shell.execute_reply": "2021-06-04T13:06:58.287420Z"
    },
    "papermill": {
     "duration": 0.027792,
     "end_time": "2021-06-04T13:06:58.288031",
     "exception": false,
     "start_time": "2021-06-04T13:06:58.260239",
     "status": "completed"
    },
    "tags": []
   }
  },
  {
   "cell_type": "code",
   "execution_count": 14,
   "source": [
    "-3 + 4 * 2"
   ],
   "outputs": [
    {
     "output_type": "execute_result",
     "data": {
      "text/plain": [
       "5"
      ]
     },
     "metadata": {},
     "execution_count": 14
    }
   ],
   "metadata": {
    "collapsed": true,
    "execution": {
     "iopub.execute_input": "2021-06-04T13:06:58.331449Z",
     "iopub.status.busy": "2021-06-04T13:06:58.330823Z",
     "iopub.status.idle": "2021-06-04T13:06:58.335492Z",
     "shell.execute_reply": "2021-06-04T13:06:58.335937Z"
    },
    "papermill": {
     "duration": 0.0278,
     "end_time": "2021-06-04T13:06:58.336119",
     "exception": false,
     "start_time": "2021-06-04T13:06:58.308319",
     "status": "completed"
    },
    "tags": []
   }
  },
  {
   "cell_type": "markdown",
   "source": [
    "Sometimes the default order of operations isn't what we want:"
   ],
   "metadata": {
    "papermill": {
     "duration": 0.019915,
     "end_time": "2021-06-04T13:06:58.376211",
     "exception": false,
     "start_time": "2021-06-04T13:06:58.356296",
     "status": "completed"
    },
    "tags": []
   }
  },
  {
   "cell_type": "code",
   "execution_count": 15,
   "source": [
    "hat_height_cm = 25\r\n",
    "my_height_cm = 190\r\n",
    "# How tall am I, in meters, when wearing my hat?\r\n",
    "total_height_meters = hat_height_cm + my_height_cm / 100\r\n",
    "print(\"Height in meters =\", total_height_meters, \"?\")"
   ],
   "outputs": [
    {
     "output_type": "stream",
     "name": "stdout",
     "text": [
      "Height in meters = 26.9 ?\n"
     ]
    }
   ],
   "metadata": {
    "collapsed": true,
    "execution": {
     "iopub.execute_input": "2021-06-04T13:06:58.420929Z",
     "iopub.status.busy": "2021-06-04T13:06:58.420335Z",
     "iopub.status.idle": "2021-06-04T13:06:58.425239Z",
     "shell.execute_reply": "2021-06-04T13:06:58.425652Z"
    },
    "papermill": {
     "duration": 0.028734,
     "end_time": "2021-06-04T13:06:58.425807",
     "exception": false,
     "start_time": "2021-06-04T13:06:58.397073",
     "status": "completed"
    },
    "tags": []
   }
  },
  {
   "cell_type": "markdown",
   "source": [
    "Parentheses are useful here. You can add them to force Python to evaluate sub-expressions in whatever order you want."
   ],
   "metadata": {
    "papermill": {
     "duration": 0.020005,
     "end_time": "2021-06-04T13:06:58.466225",
     "exception": false,
     "start_time": "2021-06-04T13:06:58.446220",
     "status": "completed"
    },
    "tags": []
   }
  },
  {
   "cell_type": "code",
   "execution_count": 16,
   "source": [
    "total_height_meters = (hat_height_cm + my_height_cm) / 100\r\n",
    "print(\"Height in meters =\", total_height_meters)"
   ],
   "outputs": [
    {
     "output_type": "stream",
     "name": "stdout",
     "text": [
      "Height in meters = 2.15\n"
     ]
    }
   ],
   "metadata": {
    "collapsed": true,
    "execution": {
     "iopub.execute_input": "2021-06-04T13:06:58.509627Z",
     "iopub.status.busy": "2021-06-04T13:06:58.509057Z",
     "iopub.status.idle": "2021-06-04T13:06:58.514005Z",
     "shell.execute_reply": "2021-06-04T13:06:58.514396Z"
    },
    "papermill": {
     "duration": 0.028226,
     "end_time": "2021-06-04T13:06:58.514559",
     "exception": false,
     "start_time": "2021-06-04T13:06:58.486333",
     "status": "completed"
    },
    "tags": []
   }
  },
  {
   "cell_type": "markdown",
   "source": [
    "### Builtin functions for working with numbers\n",
    "\n",
    "`min` and `max` return the minimum and maximum of their arguments, respectively..."
   ],
   "metadata": {
    "papermill": {
     "duration": 0.020884,
     "end_time": "2021-06-04T13:06:58.556322",
     "exception": false,
     "start_time": "2021-06-04T13:06:58.535438",
     "status": "completed"
    },
    "tags": []
   }
  },
  {
   "cell_type": "code",
   "execution_count": 17,
   "source": [
    "print(min(1, 2, 3))\r\n",
    "print(max(1, 2, 3))"
   ],
   "outputs": [
    {
     "output_type": "stream",
     "name": "stdout",
     "text": [
      "1\n",
      "3\n"
     ]
    }
   ],
   "metadata": {
    "collapsed": true,
    "execution": {
     "iopub.execute_input": "2021-06-04T13:06:58.601265Z",
     "iopub.status.busy": "2021-06-04T13:06:58.600626Z",
     "iopub.status.idle": "2021-06-04T13:06:58.604761Z",
     "shell.execute_reply": "2021-06-04T13:06:58.605251Z"
    },
    "papermill": {
     "duration": 0.028046,
     "end_time": "2021-06-04T13:06:58.605421",
     "exception": false,
     "start_time": "2021-06-04T13:06:58.577375",
     "status": "completed"
    },
    "tags": []
   }
  },
  {
   "cell_type": "markdown",
   "source": [
    "`abs` returns the absolute value of an argument:"
   ],
   "metadata": {
    "papermill": {
     "duration": 0.020749,
     "end_time": "2021-06-04T13:06:58.647256",
     "exception": false,
     "start_time": "2021-06-04T13:06:58.626507",
     "status": "completed"
    },
    "tags": []
   }
  },
  {
   "cell_type": "code",
   "execution_count": 18,
   "source": [
    "print(abs(32))\r\n",
    "print(abs(-32))"
   ],
   "outputs": [
    {
     "output_type": "stream",
     "name": "stdout",
     "text": [
      "32\n",
      "32\n"
     ]
    }
   ],
   "metadata": {
    "collapsed": true,
    "execution": {
     "iopub.execute_input": "2021-06-04T13:06:58.692307Z",
     "iopub.status.busy": "2021-06-04T13:06:58.691686Z",
     "iopub.status.idle": "2021-06-04T13:06:58.696593Z",
     "shell.execute_reply": "2021-06-04T13:06:58.696140Z"
    },
    "papermill": {
     "duration": 0.028429,
     "end_time": "2021-06-04T13:06:58.696725",
     "exception": false,
     "start_time": "2021-06-04T13:06:58.668296",
     "status": "completed"
    },
    "tags": []
   }
  },
  {
   "cell_type": "markdown",
   "source": [
    "In addition to being the names of Python's two main numerical types, `int` and `float` can also be called as functions which convert their arguments to the corresponding type:"
   ],
   "metadata": {
    "papermill": {
     "duration": 0.021294,
     "end_time": "2021-06-04T13:06:58.739733",
     "exception": false,
     "start_time": "2021-06-04T13:06:58.718439",
     "status": "completed"
    },
    "tags": []
   }
  },
  {
   "cell_type": "code",
   "execution_count": 19,
   "source": [
    "print(float(10))\r\n",
    "print(int(3.33))\r\n",
    "# They can even be called on strings!\r\n",
    "print(int('807') + 1)"
   ],
   "outputs": [
    {
     "output_type": "stream",
     "name": "stdout",
     "text": [
      "10.0\n",
      "3\n",
      "808\n"
     ]
    }
   ],
   "metadata": {
    "collapsed": true,
    "execution": {
     "iopub.execute_input": "2021-06-04T13:06:58.787792Z",
     "iopub.status.busy": "2021-06-04T13:06:58.786780Z",
     "iopub.status.idle": "2021-06-04T13:06:58.790812Z",
     "shell.execute_reply": "2021-06-04T13:06:58.790247Z"
    },
    "papermill": {
     "duration": 0.029766,
     "end_time": "2021-06-04T13:06:58.790981",
     "exception": false,
     "start_time": "2021-06-04T13:06:58.761215",
     "status": "completed"
    },
    "tags": []
   }
  },
  {
   "cell_type": "markdown",
   "source": [
    "## Exercise:"
   ],
   "metadata": {}
  },
  {
   "cell_type": "markdown",
   "source": [
    "Notebooks are composed of blocks (called \"cells\") of text and code. Each of these is editable, though you'll mainly be editing the code cells to answer some questions.\r\n",
    "\r\n",
    "To get started, try running the code cell below (by pressing the ► button, or clicking on the cell and pressing ctrl+enter on your keyboard)."
   ],
   "metadata": {}
  },
  {
   "cell_type": "code",
   "execution_count": 20,
   "source": [
    "print('Hello, World!')"
   ],
   "outputs": [
    {
     "output_type": "stream",
     "name": "stdout",
     "text": [
      "Hello, World!\n"
     ]
    }
   ],
   "metadata": {}
  },
  {
   "cell_type": "code",
   "execution_count": 21,
   "source": [
    "print(\"You've successfully run some Python code\")\r\n",
    "print(\"Congratulations!\")"
   ],
   "outputs": [
    {
     "output_type": "stream",
     "name": "stdout",
     "text": [
      "You've successfully run some Python code\n",
      "Congratulations!\n"
     ]
    }
   ],
   "metadata": {}
  },
  {
   "cell_type": "markdown",
   "source": [
    "Try adding another line of code in the cell above and re-running it. \r\n",
    "\r\n",
    "Now let's get a little fancier:  Add a new code cell by clicking on an existing code cell, hitting the escape key, and then hitting the `a` or `b` key.  The `a` key will add a cell above the current cell, and `b` adds a cell below.\r\n",
    "\r\n",
    "Great! Now you know how to use Notebooks.\r\n",
    "\r\n",
    "Each hands-on exercise starts by setting up our feedback and code checking mechanism. Run the code cell below to do that. Then you'll be ready to move on to question 0."
   ],
   "metadata": {}
  },
  {
   "cell_type": "markdown",
   "source": [
    "### 0.\r\n",
    "\r\n",
    "*This is a silly question intended as an introduction to the format we use for hands-on exercises throughout all courses.*\r\n",
    "\r\n",
    "**What is your favorite color? **"
   ],
   "metadata": {}
  },
  {
   "cell_type": "code",
   "execution_count": 23,
   "source": [
    "# create a variable called color with an appropriate value on the line below\r\n",
    "# (Remember, strings in Python must be enclosed in 'single' or \"double\" quotes)\r\n",
    "color = 'Red'\r\n",
    "print(color)"
   ],
   "outputs": [
    {
     "output_type": "stream",
     "name": "stdout",
     "text": [
      "Red\n"
     ]
    }
   ],
   "metadata": {}
  },
  {
   "cell_type": "markdown",
   "source": [
    "<hr/>\r\n",
    "\r\n",
    "# 1.\r\n",
    "\r\n",
    "Complete the code below. In case it's helpful, here is the table of available arithmetic operations:\r\n",
    "\r\n",
    "\r\n",
    "\r\n",
    "| Operator     | Name           | Description                                            |\r\n",
    "|--------------|----------------|--------------------------------------------------------|\r\n",
    "| ``a + b``    | Addition       | Sum of ``a`` and ``b``                                 |\r\n",
    "| ``a - b``    | Subtraction    | Difference of ``a`` and ``b``                          |\r\n",
    "| ``a * b``    | Multiplication | Product of ``a`` and ``b``                             |\r\n",
    "| ``a / b``    | True division  | Quotient of ``a`` and ``b``                            |\r\n",
    "| ``a // b``   | Floor division | Quotient of ``a`` and ``b``, removing fractional parts |\r\n",
    "| ``a % b``    | Modulus        | Integer remainder after division of ``a`` by ``b``     |\r\n",
    "| ``a ** b``   | Exponentiation | ``a`` raised to the power of ``b``                     |\r\n",
    "| ``-a``       | Negation       | The negative of ``a``                                  |\r\n",
    "\r\n",
    "<span style=\"display:none\"></span>\r\n"
   ],
   "metadata": {}
  },
  {
   "cell_type": "code",
   "execution_count": 25,
   "source": [
    "pi = 3.14159 # approximate\r\n",
    "diameter = 3\r\n",
    "\r\n",
    "# Create a variable called 'radius' equal to half the diameter\r\n",
    "radius = diameter/2\r\n",
    "\r\n",
    "# Create a variable called 'area', using the formula for the area of a circle: pi times the radius squared\r\n",
    "area = pi * (radius**2)\r\n",
    "\r\n",
    "# Print the result of area\r\n",
    "print(area)"
   ],
   "outputs": [
    {
     "output_type": "stream",
     "name": "stdout",
     "text": [
      "7.0685775\n"
     ]
    }
   ],
   "metadata": {}
  },
  {
   "cell_type": "markdown",
   "source": [
    "Result: area = 7.0685775"
   ],
   "metadata": {}
  },
  {
   "cell_type": "markdown",
   "source": [
    "<hr/>\r\n",
    "\r\n",
    "# 2.\r\n",
    "\r\n",
    "Add code to the following cell to swap variables `a` and `b` (so that `a` refers to the object previously referred to by `b` and vice versa)."
   ],
   "metadata": {}
  },
  {
   "cell_type": "code",
   "execution_count": 26,
   "source": [
    "########### Setup code - don't touch this part ######################\r\n",
    "# If you're curious, these are examples of lists. We'll talk about \r\n",
    "# them in depth a few lessons from now. For now, just know that they're\r\n",
    "# yet another type of Python object, like int or float.\r\n",
    "a = [1, 2, 3]\r\n",
    "b = [3, 2, 1]\r\n",
    "######################################################################\r\n",
    "\r\n",
    "# Your code goes here. Swap the values to which a and b refer.\r\n",
    "# Hint: Try using a third variable\r\n",
    "c = a\r\n",
    "a = b\r\n",
    "b = c\r\n",
    "print(a)\r\n",
    "print(b)"
   ],
   "outputs": [
    {
     "output_type": "stream",
     "name": "stdout",
     "text": [
      "[3, 2, 1]\n",
      "[1, 2, 3]\n"
     ]
    }
   ],
   "metadata": {}
  },
  {
   "cell_type": "markdown",
   "source": [
    "<hr/>\r\n",
    "\r\n",
    "# 3a.\r\n",
    "\r\n",
    "Add parentheses to the following expression so that it evaluates to 1."
   ],
   "metadata": {}
  },
  {
   "cell_type": "code",
   "execution_count": 27,
   "source": [
    "(5 - 3) // 2"
   ],
   "outputs": [
    {
     "output_type": "execute_result",
     "data": {
      "text/plain": [
       "1"
      ]
     },
     "metadata": {},
     "execution_count": 27
    }
   ],
   "metadata": {}
  },
  {
   "cell_type": "markdown",
   "source": [
    "# 3b.  <span title=\"A bit spicy\" style=\"color: darkgreen \">🌶️</span>\r\n",
    "\r\n",
    "<small>Questions, like this one, marked a spicy pepper are a bit harder.</small>\r\n",
    "\r\n",
    "Add parentheses to the following expression so that it evaluates to 0."
   ],
   "metadata": {}
  },
  {
   "cell_type": "code",
   "execution_count": 28,
   "source": [
    "8 - (3 * 2) - (1 + 1)"
   ],
   "outputs": [
    {
     "output_type": "execute_result",
     "data": {
      "text/plain": [
       "0"
      ]
     },
     "metadata": {},
     "execution_count": 28
    }
   ],
   "metadata": {}
  },
  {
   "cell_type": "markdown",
   "source": [
    "<hr/>\r\n",
    "\r\n",
    "# 4. \r\n",
    "Alice, Bob and Carol have agreed to pool their Halloween candy and split it evenly among themselves.\r\n",
    "For the sake of their friendship, any candies left over will be smashed. For example, if they collectively\r\n",
    "bring home 91 candies, they'll take 30 each and smash 1.\r\n",
    "\r\n",
    "Write an arithmetic expression below to calculate how many candies they must smash for a given haul.\r\n",
    "\r\n",
    "Hint: You'll probably want to use the modulo operator, %, to obtain the remainder of division."
   ],
   "metadata": {}
  },
  {
   "cell_type": "code",
   "execution_count": 30,
   "source": [
    "# Variables representing the number of candies collected by alice, bob, and carol\r\n",
    "alice_candies = 121\r\n",
    "bob_candies = 77\r\n",
    "carol_candies = 109\r\n",
    "\r\n",
    "# Your code goes here! Replace the right-hand side of this assignment with an expression\r\n",
    "# involving alice_candies, bob_candies, and carol_candies\r\n",
    "to_smash = (alice_candies + bob_candies + carol_candies) % 3\r\n",
    "print(to_smash)\r\n"
   ],
   "outputs": [
    {
     "output_type": "stream",
     "name": "stdout",
     "text": [
      "1\n"
     ]
    }
   ],
   "metadata": {}
  }
 ],
 "metadata": {
  "anaconda-cloud": {},
  "celltoolbar": "Edit Metadata",
  "kernelspec": {
   "name": "python3",
   "display_name": "Python 3.7.4 64-bit ('base': conda)"
  },
  "language_info": {
   "codemirror_mode": {
    "name": "ipython",
    "version": 3
   },
   "file_extension": ".py",
   "mimetype": "text/x-python",
   "name": "python",
   "nbconvert_exporter": "python",
   "pygments_lexer": "ipython3",
   "version": "3.7.4"
  },
  "learntools_metadata": {
   "lesson_index": 0,
   "type": "tutorial"
  },
  "papermill": {
   "default_parameters": {},
   "duration": 8.328042,
   "end_time": "2021-06-04T13:06:59.511024",
   "environment_variables": {},
   "exception": null,
   "input_path": "__notebook__.ipynb",
   "output_path": "__notebook__.ipynb",
   "parameters": {},
   "start_time": "2021-06-04T13:06:51.182982",
   "version": "2.3.2"
  },
  "interpreter": {
   "hash": "6ad2903d9f8eb78095a8e1054d3b7d96029c25240c1559c5c7674409ebbac066"
  }
 },
 "nbformat": 4,
 "nbformat_minor": 5
}