{
 "cells": [
  {
   "cell_type": "markdown",
   "source": [
    "You've already seen and used functions such as `print` and `abs`. But Python has many more functions, and defining your own functions is a big part of python programming.\n",
    "\n",
    "In this lesson, you will learn more about using and defining functions."
   ],
   "metadata": {
    "papermill": {
     "duration": 0.016689,
     "end_time": "2021-06-04T13:07:01.219919",
     "exception": false,
     "start_time": "2021-06-04T13:07:01.203230",
     "status": "completed"
    },
    "tags": []
   }
  },
  {
   "cell_type": "markdown",
   "source": [
    "# Getting Help\n",
    "\n",
    "You saw the `abs` function in the previous tutorial, but what if you've forgotten what it does?\n",
    "\n",
    "The `help()` function is possibly the most important Python function you can learn. If you can remember how to use `help()`, you hold the key to understanding most other functions.\n",
    "\n",
    "Here is an example:"
   ],
   "metadata": {
    "papermill": {
     "duration": 0.014473,
     "end_time": "2021-06-04T13:07:01.249807",
     "exception": false,
     "start_time": "2021-06-04T13:07:01.235334",
     "status": "completed"
    },
    "tags": []
   }
  },
  {
   "cell_type": "code",
   "execution_count": 25,
   "source": [
    "help(round)"
   ],
   "outputs": [
    {
     "output_type": "stream",
     "name": "stdout",
     "text": [
      "Help on built-in function round in module builtins:\n",
      "\n",
      "round(number, ndigits=None)\n",
      "    Round a number to a given precision in decimal digits.\n",
      "    \n",
      "    The return value is an integer if ndigits is omitted or None.  Otherwise\n",
      "    the return value has the same type as the number.  ndigits may be negative.\n",
      "\n"
     ]
    }
   ],
   "metadata": {
    "execution": {
     "iopub.execute_input": "2021-06-04T13:07:01.286608Z",
     "iopub.status.busy": "2021-06-04T13:07:01.285930Z",
     "iopub.status.idle": "2021-06-04T13:07:01.290480Z",
     "shell.execute_reply": "2021-06-04T13:07:01.289814Z"
    },
    "papermill": {
     "duration": 0.02541,
     "end_time": "2021-06-04T13:07:01.290622",
     "exception": false,
     "start_time": "2021-06-04T13:07:01.265212",
     "status": "completed"
    },
    "tags": []
   }
  },
  {
   "cell_type": "markdown",
   "source": [
    "`help()` displays two things:\n",
    "\n",
    "1. the header of that function `round(number, ndigits=None)`. In this case, this tells us that `round()` takes an argument we can describe as `number`. Additionally, we can optionally give a separate argument which could be described as `ndigits`.\n",
    "2. A brief English description of what the function does. "
   ],
   "metadata": {
    "papermill": {
     "duration": 0.016872,
     "end_time": "2021-06-04T13:07:01.323836",
     "exception": false,
     "start_time": "2021-06-04T13:07:01.306964",
     "status": "completed"
    },
    "tags": []
   }
  },
  {
   "cell_type": "markdown",
   "source": [
    "**Common pitfall:** when you're looking up a function, remember to pass in the name of the function itself, and not the result of calling that function. \n",
    "\n",
    "What happens if we invoke help on a *call* to the function `round()`? Unhide the output of the cell below to see."
   ],
   "metadata": {
    "papermill": {
     "duration": 0.016468,
     "end_time": "2021-06-04T13:07:01.355650",
     "exception": false,
     "start_time": "2021-06-04T13:07:01.339182",
     "status": "completed"
    },
    "tags": []
   }
  },
  {
   "cell_type": "code",
   "execution_count": 26,
   "source": [
    "help(round(-2.01))"
   ],
   "outputs": [
    {
     "output_type": "stream",
     "name": "stdout",
     "text": [
      "Help on int object:\n",
      "\n",
      "class int(object)\n",
      " |  int([x]) -> integer\n",
      " |  int(x, base=10) -> integer\n",
      " |  \n",
      " |  Convert a number or string to an integer, or return 0 if no arguments\n",
      " |  are given.  If x is a number, return x.__int__().  For floating point\n",
      " |  numbers, this truncates towards zero.\n",
      " |  \n",
      " |  If x is not a number or if base is given, then x must be a string,\n",
      " |  bytes, or bytearray instance representing an integer literal in the\n",
      " |  given base.  The literal can be preceded by '+' or '-' and be surrounded\n",
      " |  by whitespace.  The base defaults to 10.  Valid bases are 0 and 2-36.\n",
      " |  Base 0 means to interpret the base from the string as an integer literal.\n",
      " |  >>> int('0b100', base=0)\n",
      " |  4\n",
      " |  \n",
      " |  Methods defined here:\n",
      " |  \n",
      " |  __abs__(self, /)\n",
      " |      abs(self)\n",
      " |  \n",
      " |  __add__(self, value, /)\n",
      " |      Return self+value.\n",
      " |  \n",
      " |  __and__(self, value, /)\n",
      " |      Return self&value.\n",
      " |  \n",
      " |  __bool__(self, /)\n",
      " |      self != 0\n",
      " |  \n",
      " |  __ceil__(...)\n",
      " |      Ceiling of an Integral returns itself.\n",
      " |  \n",
      " |  __divmod__(self, value, /)\n",
      " |      Return divmod(self, value).\n",
      " |  \n",
      " |  __eq__(self, value, /)\n",
      " |      Return self==value.\n",
      " |  \n",
      " |  __float__(self, /)\n",
      " |      float(self)\n",
      " |  \n",
      " |  __floor__(...)\n",
      " |      Flooring an Integral returns itself.\n",
      " |  \n",
      " |  __floordiv__(self, value, /)\n",
      " |      Return self//value.\n",
      " |  \n",
      " |  __format__(self, format_spec, /)\n",
      " |      Default object formatter.\n",
      " |  \n",
      " |  __ge__(self, value, /)\n",
      " |      Return self>=value.\n",
      " |  \n",
      " |  __getattribute__(self, name, /)\n",
      " |      Return getattr(self, name).\n",
      " |  \n",
      " |  __getnewargs__(self, /)\n",
      " |  \n",
      " |  __gt__(self, value, /)\n",
      " |      Return self>value.\n",
      " |  \n",
      " |  __hash__(self, /)\n",
      " |      Return hash(self).\n",
      " |  \n",
      " |  __index__(self, /)\n",
      " |      Return self converted to an integer, if self is suitable for use as an index into a list.\n",
      " |  \n",
      " |  __int__(self, /)\n",
      " |      int(self)\n",
      " |  \n",
      " |  __invert__(self, /)\n",
      " |      ~self\n",
      " |  \n",
      " |  __le__(self, value, /)\n",
      " |      Return self<=value.\n",
      " |  \n",
      " |  __lshift__(self, value, /)\n",
      " |      Return self<<value.\n",
      " |  \n",
      " |  __lt__(self, value, /)\n",
      " |      Return self<value.\n",
      " |  \n",
      " |  __mod__(self, value, /)\n",
      " |      Return self%value.\n",
      " |  \n",
      " |  __mul__(self, value, /)\n",
      " |      Return self*value.\n",
      " |  \n",
      " |  __ne__(self, value, /)\n",
      " |      Return self!=value.\n",
      " |  \n",
      " |  __neg__(self, /)\n",
      " |      -self\n",
      " |  \n",
      " |  __or__(self, value, /)\n",
      " |      Return self|value.\n",
      " |  \n",
      " |  __pos__(self, /)\n",
      " |      +self\n",
      " |  \n",
      " |  __pow__(self, value, mod=None, /)\n",
      " |      Return pow(self, value, mod).\n",
      " |  \n",
      " |  __radd__(self, value, /)\n",
      " |      Return value+self.\n",
      " |  \n",
      " |  __rand__(self, value, /)\n",
      " |      Return value&self.\n",
      " |  \n",
      " |  __rdivmod__(self, value, /)\n",
      " |      Return divmod(value, self).\n",
      " |  \n",
      " |  __repr__(self, /)\n",
      " |      Return repr(self).\n",
      " |  \n",
      " |  __rfloordiv__(self, value, /)\n",
      " |      Return value//self.\n",
      " |  \n",
      " |  __rlshift__(self, value, /)\n",
      " |      Return value<<self.\n",
      " |  \n",
      " |  __rmod__(self, value, /)\n",
      " |      Return value%self.\n",
      " |  \n",
      " |  __rmul__(self, value, /)\n",
      " |      Return value*self.\n",
      " |  \n",
      " |  __ror__(self, value, /)\n",
      " |      Return value|self.\n",
      " |  \n",
      " |  __round__(...)\n",
      " |      Rounding an Integral returns itself.\n",
      " |      Rounding with an ndigits argument also returns an integer.\n",
      " |  \n",
      " |  __rpow__(self, value, mod=None, /)\n",
      " |      Return pow(value, self, mod).\n",
      " |  \n",
      " |  __rrshift__(self, value, /)\n",
      " |      Return value>>self.\n",
      " |  \n",
      " |  __rshift__(self, value, /)\n",
      " |      Return self>>value.\n",
      " |  \n",
      " |  __rsub__(self, value, /)\n",
      " |      Return value-self.\n",
      " |  \n",
      " |  __rtruediv__(self, value, /)\n",
      " |      Return value/self.\n",
      " |  \n",
      " |  __rxor__(self, value, /)\n",
      " |      Return value^self.\n",
      " |  \n",
      " |  __sizeof__(self, /)\n",
      " |      Returns size in memory, in bytes.\n",
      " |  \n",
      " |  __str__(self, /)\n",
      " |      Return str(self).\n",
      " |  \n",
      " |  __sub__(self, value, /)\n",
      " |      Return self-value.\n",
      " |  \n",
      " |  __truediv__(self, value, /)\n",
      " |      Return self/value.\n",
      " |  \n",
      " |  __trunc__(...)\n",
      " |      Truncating an Integral returns itself.\n",
      " |  \n",
      " |  __xor__(self, value, /)\n",
      " |      Return self^value.\n",
      " |  \n",
      " |  bit_length(self, /)\n",
      " |      Number of bits necessary to represent self in binary.\n",
      " |      \n",
      " |      >>> bin(37)\n",
      " |      '0b100101'\n",
      " |      >>> (37).bit_length()\n",
      " |      6\n",
      " |  \n",
      " |  conjugate(...)\n",
      " |      Returns self, the complex conjugate of any int.\n",
      " |  \n",
      " |  to_bytes(self, /, length, byteorder, *, signed=False)\n",
      " |      Return an array of bytes representing an integer.\n",
      " |      \n",
      " |      length\n",
      " |        Length of bytes object to use.  An OverflowError is raised if the\n",
      " |        integer is not representable with the given number of bytes.\n",
      " |      byteorder\n",
      " |        The byte order used to represent the integer.  If byteorder is 'big',\n",
      " |        the most significant byte is at the beginning of the byte array.  If\n",
      " |        byteorder is 'little', the most significant byte is at the end of the\n",
      " |        byte array.  To request the native byte order of the host system, use\n",
      " |        `sys.byteorder' as the byte order value.\n",
      " |      signed\n",
      " |        Determines whether two's complement is used to represent the integer.\n",
      " |        If signed is False and a negative integer is given, an OverflowError\n",
      " |        is raised.\n",
      " |  \n",
      " |  ----------------------------------------------------------------------\n",
      " |  Class methods defined here:\n",
      " |  \n",
      " |  from_bytes(bytes, byteorder, *, signed=False) from builtins.type\n",
      " |      Return the integer represented by the given array of bytes.\n",
      " |      \n",
      " |      bytes\n",
      " |        Holds the array of bytes to convert.  The argument must either\n",
      " |        support the buffer protocol or be an iterable object producing bytes.\n",
      " |        Bytes and bytearray are examples of built-in objects that support the\n",
      " |        buffer protocol.\n",
      " |      byteorder\n",
      " |        The byte order used to represent the integer.  If byteorder is 'big',\n",
      " |        the most significant byte is at the beginning of the byte array.  If\n",
      " |        byteorder is 'little', the most significant byte is at the end of the\n",
      " |        byte array.  To request the native byte order of the host system, use\n",
      " |        `sys.byteorder' as the byte order value.\n",
      " |      signed\n",
      " |        Indicates whether two's complement is used to represent the integer.\n",
      " |  \n",
      " |  ----------------------------------------------------------------------\n",
      " |  Static methods defined here:\n",
      " |  \n",
      " |  __new__(*args, **kwargs) from builtins.type\n",
      " |      Create and return a new object.  See help(type) for accurate signature.\n",
      " |  \n",
      " |  ----------------------------------------------------------------------\n",
      " |  Data descriptors defined here:\n",
      " |  \n",
      " |  denominator\n",
      " |      the denominator of a rational number in lowest terms\n",
      " |  \n",
      " |  imag\n",
      " |      the imaginary part of a complex number\n",
      " |  \n",
      " |  numerator\n",
      " |      the numerator of a rational number in lowest terms\n",
      " |  \n",
      " |  real\n",
      " |      the real part of a complex number\n",
      "\n"
     ]
    }
   ],
   "metadata": {
    "_kg_hide-output": true,
    "collapsed": true,
    "execution": {
     "iopub.execute_input": "2021-06-04T13:07:01.389666Z",
     "iopub.status.busy": "2021-06-04T13:07:01.389082Z",
     "iopub.status.idle": "2021-06-04T13:07:01.410655Z",
     "shell.execute_reply": "2021-06-04T13:07:01.411076Z"
    },
    "papermill": {
     "duration": 0.040074,
     "end_time": "2021-06-04T13:07:01.411255",
     "exception": false,
     "start_time": "2021-06-04T13:07:01.371181",
     "status": "completed"
    },
    "tags": []
   }
  },
  {
   "cell_type": "markdown",
   "source": [
    "Python evaluates an expression like this from the inside out. First it calculates the value of `round(-2.01)`, then it provides help on the output of that expression.\n",
    "\n",
    "<small>(And it turns out to have a lot to say about integers! After we talk later about objects, methods, and attributes in Python, the help output above will make more sense.)</small>\n",
    "\n",
    "`round` is a very simple function with a short docstring. `help` shines even more when dealing with more complex, configurable functions like `print`. Don't worry if the following output looks inscrutable... for now, just see if you can pick anything new out from this help."
   ],
   "metadata": {
    "papermill": {
     "duration": 0.016305,
     "end_time": "2021-06-04T13:07:01.443866",
     "exception": false,
     "start_time": "2021-06-04T13:07:01.427561",
     "status": "completed"
    },
    "tags": []
   }
  },
  {
   "cell_type": "code",
   "execution_count": 27,
   "source": [
    "help(print)"
   ],
   "outputs": [
    {
     "output_type": "stream",
     "name": "stdout",
     "text": [
      "Help on built-in function print in module builtins:\n",
      "\n",
      "print(...)\n",
      "    print(value, ..., sep=' ', end='\\n', file=sys.stdout, flush=False)\n",
      "    \n",
      "    Prints the values to a stream, or to sys.stdout by default.\n",
      "    Optional keyword arguments:\n",
      "    file:  a file-like object (stream); defaults to the current sys.stdout.\n",
      "    sep:   string inserted between values, default a space.\n",
      "    end:   string appended after the last value, default a newline.\n",
      "    flush: whether to forcibly flush the stream.\n",
      "\n"
     ]
    }
   ],
   "metadata": {
    "collapsed": true,
    "execution": {
     "iopub.execute_input": "2021-06-04T13:07:01.482910Z",
     "iopub.status.busy": "2021-06-04T13:07:01.482294Z",
     "iopub.status.idle": "2021-06-04T13:07:01.488987Z",
     "shell.execute_reply": "2021-06-04T13:07:01.488433Z"
    },
    "papermill": {
     "duration": 0.028274,
     "end_time": "2021-06-04T13:07:01.489148",
     "exception": false,
     "start_time": "2021-06-04T13:07:01.460874",
     "status": "completed"
    },
    "tags": []
   }
  },
  {
   "cell_type": "markdown",
   "source": [
    "If you were looking for it, you might learn that print can take an argument called `sep`, and that this describes what we put between all the other arguments when we print them."
   ],
   "metadata": {
    "papermill": {
     "duration": 0.016796,
     "end_time": "2021-06-04T13:07:01.523658",
     "exception": false,
     "start_time": "2021-06-04T13:07:01.506862",
     "status": "completed"
    },
    "tags": []
   }
  },
  {
   "cell_type": "markdown",
   "source": [
    "## Defining functions\n",
    "\n",
    "Builtin functions are great, but we can only get so far with them before we need to start defining our own functions. Below is a simple example."
   ],
   "metadata": {
    "papermill": {
     "duration": 0.016637,
     "end_time": "2021-06-04T13:07:01.557705",
     "exception": false,
     "start_time": "2021-06-04T13:07:01.541068",
     "status": "completed"
    },
    "tags": []
   }
  },
  {
   "cell_type": "code",
   "execution_count": 28,
   "source": [
    "def least_difference(a, b, c):\r\n",
    "    diff1 = abs(a - b)\r\n",
    "    diff2 = abs(b - c)\r\n",
    "    diff3 = abs(a - c)\r\n",
    "    return min(diff1, diff2, diff3)"
   ],
   "outputs": [],
   "metadata": {
    "collapsed": true,
    "execution": {
     "iopub.execute_input": "2021-06-04T13:07:01.593817Z",
     "iopub.status.busy": "2021-06-04T13:07:01.593252Z",
     "iopub.status.idle": "2021-06-04T13:07:01.597251Z",
     "shell.execute_reply": "2021-06-04T13:07:01.597682Z"
    },
    "papermill": {
     "duration": 0.02383,
     "end_time": "2021-06-04T13:07:01.597838",
     "exception": false,
     "start_time": "2021-06-04T13:07:01.574008",
     "status": "completed"
    },
    "tags": []
   }
  },
  {
   "cell_type": "markdown",
   "source": [
    "This creates a function called `least_difference`, which takes three arguments, `a`, `b`, and `c`.\n",
    "\n",
    "Functions start with a header introduced by the `def` keyword. The indented block of code following the `:` is run when the function is called.\n",
    "\n",
    "`return` is another keyword uniquely associated with functions. When Python encounters a `return` statement, it exits the function immediately, and passes the value on the right hand side to the calling context.\n",
    "\n",
    "Is it clear what `least_difference()` does from the source code? If we're not sure, we can always try it out on a few examples:"
   ],
   "metadata": {
    "papermill": {
     "duration": 0.016019,
     "end_time": "2021-06-04T13:07:01.630209",
     "exception": false,
     "start_time": "2021-06-04T13:07:01.614190",
     "status": "completed"
    },
    "tags": []
   }
  },
  {
   "cell_type": "code",
   "execution_count": 29,
   "source": [
    "print(\r\n",
    "    least_difference(1, 10, 100),\r\n",
    "    least_difference(1, 10, 10),\r\n",
    "    least_difference(5, 6, 7), # Python allows trailing commas in argument lists. How nice is that?\r\n",
    ")"
   ],
   "outputs": [
    {
     "output_type": "stream",
     "name": "stdout",
     "text": [
      "9 0 1\n"
     ]
    }
   ],
   "metadata": {
    "collapsed": true,
    "execution": {
     "iopub.execute_input": "2021-06-04T13:07:01.665624Z",
     "iopub.status.busy": "2021-06-04T13:07:01.665044Z",
     "iopub.status.idle": "2021-06-04T13:07:01.670831Z",
     "shell.execute_reply": "2021-06-04T13:07:01.671282Z"
    },
    "papermill": {
     "duration": 0.024717,
     "end_time": "2021-06-04T13:07:01.671451",
     "exception": false,
     "start_time": "2021-06-04T13:07:01.646734",
     "status": "completed"
    },
    "tags": []
   }
  },
  {
   "cell_type": "markdown",
   "source": [
    "Or maybe the `help()` function can tell us something about it."
   ],
   "metadata": {
    "papermill": {
     "duration": 0.017819,
     "end_time": "2021-06-04T13:07:01.706845",
     "exception": false,
     "start_time": "2021-06-04T13:07:01.689026",
     "status": "completed"
    },
    "tags": []
   }
  },
  {
   "cell_type": "code",
   "execution_count": 30,
   "source": [
    "help(least_difference)"
   ],
   "outputs": [
    {
     "output_type": "stream",
     "name": "stdout",
     "text": [
      "Help on function least_difference in module __main__:\n",
      "\n",
      "least_difference(a, b, c)\n",
      "\n"
     ]
    }
   ],
   "metadata": {
    "collapsed": true,
    "execution": {
     "iopub.execute_input": "2021-06-04T13:07:01.745025Z",
     "iopub.status.busy": "2021-06-04T13:07:01.744433Z",
     "iopub.status.idle": "2021-06-04T13:07:01.749338Z",
     "shell.execute_reply": "2021-06-04T13:07:01.749796Z"
    },
    "papermill": {
     "duration": 0.026026,
     "end_time": "2021-06-04T13:07:01.749975",
     "exception": false,
     "start_time": "2021-06-04T13:07:01.723949",
     "status": "completed"
    },
    "tags": []
   }
  },
  {
   "cell_type": "markdown",
   "source": [
    "Python isn't smart enough to read my code and turn it into a nice English description. However, when I write a function, I can provide a description in what's called the **docstring**.\n",
    "\n",
    "### Docstrings"
   ],
   "metadata": {
    "papermill": {
     "duration": 0.017219,
     "end_time": "2021-06-04T13:07:01.785072",
     "exception": false,
     "start_time": "2021-06-04T13:07:01.767853",
     "status": "completed"
    },
    "tags": []
   }
  },
  {
   "cell_type": "code",
   "execution_count": 31,
   "source": [
    "def least_difference(a, b, c):\r\n",
    "    \"\"\"Return the smallest difference between any two numbers\r\n",
    "    among a, b and c.\r\n",
    "    \r\n",
    "    >>> least_difference(1, 5, -5)\r\n",
    "    4\r\n",
    "    \"\"\"\r\n",
    "    diff1 = abs(a - b)\r\n",
    "    diff2 = abs(b - c)\r\n",
    "    diff3 = abs(a - c)\r\n",
    "    return min(diff1, diff2, diff3)"
   ],
   "outputs": [],
   "metadata": {
    "collapsed": true,
    "execution": {
     "iopub.execute_input": "2021-06-04T13:07:01.823324Z",
     "iopub.status.busy": "2021-06-04T13:07:01.822741Z",
     "iopub.status.idle": "2021-06-04T13:07:01.827188Z",
     "shell.execute_reply": "2021-06-04T13:07:01.827628Z"
    },
    "papermill": {
     "duration": 0.024193,
     "end_time": "2021-06-04T13:07:01.827786",
     "exception": false,
     "start_time": "2021-06-04T13:07:01.803593",
     "status": "completed"
    },
    "tags": []
   }
  },
  {
   "cell_type": "markdown",
   "source": [
    "The docstring is a triple-quoted string (which may span multiple lines) that comes immediately after the header of a function. When we call `help()` on a function, it shows the docstring."
   ],
   "metadata": {
    "papermill": {
     "duration": 0.0171,
     "end_time": "2021-06-04T13:07:01.862487",
     "exception": false,
     "start_time": "2021-06-04T13:07:01.845387",
     "status": "completed"
    },
    "tags": []
   }
  },
  {
   "cell_type": "code",
   "execution_count": 32,
   "source": [
    "help(least_difference)"
   ],
   "outputs": [
    {
     "output_type": "stream",
     "name": "stdout",
     "text": [
      "Help on function least_difference in module __main__:\n",
      "\n",
      "least_difference(a, b, c)\n",
      "    Return the smallest difference between any two numbers\n",
      "    among a, b and c.\n",
      "    \n",
      "    >>> least_difference(1, 5, -5)\n",
      "    4\n",
      "\n"
     ]
    }
   ],
   "metadata": {
    "collapsed": true,
    "execution": {
     "iopub.execute_input": "2021-06-04T13:07:01.901236Z",
     "iopub.status.busy": "2021-06-04T13:07:01.900608Z",
     "iopub.status.idle": "2021-06-04T13:07:01.906769Z",
     "shell.execute_reply": "2021-06-04T13:07:01.906256Z"
    },
    "papermill": {
     "duration": 0.026344,
     "end_time": "2021-06-04T13:07:01.906900",
     "exception": false,
     "start_time": "2021-06-04T13:07:01.880556",
     "status": "completed"
    },
    "tags": []
   }
  },
  {
   "cell_type": "markdown",
   "source": [
    "> **Aside:**\n",
    "> The last two lines of the docstring are an example function call and result. (The `>>>` is a reference to the command prompt used in Python interactive shells.) Python doesn't run the example call - it's just there for the benefit of the reader. The convention of including 1 or more example calls in a function's docstring is far from universally observed, but it can be very effective at helping someone understand your function. For a real-world example, see [this docstring for the numpy function `np.eye`](https://github.com/numpy/numpy/blob/v1.14.2/numpy/lib/twodim_base.py#L140-L194)."
   ],
   "metadata": {
    "papermill": {
     "duration": 0.018388,
     "end_time": "2021-06-04T13:07:01.943317",
     "exception": false,
     "start_time": "2021-06-04T13:07:01.924929",
     "status": "completed"
    },
    "tags": []
   }
  },
  {
   "cell_type": "markdown",
   "source": [
    "Good programmers use docstrings unless they expect to throw away the code soon after it's used (which is rare).  So, you should start writing docstrings, too!"
   ],
   "metadata": {
    "papermill": {
     "duration": 0.016899,
     "end_time": "2021-06-04T13:07:01.977510",
     "exception": false,
     "start_time": "2021-06-04T13:07:01.960611",
     "status": "completed"
    },
    "tags": []
   }
  },
  {
   "cell_type": "markdown",
   "source": [
    "## Functions that don't return\n",
    "\n",
    "What would happen if we didn't include the `return` keyword in our function?"
   ],
   "metadata": {
    "papermill": {
     "duration": 0.017628,
     "end_time": "2021-06-04T13:07:02.012295",
     "exception": false,
     "start_time": "2021-06-04T13:07:01.994667",
     "status": "completed"
    },
    "tags": []
   }
  },
  {
   "cell_type": "code",
   "execution_count": 33,
   "source": [
    "def least_difference(a, b, c):\r\n",
    "    \"\"\"Return the smallest difference between any two numbers\r\n",
    "    among a, b and c.\r\n",
    "    \"\"\"\r\n",
    "    diff1 = abs(a - b)\r\n",
    "    diff2 = abs(b - c)\r\n",
    "    diff3 = abs(a - c)\r\n",
    "    min(diff1, diff2, diff3)\r\n",
    "    \r\n",
    "print(\r\n",
    "    least_difference(1, 10, 100),\r\n",
    "    least_difference(1, 10, 10),\r\n",
    "    least_difference(5, 6, 7),\r\n",
    ")"
   ],
   "outputs": [
    {
     "output_type": "stream",
     "name": "stdout",
     "text": [
      "None None None\n"
     ]
    }
   ],
   "metadata": {
    "collapsed": true,
    "execution": {
     "iopub.execute_input": "2021-06-04T13:07:02.050113Z",
     "iopub.status.busy": "2021-06-04T13:07:02.049557Z",
     "iopub.status.idle": "2021-06-04T13:07:02.057429Z",
     "shell.execute_reply": "2021-06-04T13:07:02.056775Z"
    },
    "papermill": {
     "duration": 0.028061,
     "end_time": "2021-06-04T13:07:02.057580",
     "exception": false,
     "start_time": "2021-06-04T13:07:02.029519",
     "status": "completed"
    },
    "tags": []
   }
  },
  {
   "cell_type": "markdown",
   "source": [
    "Python allows us to define such functions. The result of calling them is the special value `None`. (This is similar to the concept of \"null\" in other languages.)\n",
    "\n",
    "Without a `return` statement, `least_difference` is completely pointless, but a function with side effects may do something useful without returning anything. We've already seen two examples of this: `print()` and `help()` don't return anything. We only call them for their side effects (putting some text on the screen). Other examples of useful side effects include writing to a file, or modifying an input."
   ],
   "metadata": {
    "papermill": {
     "duration": 0.018074,
     "end_time": "2021-06-04T13:07:02.094549",
     "exception": false,
     "start_time": "2021-06-04T13:07:02.076475",
     "status": "completed"
    },
    "tags": []
   }
  },
  {
   "cell_type": "code",
   "execution_count": 34,
   "source": [
    "mystery = print()\r\n",
    "print(mystery)"
   ],
   "outputs": [
    {
     "output_type": "stream",
     "name": "stdout",
     "text": [
      "\n",
      "None\n"
     ]
    }
   ],
   "metadata": {
    "collapsed": true,
    "execution": {
     "iopub.execute_input": "2021-06-04T13:07:02.138061Z",
     "iopub.status.busy": "2021-06-04T13:07:02.137459Z",
     "iopub.status.idle": "2021-06-04T13:07:02.139967Z",
     "shell.execute_reply": "2021-06-04T13:07:02.140443Z"
    },
    "papermill": {
     "duration": 0.026436,
     "end_time": "2021-06-04T13:07:02.140642",
     "exception": false,
     "start_time": "2021-06-04T13:07:02.114206",
     "status": "completed"
    },
    "tags": []
   }
  },
  {
   "cell_type": "markdown",
   "source": [
    "## Default arguments\n",
    "\n",
    "When we called `help(print)`, we saw that the `print` function has several optional arguments. For example, we can specify a value for `sep` to put some special string in between our printed arguments:"
   ],
   "metadata": {
    "papermill": {
     "duration": 0.017953,
     "end_time": "2021-06-04T13:07:02.177308",
     "exception": false,
     "start_time": "2021-06-04T13:07:02.159355",
     "status": "completed"
    },
    "tags": []
   }
  },
  {
   "cell_type": "code",
   "execution_count": 35,
   "source": [
    "print(1, 2, 3, sep=' < ')"
   ],
   "outputs": [
    {
     "output_type": "stream",
     "name": "stdout",
     "text": [
      "1 < 2 < 3\n"
     ]
    }
   ],
   "metadata": {
    "collapsed": true,
    "execution": {
     "iopub.execute_input": "2021-06-04T13:07:02.219583Z",
     "iopub.status.busy": "2021-06-04T13:07:02.218953Z",
     "iopub.status.idle": "2021-06-04T13:07:02.223961Z",
     "shell.execute_reply": "2021-06-04T13:07:02.224630Z"
    },
    "papermill": {
     "duration": 0.028529,
     "end_time": "2021-06-04T13:07:02.224831",
     "exception": false,
     "start_time": "2021-06-04T13:07:02.196302",
     "status": "completed"
    },
    "tags": []
   }
  },
  {
   "cell_type": "markdown",
   "source": [
    "But if we don't specify a value, `sep` is treated as having a default value of `' '` (a single space)."
   ],
   "metadata": {
    "papermill": {
     "duration": 0.01908,
     "end_time": "2021-06-04T13:07:02.261948",
     "exception": false,
     "start_time": "2021-06-04T13:07:02.242868",
     "status": "completed"
    },
    "tags": []
   }
  },
  {
   "cell_type": "code",
   "execution_count": 36,
   "source": [
    "print(1, 2, 3)"
   ],
   "outputs": [
    {
     "output_type": "stream",
     "name": "stdout",
     "text": [
      "1 2 3\n"
     ]
    }
   ],
   "metadata": {
    "collapsed": true,
    "execution": {
     "iopub.execute_input": "2021-06-04T13:07:02.302259Z",
     "iopub.status.busy": "2021-06-04T13:07:02.301713Z",
     "iopub.status.idle": "2021-06-04T13:07:02.306819Z",
     "shell.execute_reply": "2021-06-04T13:07:02.307301Z"
    },
    "papermill": {
     "duration": 0.026365,
     "end_time": "2021-06-04T13:07:02.307474",
     "exception": false,
     "start_time": "2021-06-04T13:07:02.281109",
     "status": "completed"
    },
    "tags": []
   }
  },
  {
   "cell_type": "markdown",
   "source": [
    "Adding optional arguments with default values to the functions we define turns out to be pretty easy:"
   ],
   "metadata": {
    "papermill": {
     "duration": 0.018414,
     "end_time": "2021-06-04T13:07:02.344425",
     "exception": false,
     "start_time": "2021-06-04T13:07:02.326011",
     "status": "completed"
    },
    "tags": []
   }
  },
  {
   "cell_type": "code",
   "execution_count": 37,
   "source": [
    "def greet(who=\"Colin\"):\r\n",
    "    print(\"Hello,\", who)\r\n",
    "    \r\n",
    "greet()\r\n",
    "greet(who=\"Google Colab\")\r\n",
    "# (In this case, we don't need to specify the name of the argument, because it's unambiguous.)\r\n",
    "greet(\"world\")"
   ],
   "outputs": [
    {
     "output_type": "stream",
     "name": "stdout",
     "text": [
      "Hello, Colin\n",
      "Hello, Google Colab\n",
      "Hello, world\n"
     ]
    }
   ],
   "metadata": {
    "collapsed": true,
    "execution": {
     "iopub.execute_input": "2021-06-04T13:07:02.385777Z",
     "iopub.status.busy": "2021-06-04T13:07:02.385243Z",
     "iopub.status.idle": "2021-06-04T13:07:02.390897Z",
     "shell.execute_reply": "2021-06-04T13:07:02.391305Z"
    },
    "papermill": {
     "duration": 0.027325,
     "end_time": "2021-06-04T13:07:02.391468",
     "exception": false,
     "start_time": "2021-06-04T13:07:02.364143",
     "status": "completed"
    },
    "tags": []
   }
  },
  {
   "cell_type": "markdown",
   "source": [
    "## Functions Applied to Functions\n",
    "\n",
    "Here's something that's powerful, though it can feel very abstract at first.  You can supply functions as arguments to other functions.  Some example may make this clearer:"
   ],
   "metadata": {
    "papermill": {
     "duration": 0.019214,
     "end_time": "2021-06-04T13:07:02.429919",
     "exception": false,
     "start_time": "2021-06-04T13:07:02.410705",
     "status": "completed"
    },
    "tags": []
   }
  },
  {
   "cell_type": "code",
   "execution_count": 38,
   "source": [
    "def mult_by_five(x):\r\n",
    "    return 5 * x\r\n",
    "\r\n",
    "def call(fn, arg):\r\n",
    "    \"\"\"Call fn on arg\"\"\"\r\n",
    "    return fn(arg)\r\n",
    "\r\n",
    "def squared_call(fn, arg):\r\n",
    "    \"\"\"Call fn on the result of calling fn on arg\"\"\"\r\n",
    "    return fn(fn(arg))\r\n",
    "\r\n",
    "print(\r\n",
    "    call(mult_by_five, 1),\r\n",
    "    squared_call(mult_by_five, 1), \r\n",
    "    sep='\\n', # '\\n' is the newline character - it starts a new line\r\n",
    ")"
   ],
   "outputs": [
    {
     "output_type": "stream",
     "name": "stdout",
     "text": [
      "5\n",
      "25\n"
     ]
    }
   ],
   "metadata": {
    "collapsed": true,
    "execution": {
     "iopub.execute_input": "2021-06-04T13:07:02.472090Z",
     "iopub.status.busy": "2021-06-04T13:07:02.471312Z",
     "iopub.status.idle": "2021-06-04T13:07:02.478770Z",
     "shell.execute_reply": "2021-06-04T13:07:02.478140Z"
    },
    "papermill": {
     "duration": 0.029294,
     "end_time": "2021-06-04T13:07:02.478915",
     "exception": false,
     "start_time": "2021-06-04T13:07:02.449621",
     "status": "completed"
    },
    "tags": []
   }
  },
  {
   "cell_type": "markdown",
   "source": [
    "Functions that operate on other functions are called \"higher-order functions.\" You probably won't write your own for a little while. But there are higher-order functions built into Python that you might find useful to call. \n",
    "\n",
    "Here's an interesting example using the `max` function.\n",
    "\n",
    "By default, `max` returns the largest of its arguments. But if we pass in a function using the optional `key` argument, it returns the argument `x` that maximizes `key(x)` (aka the 'argmax')."
   ],
   "metadata": {
    "papermill": {
     "duration": 0.01971,
     "end_time": "2021-06-04T13:07:02.518487",
     "exception": false,
     "start_time": "2021-06-04T13:07:02.498777",
     "status": "completed"
    },
    "tags": []
   }
  },
  {
   "cell_type": "code",
   "execution_count": 39,
   "source": [
    "def mod_5(x):\r\n",
    "    \"\"\"Return the remainder of x after dividing by 5\"\"\"\r\n",
    "    return x % 5\r\n",
    "\r\n",
    "print(\r\n",
    "    'Which number is biggest?',\r\n",
    "    max(100, 51, 14),\r\n",
    "    'Which number is the biggest modulo 5?',\r\n",
    "    max(100, 51, 14, key=mod_5),\r\n",
    "    sep='\\n',\r\n",
    ")"
   ],
   "outputs": [
    {
     "output_type": "stream",
     "name": "stdout",
     "text": [
      "Which number is biggest?\n",
      "100\n",
      "Which number is the biggest modulo 5?\n",
      "14\n"
     ]
    }
   ],
   "metadata": {
    "collapsed": true,
    "execution": {
     "iopub.execute_input": "2021-06-04T13:07:02.564347Z",
     "iopub.status.busy": "2021-06-04T13:07:02.563289Z",
     "iopub.status.idle": "2021-06-04T13:07:02.567044Z",
     "shell.execute_reply": "2021-06-04T13:07:02.566486Z"
    },
    "papermill": {
     "duration": 0.028025,
     "end_time": "2021-06-04T13:07:02.567202",
     "exception": false,
     "start_time": "2021-06-04T13:07:02.539177",
     "status": "completed"
    },
    "tags": []
   }
  },
  {
   "cell_type": "markdown",
   "source": [
    "# Exercise\r\n",
    "\r\n",
    "Functions are powerful. Try writing some yourself."
   ],
   "metadata": {}
  },
  {
   "cell_type": "markdown",
   "source": [
    "## 1.\r\n",
    "\r\n",
    "Complete the body of the following function according to its docstring.\r\n",
    "\r\n",
    "HINT: Python has a built-in function `round`."
   ],
   "metadata": {}
  },
  {
   "cell_type": "code",
   "execution_count": 40,
   "source": [
    "def round_to_two_places(num):\r\n",
    "    \"\"\"Return the given number rounded to two decimal places. \r\n",
    "    \r\n",
    "    >>> round_to_two_places(3.14159)\r\n",
    "    3.14\r\n",
    "    \"\"\"\r\n",
    "    # Replace this body with your own code.\r\n",
    "    # (\"pass\" is a keyword that does literally nothing. We used it as a placeholder\r\n",
    "    # because after we begin a code block, Python requires at least one line of code)\r\n",
    "    pass"
   ],
   "outputs": [],
   "metadata": {}
  },
  {
   "cell_type": "code",
   "execution_count": 42,
   "source": [
    "#Enter a number into a round bracket and run the code\r\n",
    "round_to_two_places()"
   ],
   "outputs": [],
   "metadata": {}
  },
  {
   "cell_type": "markdown",
   "source": [
    "## 2.\r\n",
    "The help for `round` says that `ndigits` (the second argument) may be negative.\r\n",
    "What do you think will happen when it is? Try some examples in the following cell."
   ],
   "metadata": {}
  },
  {
   "cell_type": "code",
   "execution_count": null,
   "source": [
    "# Put your test code here"
   ],
   "outputs": [],
   "metadata": {}
  },
  {
   "cell_type": "markdown",
   "source": [
    "## 3.\r\n",
    "\r\n",
    "In the previous exercise, the candy-sharing friends Alice, Bob and Carol tried to split candies evenly. For the sake of their friendship, any candies left over would be smashed. For example, if they collectively bring home 91 candies, they'll take 30 each and smash 1.\r\n",
    "\r\n",
    "Below is a simple function that will calculate the number of candies to smash for *any* number of total candies.\r\n",
    "\r\n",
    "Modify it so that it optionally takes a second argument representing the number of friends the candies are being split between. If no second argument is provided, it should assume 3 friends, as before.\r\n",
    "\r\n",
    "Update the docstring to reflect this new behaviour."
   ],
   "metadata": {}
  },
  {
   "cell_type": "code",
   "execution_count": null,
   "source": [
    "def to_smash(total_candies):\r\n",
    "    \"\"\"Return the number of leftover candies that must be smashed after distributing\r\n",
    "    the given number of candies evenly between 3 friends.\r\n",
    "    \r\n",
    "    >>> to_smash(91)\r\n",
    "    1\r\n",
    "    \"\"\"\r\n",
    "    return total_candies % 3"
   ],
   "outputs": [],
   "metadata": {}
  },
  {
   "cell_type": "markdown",
   "source": [
    "## 4. Taste some Errors\r\n",
    "\r\n",
    "It may not be fun, but reading and understanding error messages will be an important part of your Python career.\r\n",
    "\r\n",
    "Each code cell below contains some commented buggy code. For each cell...\r\n",
    "\r\n",
    "1. Read the code and predict what you think will happen when it's run.\r\n",
    "2. Then uncomment the code and run it to see what happens. (**Tip**: In the kernel editor, you can highlight several lines and press `ctrl`+`/` to toggle commenting.)\r\n",
    "3. Fix the code (so that it accomplishes its intended purpose without throwing an exception)"
   ],
   "metadata": {}
  },
  {
   "cell_type": "code",
   "execution_count": null,
   "source": [
    "# ruound_to_two_places(9.9999)"
   ],
   "outputs": [],
   "metadata": {}
  },
  {
   "cell_type": "code",
   "execution_count": null,
   "source": [
    "# x = -10\r\n",
    "# y = 5\r\n",
    "# # Which of the two variables above has the smallest absolute value?\r\n",
    "# smallest_abs = min(abs(x, y))"
   ],
   "outputs": [],
   "metadata": {}
  },
  {
   "cell_type": "code",
   "execution_count": null,
   "source": [
    "# def f(x):\r\n",
    "#     y = abs(x)\r\n",
    "# return y\r\n",
    "\r\n",
    "# print(f(5))"
   ],
   "outputs": [],
   "metadata": {}
  },
  {
   "cell_type": "markdown",
   "source": [
    "## 5. More and more Functions\r\n",
    "\r\n",
    "For this question, we'll be using two functions imported from Python's `time` module.\r\n",
    "\r\n",
    "### Time Function\r\n",
    "The [time](https://docs.python.org/3/library/time.html#time.time) function returns the number of seconds that have passed since the Epoch (aka [Unix time](https://en.wikipedia.org/wiki/Unix_time)). \r\n",
    "\r\n",
    "<!-- We've provided a function called `seconds_since_epoch` which returns the number of seconds that have passed since the Epoch (aka [Unix time](https://en.wikipedia.org/wiki/Unix_time)). -->\r\n",
    "\r\n",
    "Try it out below. Each time you run it, you should get a slightly larger number."
   ],
   "metadata": {}
  },
  {
   "cell_type": "code",
   "execution_count": null,
   "source": [
    "# Importing the function 'time' from the module of the same name. \r\n",
    "# (We'll discuss imports in more depth later)\r\n",
    "from time import time\r\n",
    "t = time()\r\n",
    "print(t, \"seconds since the Epoch\")"
   ],
   "outputs": [],
   "metadata": {}
  },
  {
   "cell_type": "markdown",
   "source": [
    "### Sleep Function\r\n",
    "We'll also be using a function called [sleep](https://docs.python.org/3/library/time.html#time.sleep), which makes us wait some number of seconds while it does nothing particular. (Sounds useful, right?)\r\n",
    "\r\n",
    "You can see it in action by running the cell below:"
   ],
   "metadata": {}
  },
  {
   "cell_type": "code",
   "execution_count": null,
   "source": [
    "from time import sleep\r\n",
    "duration = 5\r\n",
    "print(\"Getting sleepy. See you in\", duration, \"seconds\")\r\n",
    "sleep(duration)\r\n",
    "print(\"I'm back. What did I miss?\")"
   ],
   "outputs": [],
   "metadata": {}
  },
  {
   "cell_type": "markdown",
   "source": [
    "### Your Own Function\r\n",
    "With the help of these functions, complete the function **`time_call`** below according to its docstring.\r\n",
    "\r\n",
    "<!-- (The sleep function will be useful for testing here since we have a pretty good idea of what something like `time_call(sleep, 1)` should return.) -->"
   ],
   "metadata": {}
  },
  {
   "cell_type": "code",
   "execution_count": null,
   "source": [
    "import time\r\n",
    "def time_call(fn, arg):\r\n",
    "    \"\"\"Return the amount of time the given function takes (in seconds) when called with the given argument.\r\n",
    "    \"\"\"\r\n",
    "    pass"
   ],
   "outputs": [],
   "metadata": {}
  },
  {
   "cell_type": "markdown",
   "source": [
    "How would you verify that `time_call` is working correctly? Think about it..."
   ],
   "metadata": {}
  },
  {
   "cell_type": "markdown",
   "source": [
    "## 6. 🌶️ Reuse your Function\r\n",
    "\r\n",
    "*Note: this question depends on a working solution to the previous question.*\r\n",
    "\r\n",
    "Complete the function below according to its docstring."
   ],
   "metadata": {}
  },
  {
   "cell_type": "code",
   "execution_count": null,
   "source": [
    "def slowest_call(fn, arg1, arg2, arg3):\r\n",
    "    \"\"\"Return the amount of time taken by the slowest of the following function\r\n",
    "    calls: fn(arg1), fn(arg2), fn(arg3)\r\n",
    "    \r\n",
    "    \"\"\"\r\n",
    "    pass"
   ],
   "outputs": [],
   "metadata": {}
  },
  {
   "cell_type": "markdown",
   "source": [
    "# Keep Going"
   ],
   "metadata": {}
  }
 ],
 "metadata": {
  "kernelspec": {
   "name": "python3",
   "display_name": "Python 3.7.4 64-bit ('base': conda)"
  },
  "language_info": {
   "codemirror_mode": {
    "name": "ipython",
    "version": 3
   },
   "file_extension": ".py",
   "mimetype": "text/x-python",
   "name": "python",
   "nbconvert_exporter": "python",
   "pygments_lexer": "ipython3",
   "version": "3.7.4"
  },
  "learntools_metadata": {
   "lesson_index": 1,
   "type": "tutorial"
  },
  "papermill": {
   "default_parameters": {},
   "duration": 7.842213,
   "end_time": "2021-06-04T13:07:03.273546",
   "environment_variables": {},
   "exception": null,
   "input_path": "__notebook__.ipynb",
   "output_path": "__notebook__.ipynb",
   "parameters": {},
   "start_time": "2021-06-04T13:06:55.431333",
   "version": "2.3.2"
  },
  "interpreter": {
   "hash": "6ad2903d9f8eb78095a8e1054d3b7d96029c25240c1559c5c7674409ebbac066"
  }
 },
 "nbformat": 4,
 "nbformat_minor": 5
}