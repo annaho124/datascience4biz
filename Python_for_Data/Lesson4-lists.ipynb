{
 "cells": [
  {
   "cell_type": "markdown",
   "source": [
    "# Lists\r\n",
    "\r\n",
    "Lists in Python represent ordered sequences of values. Here is an example of lists of first few prime numbers:"
   ],
   "metadata": {
    "papermill": {
     "duration": 0.048162,
     "end_time": "2021-06-04T13:07:00.134004",
     "exception": false,
     "start_time": "2021-06-04T13:07:00.085842",
     "status": "completed"
    },
    "tags": []
   }
  },
  {
   "cell_type": "code",
   "execution_count": 1,
   "source": [
    "primes = [2, 3, 5, 7]"
   ],
   "outputs": [],
   "metadata": {
    "collapsed": true,
    "execution": {
     "iopub.execute_input": "2021-06-04T13:07:00.226991Z",
     "iopub.status.busy": "2021-06-04T13:07:00.226189Z",
     "iopub.status.idle": "2021-06-04T13:07:00.230442Z",
     "shell.execute_reply": "2021-06-04T13:07:00.229757Z"
    },
    "papermill": {
     "duration": 0.053291,
     "end_time": "2021-06-04T13:07:00.230645",
     "exception": false,
     "start_time": "2021-06-04T13:07:00.177354",
     "status": "completed"
    },
    "tags": []
   }
  },
  {
   "cell_type": "markdown",
   "source": [
    "We can put other types of things in lists:"
   ],
   "metadata": {
    "papermill": {
     "duration": 0.04445,
     "end_time": "2021-06-04T13:07:00.318659",
     "exception": false,
     "start_time": "2021-06-04T13:07:00.274209",
     "status": "completed"
    },
    "tags": []
   }
  },
  {
   "cell_type": "code",
   "execution_count": 2,
   "source": [
    "planets = ['Mercury', 'Venus', 'Earth', 'Mars', 'Jupiter', 'Saturn', 'Uranus', 'Neptune']"
   ],
   "outputs": [],
   "metadata": {
    "collapsed": true,
    "execution": {
     "iopub.execute_input": "2021-06-04T13:07:00.414203Z",
     "iopub.status.busy": "2021-06-04T13:07:00.413141Z",
     "iopub.status.idle": "2021-06-04T13:07:00.416457Z",
     "shell.execute_reply": "2021-06-04T13:07:00.415804Z"
    },
    "papermill": {
     "duration": 0.053747,
     "end_time": "2021-06-04T13:07:00.416632",
     "exception": false,
     "start_time": "2021-06-04T13:07:00.362885",
     "status": "completed"
    },
    "tags": []
   }
  },
  {
   "cell_type": "markdown",
   "source": [
    "We can even make a list of lists:"
   ],
   "metadata": {
    "papermill": {
     "duration": 0.044587,
     "end_time": "2021-06-04T13:07:00.505077",
     "exception": false,
     "start_time": "2021-06-04T13:07:00.460490",
     "status": "completed"
    },
    "tags": []
   }
  },
  {
   "cell_type": "code",
   "execution_count": 3,
   "source": [
    "hands = [\r\n",
    "    ['J', 'Q', 'K'],\r\n",
    "    ['2', '2', '2'],\r\n",
    "    ['6', 'A', 'K'], # (Comma after the last element is optional)\r\n",
    "]\r\n",
    "# (Another way, but it can get hard to read)\r\n",
    "hands = [['J', 'Q', 'K'], ['2', '2', '2'], ['6', 'A', 'K']]"
   ],
   "outputs": [],
   "metadata": {
    "collapsed": true,
    "execution": {
     "iopub.execute_input": "2021-06-04T13:07:00.598116Z",
     "iopub.status.busy": "2021-06-04T13:07:00.597424Z",
     "iopub.status.idle": "2021-06-04T13:07:00.600577Z",
     "shell.execute_reply": "2021-06-04T13:07:00.599931Z"
    },
    "papermill": {
     "duration": 0.052707,
     "end_time": "2021-06-04T13:07:00.600719",
     "exception": false,
     "start_time": "2021-06-04T13:07:00.548012",
     "status": "completed"
    },
    "tags": []
   }
  },
  {
   "cell_type": "markdown",
   "source": [
    "A list can contain a mix of different types of variables:"
   ],
   "metadata": {
    "papermill": {
     "duration": 0.042641,
     "end_time": "2021-06-04T13:07:00.686747",
     "exception": false,
     "start_time": "2021-06-04T13:07:00.644106",
     "status": "completed"
    },
    "tags": []
   }
  },
  {
   "cell_type": "code",
   "execution_count": 4,
   "source": [
    "my_favourite_things = [22, 'Always be curious', help]\r\n",
    "# (The last value of list is help() function)"
   ],
   "outputs": [],
   "metadata": {
    "collapsed": true,
    "execution": {
     "iopub.execute_input": "2021-06-04T13:07:00.780277Z",
     "iopub.status.busy": "2021-06-04T13:07:00.779609Z",
     "iopub.status.idle": "2021-06-04T13:07:00.782745Z",
     "shell.execute_reply": "2021-06-04T13:07:00.782083Z"
    },
    "papermill": {
     "duration": 0.053151,
     "end_time": "2021-06-04T13:07:00.782897",
     "exception": false,
     "start_time": "2021-06-04T13:07:00.729746",
     "status": "completed"
    },
    "tags": []
   }
  },
  {
   "cell_type": "markdown",
   "source": [
    "## Indexing\n",
    "\n",
    "You can access individual list elements with square brackets.\n",
    "\n",
    "Which planet is closest to the sun? Python uses *zero-based* indexing, so the first element has index 0."
   ],
   "metadata": {
    "papermill": {
     "duration": 0.043259,
     "end_time": "2021-06-04T13:07:00.869356",
     "exception": false,
     "start_time": "2021-06-04T13:07:00.826097",
     "status": "completed"
    },
    "tags": []
   }
  },
  {
   "cell_type": "code",
   "execution_count": 5,
   "source": [
    "planets[0]"
   ],
   "outputs": [
    {
     "output_type": "execute_result",
     "data": {
      "text/plain": [
       "'Mercury'"
      ]
     },
     "metadata": {},
     "execution_count": 5
    }
   ],
   "metadata": {
    "execution": {
     "iopub.execute_input": "2021-06-04T13:07:00.962971Z",
     "iopub.status.busy": "2021-06-04T13:07:00.961896Z",
     "iopub.status.idle": "2021-06-04T13:07:00.967026Z",
     "shell.execute_reply": "2021-06-04T13:07:00.966487Z"
    },
    "papermill": {
     "duration": 0.05485,
     "end_time": "2021-06-04T13:07:00.967166",
     "exception": false,
     "start_time": "2021-06-04T13:07:00.912316",
     "status": "completed"
    },
    "tags": []
   }
  },
  {
   "cell_type": "markdown",
   "source": [
    "What's the next closest planet?"
   ],
   "metadata": {
    "papermill": {
     "duration": 0.043473,
     "end_time": "2021-06-04T13:07:01.054752",
     "exception": false,
     "start_time": "2021-06-04T13:07:01.011279",
     "status": "completed"
    },
    "tags": []
   }
  },
  {
   "cell_type": "code",
   "execution_count": 6,
   "source": [
    "planets[1]"
   ],
   "outputs": [
    {
     "output_type": "execute_result",
     "data": {
      "text/plain": [
       "'Venus'"
      ]
     },
     "metadata": {},
     "execution_count": 6
    }
   ],
   "metadata": {
    "execution": {
     "iopub.execute_input": "2021-06-04T13:07:01.149179Z",
     "iopub.status.busy": "2021-06-04T13:07:01.148503Z",
     "iopub.status.idle": "2021-06-04T13:07:01.152289Z",
     "shell.execute_reply": "2021-06-04T13:07:01.151683Z"
    },
    "papermill": {
     "duration": 0.053089,
     "end_time": "2021-06-04T13:07:01.152435",
     "exception": false,
     "start_time": "2021-06-04T13:07:01.099346",
     "status": "completed"
    },
    "tags": []
   }
  },
  {
   "cell_type": "markdown",
   "source": [
    "## Negative Indexing"
   ],
   "metadata": {}
  },
  {
   "cell_type": "markdown",
   "source": [
    "Which planet is *furthest* from the sun?\n",
    "\n",
    "Elements at the end of the list can be accessed with negative numbers, starting from -1:"
   ],
   "metadata": {
    "papermill": {
     "duration": 0.043675,
     "end_time": "2021-06-04T13:07:01.240267",
     "exception": false,
     "start_time": "2021-06-04T13:07:01.196592",
     "status": "completed"
    },
    "tags": []
   }
  },
  {
   "cell_type": "code",
   "execution_count": 7,
   "source": [
    "planets[-1]"
   ],
   "outputs": [
    {
     "output_type": "execute_result",
     "data": {
      "text/plain": [
       "'Neptune'"
      ]
     },
     "metadata": {},
     "execution_count": 7
    }
   ],
   "metadata": {
    "execution": {
     "iopub.execute_input": "2021-06-04T13:07:01.334890Z",
     "iopub.status.busy": "2021-06-04T13:07:01.333716Z",
     "iopub.status.idle": "2021-06-04T13:07:01.339169Z",
     "shell.execute_reply": "2021-06-04T13:07:01.338499Z"
    },
    "papermill": {
     "duration": 0.05512,
     "end_time": "2021-06-04T13:07:01.339314",
     "exception": false,
     "start_time": "2021-06-04T13:07:01.284194",
     "status": "completed"
    },
    "tags": []
   }
  },
  {
   "cell_type": "code",
   "execution_count": 8,
   "source": [
    "planets[-2]"
   ],
   "outputs": [
    {
     "output_type": "execute_result",
     "data": {
      "text/plain": [
       "'Uranus'"
      ]
     },
     "metadata": {},
     "execution_count": 8
    }
   ],
   "metadata": {
    "execution": {
     "iopub.execute_input": "2021-06-04T13:07:01.434570Z",
     "iopub.status.busy": "2021-06-04T13:07:01.433662Z",
     "iopub.status.idle": "2021-06-04T13:07:01.438209Z",
     "shell.execute_reply": "2021-06-04T13:07:01.437655Z"
    },
    "papermill": {
     "duration": 0.05399,
     "end_time": "2021-06-04T13:07:01.438343",
     "exception": false,
     "start_time": "2021-06-04T13:07:01.384353",
     "status": "completed"
    },
    "tags": []
   }
  },
  {
   "cell_type": "markdown",
   "source": [
    "## Slicing\n",
    "\n",
    "What are the first three planets? We can answer this question using *slicing*:"
   ],
   "metadata": {
    "papermill": {
     "duration": 0.044991,
     "end_time": "2021-06-04T13:07:01.528081",
     "exception": false,
     "start_time": "2021-06-04T13:07:01.483090",
     "status": "completed"
    },
    "tags": []
   }
  },
  {
   "cell_type": "code",
   "execution_count": 9,
   "source": [
    "planets[0:3]"
   ],
   "outputs": [
    {
     "output_type": "execute_result",
     "data": {
      "text/plain": [
       "['Mercury', 'Venus', 'Earth']"
      ]
     },
     "metadata": {},
     "execution_count": 9
    }
   ],
   "metadata": {
    "execution": {
     "iopub.execute_input": "2021-06-04T13:07:01.626946Z",
     "iopub.status.busy": "2021-06-04T13:07:01.626100Z",
     "iopub.status.idle": "2021-06-04T13:07:01.630141Z",
     "shell.execute_reply": "2021-06-04T13:07:01.629576Z"
    },
    "papermill": {
     "duration": 0.056699,
     "end_time": "2021-06-04T13:07:01.630296",
     "exception": false,
     "start_time": "2021-06-04T13:07:01.573597",
     "status": "completed"
    },
    "tags": []
   }
  },
  {
   "cell_type": "markdown",
   "source": [
    "`planets[0:3]` is our way of asking for the elements of `planets` starting from index 0 and continuing up to *but not including* index 3.\r\n",
    "\r\n",
    "Alternatively...\r\n",
    "\r\n",
    "The starting and ending indices are both optional. If I leave out the start index, it's assumed to be 0. So I could rewrite the expression above as:"
   ],
   "metadata": {
    "papermill": {
     "duration": 0.045321,
     "end_time": "2021-06-04T13:07:01.721450",
     "exception": false,
     "start_time": "2021-06-04T13:07:01.676129",
     "status": "completed"
    },
    "tags": []
   }
  },
  {
   "cell_type": "code",
   "execution_count": 10,
   "source": [
    "planets[:3]"
   ],
   "outputs": [
    {
     "output_type": "execute_result",
     "data": {
      "text/plain": [
       "['Mercury', 'Venus', 'Earth']"
      ]
     },
     "metadata": {},
     "execution_count": 10
    }
   ],
   "metadata": {
    "execution": {
     "iopub.execute_input": "2021-06-04T13:07:01.821656Z",
     "iopub.status.busy": "2021-06-04T13:07:01.820399Z",
     "iopub.status.idle": "2021-06-04T13:07:01.824965Z",
     "shell.execute_reply": "2021-06-04T13:07:01.824281Z"
    },
    "papermill": {
     "duration": 0.057628,
     "end_time": "2021-06-04T13:07:01.825142",
     "exception": false,
     "start_time": "2021-06-04T13:07:01.767514",
     "status": "completed"
    },
    "tags": []
   }
  },
  {
   "cell_type": "markdown",
   "source": [
    "If I leave out the end index, it's assumed to be the length of the list."
   ],
   "metadata": {
    "papermill": {
     "duration": 0.046251,
     "end_time": "2021-06-04T13:07:01.918000",
     "exception": false,
     "start_time": "2021-06-04T13:07:01.871749",
     "status": "completed"
    },
    "tags": []
   }
  },
  {
   "cell_type": "code",
   "execution_count": 11,
   "source": [
    "planets[3:]"
   ],
   "outputs": [
    {
     "output_type": "execute_result",
     "data": {
      "text/plain": [
       "['Mars', 'Jupiter', 'Saturn', 'Uranus', 'Neptune']"
      ]
     },
     "metadata": {},
     "execution_count": 11
    }
   ],
   "metadata": {
    "execution": {
     "iopub.execute_input": "2021-06-04T13:07:02.017345Z",
     "iopub.status.busy": "2021-06-04T13:07:02.016678Z",
     "iopub.status.idle": "2021-06-04T13:07:02.020474Z",
     "shell.execute_reply": "2021-06-04T13:07:02.019882Z"
    },
    "papermill": {
     "duration": 0.055899,
     "end_time": "2021-06-04T13:07:02.020646",
     "exception": false,
     "start_time": "2021-06-04T13:07:01.964747",
     "status": "completed"
    },
    "tags": []
   }
  },
  {
   "cell_type": "markdown",
   "source": [
    "i.e. the expression above means \"give me all the planets from index 3 onward\".\n",
    "\n",
    "We can also use negative indices when slicing:"
   ],
   "metadata": {
    "papermill": {
     "duration": 0.047601,
     "end_time": "2021-06-04T13:07:02.114850",
     "exception": false,
     "start_time": "2021-06-04T13:07:02.067249",
     "status": "completed"
    },
    "tags": []
   }
  },
  {
   "cell_type": "code",
   "execution_count": 12,
   "source": [
    "# All the planets except the first and last\r\n",
    "planets[1:-1]"
   ],
   "outputs": [
    {
     "output_type": "execute_result",
     "data": {
      "text/plain": [
       "['Venus', 'Earth', 'Mars', 'Jupiter', 'Saturn', 'Uranus']"
      ]
     },
     "metadata": {},
     "execution_count": 12
    }
   ],
   "metadata": {
    "execution": {
     "iopub.execute_input": "2021-06-04T13:07:02.215447Z",
     "iopub.status.busy": "2021-06-04T13:07:02.214749Z",
     "iopub.status.idle": "2021-06-04T13:07:02.217951Z",
     "shell.execute_reply": "2021-06-04T13:07:02.218464Z"
    },
    "papermill": {
     "duration": 0.055957,
     "end_time": "2021-06-04T13:07:02.218687",
     "exception": false,
     "start_time": "2021-06-04T13:07:02.162730",
     "status": "completed"
    },
    "tags": []
   }
  },
  {
   "cell_type": "code",
   "execution_count": 13,
   "source": [
    "# The last 3 planets\r\n",
    "planets[-3:]"
   ],
   "outputs": [
    {
     "output_type": "execute_result",
     "data": {
      "text/plain": [
       "['Saturn', 'Uranus', 'Neptune']"
      ]
     },
     "metadata": {},
     "execution_count": 13
    }
   ],
   "metadata": {
    "execution": {
     "iopub.execute_input": "2021-06-04T13:07:02.317071Z",
     "iopub.status.busy": "2021-06-04T13:07:02.316262Z",
     "iopub.status.idle": "2021-06-04T13:07:02.321012Z",
     "shell.execute_reply": "2021-06-04T13:07:02.321559Z"
    },
    "papermill": {
     "duration": 0.055936,
     "end_time": "2021-06-04T13:07:02.321757",
     "exception": false,
     "start_time": "2021-06-04T13:07:02.265821",
     "status": "completed"
    },
    "tags": []
   }
  },
  {
   "cell_type": "markdown",
   "source": [
    "## Mutating lists\r\n",
    "\r\n",
    "Lists are \"mutable\", meaning they can be modified \"in place\".\r\n",
    "\r\n",
    "One way to modify a list is to assign to an index or slice expression.\r\n",
    "\r\n",
    "For example, let's say we want to rename Mars:"
   ],
   "metadata": {
    "papermill": {
     "duration": 0.047268,
     "end_time": "2021-06-04T13:07:02.416595",
     "exception": false,
     "start_time": "2021-06-04T13:07:02.369327",
     "status": "completed"
    },
    "tags": []
   }
  },
  {
   "cell_type": "code",
   "execution_count": 14,
   "source": [
    "planets[3] = 'Malacandra'\r\n",
    "planets"
   ],
   "outputs": [
    {
     "output_type": "execute_result",
     "data": {
      "text/plain": [
       "['Mercury',\n",
       " 'Venus',\n",
       " 'Earth',\n",
       " 'Malacandra',\n",
       " 'Jupiter',\n",
       " 'Saturn',\n",
       " 'Uranus',\n",
       " 'Neptune']"
      ]
     },
     "metadata": {},
     "execution_count": 14
    }
   ],
   "metadata": {
    "execution": {
     "iopub.execute_input": "2021-06-04T13:07:02.515793Z",
     "iopub.status.busy": "2021-06-04T13:07:02.515029Z",
     "iopub.status.idle": "2021-06-04T13:07:02.520110Z",
     "shell.execute_reply": "2021-06-04T13:07:02.520674Z"
    },
    "papermill": {
     "duration": 0.05646,
     "end_time": "2021-06-04T13:07:02.520869",
     "exception": false,
     "start_time": "2021-06-04T13:07:02.464409",
     "status": "completed"
    },
    "tags": []
   }
  },
  {
   "cell_type": "markdown",
   "source": [
    "Hm, that's quite a mouthful. Let's compensate by shortening the names of the first 3 planets."
   ],
   "metadata": {
    "papermill": {
     "duration": 0.048198,
     "end_time": "2021-06-04T13:07:02.618053",
     "exception": false,
     "start_time": "2021-06-04T13:07:02.569855",
     "status": "completed"
    },
    "tags": []
   }
  },
  {
   "cell_type": "code",
   "execution_count": 15,
   "source": [
    "planets[:3] = ['Mur', 'Vee', 'Ur']\r\n",
    "print(planets)\r\n",
    "\r\n",
    "# Okie, that was quite silly. Let's give them back their old names\r\n",
    "planets[:4] = ['Mercury', 'Venus', 'Earth', 'Mars',]\r\n",
    "print(planets)"
   ],
   "outputs": [
    {
     "output_type": "stream",
     "name": "stdout",
     "text": [
      "['Mur', 'Vee', 'Ur', 'Malacandra', 'Jupiter', 'Saturn', 'Uranus', 'Neptune']\n",
      "['Mercury', 'Venus', 'Earth', 'Mars', 'Jupiter', 'Saturn', 'Uranus', 'Neptune']\n"
     ]
    }
   ],
   "metadata": {
    "execution": {
     "iopub.execute_input": "2021-06-04T13:07:02.716493Z",
     "iopub.status.busy": "2021-06-04T13:07:02.715847Z",
     "iopub.status.idle": "2021-06-04T13:07:02.722063Z",
     "shell.execute_reply": "2021-06-04T13:07:02.721443Z"
    },
    "papermill": {
     "duration": 0.056647,
     "end_time": "2021-06-04T13:07:02.722199",
     "exception": false,
     "start_time": "2021-06-04T13:07:02.665552",
     "status": "completed"
    },
    "tags": []
   }
  },
  {
   "cell_type": "markdown",
   "source": [
    "## List functions\r\n",
    "\r\n",
    "Python has several useful builtin functions for working with lists.\r\n",
    "\r\n",
    "`len` gives the length of a list:"
   ],
   "metadata": {
    "papermill": {
     "duration": 0.061848,
     "end_time": "2021-06-04T13:07:02.840969",
     "exception": false,
     "start_time": "2021-06-04T13:07:02.779121",
     "status": "completed"
    },
    "tags": []
   }
  },
  {
   "cell_type": "code",
   "execution_count": 16,
   "source": [
    "# How many planets are there?\r\n",
    "len(planets)"
   ],
   "outputs": [
    {
     "output_type": "execute_result",
     "data": {
      "text/plain": [
       "8"
      ]
     },
     "metadata": {},
     "execution_count": 16
    }
   ],
   "metadata": {
    "execution": {
     "iopub.execute_input": "2021-06-04T13:07:02.948478Z",
     "iopub.status.busy": "2021-06-04T13:07:02.947559Z",
     "iopub.status.idle": "2021-06-04T13:07:02.952291Z",
     "shell.execute_reply": "2021-06-04T13:07:02.951686Z"
    },
    "papermill": {
     "duration": 0.058666,
     "end_time": "2021-06-04T13:07:02.952427",
     "exception": false,
     "start_time": "2021-06-04T13:07:02.893761",
     "status": "completed"
    },
    "tags": []
   }
  },
  {
   "cell_type": "markdown",
   "source": [
    "`sorted` returns a sorted version of a list:"
   ],
   "metadata": {
    "papermill": {
     "duration": 0.048299,
     "end_time": "2021-06-04T13:07:03.049308",
     "exception": false,
     "start_time": "2021-06-04T13:07:03.001009",
     "status": "completed"
    },
    "tags": []
   }
  },
  {
   "cell_type": "code",
   "execution_count": 17,
   "source": [
    "# The planets sorted in alphabetical order\r\n",
    "sorted(planets)"
   ],
   "outputs": [
    {
     "output_type": "execute_result",
     "data": {
      "text/plain": [
       "['Earth', 'Jupiter', 'Mars', 'Mercury', 'Neptune', 'Saturn', 'Uranus', 'Venus']"
      ]
     },
     "metadata": {},
     "execution_count": 17
    }
   ],
   "metadata": {
    "execution": {
     "iopub.execute_input": "2021-06-04T13:07:03.152148Z",
     "iopub.status.busy": "2021-06-04T13:07:03.151179Z",
     "iopub.status.idle": "2021-06-04T13:07:03.157640Z",
     "shell.execute_reply": "2021-06-04T13:07:03.157128Z"
    },
    "papermill": {
     "duration": 0.058359,
     "end_time": "2021-06-04T13:07:03.157785",
     "exception": false,
     "start_time": "2021-06-04T13:07:03.099426",
     "status": "completed"
    },
    "tags": []
   }
  },
  {
   "cell_type": "markdown",
   "source": [
    "`sum` does what you might expect:"
   ],
   "metadata": {
    "papermill": {
     "duration": 0.048785,
     "end_time": "2021-06-04T13:07:03.255337",
     "exception": false,
     "start_time": "2021-06-04T13:07:03.206552",
     "status": "completed"
    },
    "tags": []
   }
  },
  {
   "cell_type": "code",
   "execution_count": 18,
   "source": [
    "primes = [2, 3, 5, 7]\r\n",
    "sum(primes)"
   ],
   "outputs": [
    {
     "output_type": "execute_result",
     "data": {
      "text/plain": [
       "17"
      ]
     },
     "metadata": {},
     "execution_count": 18
    }
   ],
   "metadata": {
    "execution": {
     "iopub.execute_input": "2021-06-04T13:07:03.358917Z",
     "iopub.status.busy": "2021-06-04T13:07:03.357928Z",
     "iopub.status.idle": "2021-06-04T13:07:03.362039Z",
     "shell.execute_reply": "2021-06-04T13:07:03.361501Z"
    },
    "papermill": {
     "duration": 0.057868,
     "end_time": "2021-06-04T13:07:03.362178",
     "exception": false,
     "start_time": "2021-06-04T13:07:03.304310",
     "status": "completed"
    },
    "tags": []
   }
  },
  {
   "cell_type": "markdown",
   "source": [
    "We've previously used the `min` and `max` to get the minimum or maximum of several arguments. But we can also pass in a single list argument."
   ],
   "metadata": {
    "papermill": {
     "duration": 0.048849,
     "end_time": "2021-06-04T13:07:03.460046",
     "exception": false,
     "start_time": "2021-06-04T13:07:03.411197",
     "status": "completed"
    },
    "tags": []
   }
  },
  {
   "cell_type": "code",
   "execution_count": 19,
   "source": [
    "max(primes)"
   ],
   "outputs": [
    {
     "output_type": "execute_result",
     "data": {
      "text/plain": [
       "7"
      ]
     },
     "metadata": {},
     "execution_count": 19
    }
   ],
   "metadata": {
    "execution": {
     "iopub.execute_input": "2021-06-04T13:07:03.564084Z",
     "iopub.status.busy": "2021-06-04T13:07:03.563080Z",
     "iopub.status.idle": "2021-06-04T13:07:03.567282Z",
     "shell.execute_reply": "2021-06-04T13:07:03.566775Z"
    },
    "papermill": {
     "duration": 0.057776,
     "end_time": "2021-06-04T13:07:03.567430",
     "exception": false,
     "start_time": "2021-06-04T13:07:03.509654",
     "status": "completed"
    },
    "tags": []
   }
  },
  {
   "cell_type": "markdown",
   "source": [
    "## Interlude: objects\n",
    "\n",
    "I've used the term 'object' a lot so far - you may have even read that *everything* in Python is an object. What does that mean?\n",
    "\n",
    "In short, objects carry some things around with them. You access that stuff using Python's dot syntax.\n",
    "\n",
    "For example, numbers in Python carry around an associated variable called `imag` representing their imaginary part. (You'll probably never need to use this unless you're doing some very weird math.)"
   ],
   "metadata": {
    "papermill": {
     "duration": 0.049701,
     "end_time": "2021-06-04T13:07:03.667992",
     "exception": false,
     "start_time": "2021-06-04T13:07:03.618291",
     "status": "completed"
    },
    "tags": []
   }
  },
  {
   "cell_type": "code",
   "execution_count": 20,
   "source": [
    "x = 12\r\n",
    "# x is a real number, so its imaginary part is 0.\r\n",
    "print(x.imag)\r\n",
    "# Here's how to make a complex number, in case you've ever been curious:\r\n",
    "c = 12 + 4j\r\n",
    "print(c.imag)"
   ],
   "outputs": [
    {
     "output_type": "stream",
     "name": "stdout",
     "text": [
      "0\n",
      "4.0\n"
     ]
    }
   ],
   "metadata": {
    "execution": {
     "iopub.execute_input": "2021-06-04T13:07:03.773782Z",
     "iopub.status.busy": "2021-06-04T13:07:03.772859Z",
     "iopub.status.idle": "2021-06-04T13:07:03.776248Z",
     "shell.execute_reply": "2021-06-04T13:07:03.776700Z"
    },
    "papermill": {
     "duration": 0.058851,
     "end_time": "2021-06-04T13:07:03.776873",
     "exception": false,
     "start_time": "2021-06-04T13:07:03.718022",
     "status": "completed"
    },
    "tags": []
   }
  },
  {
   "cell_type": "markdown",
   "source": [
    "The things an object carries around can also include functions. \r\n",
    "\r\n",
    "A function attached to an object is called a **method**. (Non-function things attached to an object, such as `imag`, are called *attributes*).\r\n",
    "\r\n",
    "For example, numbers have a method called `bit_length`. Again, we access it using dot syntax:"
   ],
   "metadata": {
    "papermill": {
     "duration": 0.050241,
     "end_time": "2021-06-04T13:07:03.877017",
     "exception": false,
     "start_time": "2021-06-04T13:07:03.826776",
     "status": "completed"
    },
    "tags": []
   }
  },
  {
   "cell_type": "code",
   "execution_count": 21,
   "source": [
    "x.bit_length"
   ],
   "outputs": [
    {
     "output_type": "execute_result",
     "data": {
      "text/plain": [
       "<function int.bit_length()>"
      ]
     },
     "metadata": {},
     "execution_count": 21
    }
   ],
   "metadata": {
    "execution": {
     "iopub.execute_input": "2021-06-04T13:07:03.983639Z",
     "iopub.status.busy": "2021-06-04T13:07:03.982586Z",
     "iopub.status.idle": "2021-06-04T13:07:03.987544Z",
     "shell.execute_reply": "2021-06-04T13:07:03.986993Z"
    },
    "papermill": {
     "duration": 0.060519,
     "end_time": "2021-06-04T13:07:03.987691",
     "exception": false,
     "start_time": "2021-06-04T13:07:03.927172",
     "status": "completed"
    },
    "tags": []
   }
  },
  {
   "cell_type": "markdown",
   "source": [
    "To actually call it, we add parentheses:"
   ],
   "metadata": {
    "papermill": {
     "duration": 0.051147,
     "end_time": "2021-06-04T13:07:04.090403",
     "exception": false,
     "start_time": "2021-06-04T13:07:04.039256",
     "status": "completed"
    },
    "tags": []
   }
  },
  {
   "cell_type": "code",
   "execution_count": 22,
   "source": [
    "x.bit_length()"
   ],
   "outputs": [
    {
     "output_type": "execute_result",
     "data": {
      "text/plain": [
       "4"
      ]
     },
     "metadata": {},
     "execution_count": 22
    }
   ],
   "metadata": {
    "execution": {
     "iopub.execute_input": "2021-06-04T13:07:04.197048Z",
     "iopub.status.busy": "2021-06-04T13:07:04.196351Z",
     "iopub.status.idle": "2021-06-04T13:07:04.200046Z",
     "shell.execute_reply": "2021-06-04T13:07:04.199504Z"
    },
    "papermill": {
     "duration": 0.058932,
     "end_time": "2021-06-04T13:07:04.200179",
     "exception": false,
     "start_time": "2021-06-04T13:07:04.141247",
     "status": "completed"
    },
    "tags": []
   }
  },
  {
   "cell_type": "markdown",
   "source": [
    "In the same way that we can pass functions to the `help` function (e.g. `help(max)`), we can also pass in methods:"
   ],
   "metadata": {
    "papermill": {
     "duration": 0.050951,
     "end_time": "2021-06-04T13:07:04.302102",
     "exception": false,
     "start_time": "2021-06-04T13:07:04.251151",
     "status": "completed"
    },
    "tags": []
   }
  },
  {
   "cell_type": "code",
   "execution_count": 23,
   "source": [
    "help(x.bit_length)"
   ],
   "outputs": [
    {
     "output_type": "stream",
     "name": "stdout",
     "text": [
      "Help on built-in function bit_length:\n",
      "\n",
      "bit_length() method of builtins.int instance\n",
      "    Number of bits necessary to represent self in binary.\n",
      "    \n",
      "    >>> bin(37)\n",
      "    '0b100101'\n",
      "    >>> (37).bit_length()\n",
      "    6\n",
      "\n"
     ]
    }
   ],
   "metadata": {
    "execution": {
     "iopub.execute_input": "2021-06-04T13:07:04.409860Z",
     "iopub.status.busy": "2021-06-04T13:07:04.409192Z",
     "iopub.status.idle": "2021-06-04T13:07:04.412543Z",
     "shell.execute_reply": "2021-06-04T13:07:04.412975Z"
    },
    "papermill": {
     "duration": 0.060072,
     "end_time": "2021-06-04T13:07:04.413140",
     "exception": false,
     "start_time": "2021-06-04T13:07:04.353068",
     "status": "completed"
    },
    "tags": []
   }
  },
  {
   "cell_type": "markdown",
   "source": [
    "<!-- TODO:\n",
    "dir?\n",
    "A useful builtin method for interacting with objects is `dir`. `dir` asks: what are the names of all the things (methods, and attributes) that this object is carrying around?\n",
    "help(x)?\n",
    "-->\n",
    "\n",
    "The examples above were utterly obscure. None of the types of objects we've looked at so far (numbers, functions, booleans) have attributes or methods you're likely ever to use.\n",
    "\n",
    "But it turns out that lists have several methods which you'll use all the time."
   ],
   "metadata": {
    "papermill": {
     "duration": 0.051226,
     "end_time": "2021-06-04T13:07:04.515693",
     "exception": false,
     "start_time": "2021-06-04T13:07:04.464467",
     "status": "completed"
    },
    "tags": []
   }
  },
  {
   "cell_type": "markdown",
   "source": [
    "## List methods"
   ],
   "metadata": {
    "papermill": {
     "duration": 0.051545,
     "end_time": "2021-06-04T13:07:04.618497",
     "exception": false,
     "start_time": "2021-06-04T13:07:04.566952",
     "status": "completed"
    },
    "tags": []
   }
  },
  {
   "cell_type": "markdown",
   "source": [
    "`list.append` modifies a list by adding an item to the end:"
   ],
   "metadata": {
    "papermill": {
     "duration": 0.050987,
     "end_time": "2021-06-04T13:07:04.721457",
     "exception": false,
     "start_time": "2021-06-04T13:07:04.670470",
     "status": "completed"
    },
    "tags": []
   }
  },
  {
   "cell_type": "code",
   "execution_count": 24,
   "source": [
    "# Pluto is a planet darn it!\r\n",
    "planets.append('Pluto')"
   ],
   "outputs": [],
   "metadata": {
    "collapsed": true,
    "execution": {
     "iopub.execute_input": "2021-06-04T13:07:04.829692Z",
     "iopub.status.busy": "2021-06-04T13:07:04.829038Z",
     "iopub.status.idle": "2021-06-04T13:07:04.832315Z",
     "shell.execute_reply": "2021-06-04T13:07:04.832842Z"
    },
    "papermill": {
     "duration": 0.060027,
     "end_time": "2021-06-04T13:07:04.833031",
     "exception": false,
     "start_time": "2021-06-04T13:07:04.773004",
     "status": "completed"
    },
    "tags": []
   }
  },
  {
   "cell_type": "markdown",
   "source": [
    "Why does the cell above have no output? Let's check the documentation by calling `help(planets.append)`.\n",
    "\n",
    "> **Aside:** `append` is a method carried around by *all* objects of type list, not just `planets`, so we also could have called `help(list.append)`. However, if we try to call `help(append)`, Python will complain that no variable exists called \"append\". The \"append\" name only exists within lists - it doesn't exist as a standalone name like builtin functions such as `max` or `len`."
   ],
   "metadata": {
    "papermill": {
     "duration": 0.052299,
     "end_time": "2021-06-04T13:07:04.938262",
     "exception": false,
     "start_time": "2021-06-04T13:07:04.885963",
     "status": "completed"
    },
    "tags": []
   }
  },
  {
   "cell_type": "code",
   "execution_count": 25,
   "source": [
    "help(planets.append)"
   ],
   "outputs": [
    {
     "output_type": "stream",
     "name": "stdout",
     "text": [
      "Help on built-in function append:\n",
      "\n",
      "append(object, /) method of builtins.list instance\n",
      "    Append object to the end of the list.\n",
      "\n"
     ]
    }
   ],
   "metadata": {
    "execution": {
     "iopub.execute_input": "2021-06-04T13:07:05.047727Z",
     "iopub.status.busy": "2021-06-04T13:07:05.047052Z",
     "iopub.status.idle": "2021-06-04T13:07:05.049705Z",
     "shell.execute_reply": "2021-06-04T13:07:05.050291Z"
    },
    "papermill": {
     "duration": 0.060268,
     "end_time": "2021-06-04T13:07:05.050462",
     "exception": false,
     "start_time": "2021-06-04T13:07:04.990194",
     "status": "completed"
    },
    "tags": []
   }
  },
  {
   "cell_type": "markdown",
   "source": [
    "The `-> None` part is telling us that `list.append` doesn't return anything. But if we check the value of `planets`, we can see that the method call modified the value of `planets`:"
   ],
   "metadata": {
    "papermill": {
     "duration": 0.051789,
     "end_time": "2021-06-04T13:07:05.154268",
     "exception": false,
     "start_time": "2021-06-04T13:07:05.102479",
     "status": "completed"
    },
    "tags": []
   }
  },
  {
   "cell_type": "code",
   "execution_count": 26,
   "source": [
    "planets"
   ],
   "outputs": [
    {
     "output_type": "execute_result",
     "data": {
      "text/plain": [
       "['Mercury',\n",
       " 'Venus',\n",
       " 'Earth',\n",
       " 'Mars',\n",
       " 'Jupiter',\n",
       " 'Saturn',\n",
       " 'Uranus',\n",
       " 'Neptune',\n",
       " 'Pluto']"
      ]
     },
     "metadata": {},
     "execution_count": 26
    }
   ],
   "metadata": {
    "execution": {
     "iopub.execute_input": "2021-06-04T13:07:05.263617Z",
     "iopub.status.busy": "2021-06-04T13:07:05.262671Z",
     "iopub.status.idle": "2021-06-04T13:07:05.266491Z",
     "shell.execute_reply": "2021-06-04T13:07:05.266962Z"
    },
    "papermill": {
     "duration": 0.061065,
     "end_time": "2021-06-04T13:07:05.267134",
     "exception": false,
     "start_time": "2021-06-04T13:07:05.206069",
     "status": "completed"
    },
    "tags": []
   }
  },
  {
   "cell_type": "markdown",
   "source": [
    "`list.pop` removes and returns the last element of a list:"
   ],
   "metadata": {
    "papermill": {
     "duration": 0.05225,
     "end_time": "2021-06-04T13:07:05.371948",
     "exception": false,
     "start_time": "2021-06-04T13:07:05.319698",
     "status": "completed"
    },
    "tags": []
   }
  },
  {
   "cell_type": "code",
   "execution_count": 27,
   "source": [
    "planets.pop()"
   ],
   "outputs": [
    {
     "output_type": "execute_result",
     "data": {
      "text/plain": [
       "'Pluto'"
      ]
     },
     "metadata": {},
     "execution_count": 27
    }
   ],
   "metadata": {
    "execution": {
     "iopub.execute_input": "2021-06-04T13:07:05.482203Z",
     "iopub.status.busy": "2021-06-04T13:07:05.481283Z",
     "iopub.status.idle": "2021-06-04T13:07:05.485613Z",
     "shell.execute_reply": "2021-06-04T13:07:05.486062Z"
    },
    "papermill": {
     "duration": 0.061849,
     "end_time": "2021-06-04T13:07:05.486234",
     "exception": false,
     "start_time": "2021-06-04T13:07:05.424385",
     "status": "completed"
    },
    "tags": []
   }
  },
  {
   "cell_type": "code",
   "execution_count": 28,
   "source": [
    "planets"
   ],
   "outputs": [
    {
     "output_type": "execute_result",
     "data": {
      "text/plain": [
       "['Mercury', 'Venus', 'Earth', 'Mars', 'Jupiter', 'Saturn', 'Uranus', 'Neptune']"
      ]
     },
     "metadata": {},
     "execution_count": 28
    }
   ],
   "metadata": {
    "execution": {
     "iopub.execute_input": "2021-06-04T13:07:05.597234Z",
     "iopub.status.busy": "2021-06-04T13:07:05.596435Z",
     "iopub.status.idle": "2021-06-04T13:07:05.600322Z",
     "shell.execute_reply": "2021-06-04T13:07:05.599717Z"
    },
    "papermill": {
     "duration": 0.061528,
     "end_time": "2021-06-04T13:07:05.600457",
     "exception": false,
     "start_time": "2021-06-04T13:07:05.538929",
     "status": "completed"
    },
    "tags": []
   }
  },
  {
   "cell_type": "markdown",
   "source": [
    "### Searching lists\n",
    "\n",
    "Where does Earth fall in the order of planets? We can get its index using the `list.index` method."
   ],
   "metadata": {
    "papermill": {
     "duration": 0.053508,
     "end_time": "2021-06-04T13:07:05.709138",
     "exception": false,
     "start_time": "2021-06-04T13:07:05.655630",
     "status": "completed"
    },
    "tags": []
   }
  },
  {
   "cell_type": "code",
   "execution_count": 29,
   "source": [
    "planets.index('Earth')"
   ],
   "outputs": [
    {
     "output_type": "execute_result",
     "data": {
      "text/plain": [
       "2"
      ]
     },
     "metadata": {},
     "execution_count": 29
    }
   ],
   "metadata": {
    "execution": {
     "iopub.execute_input": "2021-06-04T13:07:05.821090Z",
     "iopub.status.busy": "2021-06-04T13:07:05.820409Z",
     "iopub.status.idle": "2021-06-04T13:07:05.823695Z",
     "shell.execute_reply": "2021-06-04T13:07:05.823007Z"
    },
    "papermill": {
     "duration": 0.061129,
     "end_time": "2021-06-04T13:07:05.823848",
     "exception": false,
     "start_time": "2021-06-04T13:07:05.762719",
     "status": "completed"
    },
    "tags": []
   }
  },
  {
   "cell_type": "markdown",
   "source": [
    "It comes third (i.e. at index 2 - 0 indexing!).\n",
    "\n",
    "At what index does Pluto occur?"
   ],
   "metadata": {
    "papermill": {
     "duration": 0.053699,
     "end_time": "2021-06-04T13:07:05.932615",
     "exception": false,
     "start_time": "2021-06-04T13:07:05.878916",
     "status": "completed"
    },
    "tags": []
   }
  },
  {
   "cell_type": "code",
   "execution_count": 30,
   "source": [
    "planets.index('Pluto')"
   ],
   "outputs": [
    {
     "output_type": "error",
     "ename": "ValueError",
     "evalue": "'Pluto' is not in list",
     "traceback": [
      "\u001b[1;31m---------------------------------------------------------------------------\u001b[0m",
      "\u001b[1;31mValueError\u001b[0m                                Traceback (most recent call last)",
      "\u001b[1;32m<ipython-input-30-3a8584cba91a>\u001b[0m in \u001b[0;36m<module>\u001b[1;34m\u001b[0m\n\u001b[1;32m----> 1\u001b[1;33m \u001b[0mplanets\u001b[0m\u001b[1;33m.\u001b[0m\u001b[0mindex\u001b[0m\u001b[1;33m(\u001b[0m\u001b[1;34m'Pluto'\u001b[0m\u001b[1;33m)\u001b[0m\u001b[1;33m\u001b[0m\u001b[1;33m\u001b[0m\u001b[0m\n\u001b[0m",
      "\u001b[1;31mValueError\u001b[0m: 'Pluto' is not in list"
     ]
    }
   ],
   "metadata": {
    "execution": {
     "iopub.execute_input": "2021-06-04T13:07:06.045063Z",
     "iopub.status.busy": "2021-06-04T13:07:06.044346Z",
     "iopub.status.idle": "2021-06-04T13:07:06.091591Z",
     "shell.execute_reply": "2021-06-04T13:07:06.092120Z"
    },
    "papermill": {
     "duration": 0.105757,
     "end_time": "2021-06-04T13:07:06.092367",
     "exception": false,
     "start_time": "2021-06-04T13:07:05.986610",
     "status": "completed"
    },
    "tags": [
     "raises-exception"
    ]
   }
  },
  {
   "cell_type": "markdown",
   "source": [
    "Oh, that's right...\n",
    "\n",
    "To avoid unpleasant surprises like this, we can use the `in` operator to determine whether a list contains a particular value:"
   ],
   "metadata": {
    "papermill": {
     "duration": 0.054194,
     "end_time": "2021-06-04T13:07:06.202807",
     "exception": false,
     "start_time": "2021-06-04T13:07:06.148613",
     "status": "completed"
    },
    "tags": []
   }
  },
  {
   "cell_type": "code",
   "execution_count": 31,
   "source": [
    "# Is Earth a planet?\r\n",
    "\"Earth\" in planets"
   ],
   "outputs": [
    {
     "output_type": "execute_result",
     "data": {
      "text/plain": [
       "True"
      ]
     },
     "metadata": {},
     "execution_count": 31
    }
   ],
   "metadata": {
    "collapsed": true,
    "execution": {
     "iopub.execute_input": "2021-06-04T13:07:06.314760Z",
     "iopub.status.busy": "2021-06-04T13:07:06.314093Z",
     "iopub.status.idle": "2021-06-04T13:07:06.320072Z",
     "shell.execute_reply": "2021-06-04T13:07:06.319552Z"
    },
    "papermill": {
     "duration": 0.063095,
     "end_time": "2021-06-04T13:07:06.320212",
     "exception": false,
     "start_time": "2021-06-04T13:07:06.257117",
     "status": "completed"
    },
    "tags": []
   }
  },
  {
   "cell_type": "code",
   "execution_count": 32,
   "source": [
    "# Is Calbefraques a planet?\r\n",
    "\"Calbefraques\" in planets"
   ],
   "outputs": [
    {
     "output_type": "execute_result",
     "data": {
      "text/plain": [
       "False"
      ]
     },
     "metadata": {},
     "execution_count": 32
    }
   ],
   "metadata": {
    "collapsed": true,
    "execution": {
     "iopub.execute_input": "2021-06-04T13:07:06.435958Z",
     "iopub.status.busy": "2021-06-04T13:07:06.435230Z",
     "iopub.status.idle": "2021-06-04T13:07:06.438386Z",
     "shell.execute_reply": "2021-06-04T13:07:06.438966Z"
    },
    "papermill": {
     "duration": 0.063777,
     "end_time": "2021-06-04T13:07:06.439142",
     "exception": false,
     "start_time": "2021-06-04T13:07:06.375365",
     "status": "completed"
    },
    "tags": []
   }
  },
  {
   "cell_type": "markdown",
   "source": [
    "There are a few more interesting list methods we haven't covered. If you want to learn about all the methods and attributes attached to a particular object, we can call `help()` on the object itself. For example, `help(planets)` will tell us about *all* the list methods: "
   ],
   "metadata": {
    "papermill": {
     "duration": 0.057556,
     "end_time": "2021-06-04T13:07:06.553838",
     "exception": false,
     "start_time": "2021-06-04T13:07:06.496282",
     "status": "completed"
    },
    "tags": []
   }
  },
  {
   "cell_type": "code",
   "execution_count": 33,
   "source": [
    "help(planets)"
   ],
   "outputs": [
    {
     "output_type": "stream",
     "name": "stdout",
     "text": [
      "Help on list object:\n",
      "\n",
      "class list(object)\n",
      " |  list(iterable=(), /)\n",
      " |  \n",
      " |  Built-in mutable sequence.\n",
      " |  \n",
      " |  If no argument is given, the constructor creates a new empty list.\n",
      " |  The argument must be an iterable if specified.\n",
      " |  \n",
      " |  Methods defined here:\n",
      " |  \n",
      " |  __add__(self, value, /)\n",
      " |      Return self+value.\n",
      " |  \n",
      " |  __contains__(self, key, /)\n",
      " |      Return key in self.\n",
      " |  \n",
      " |  __delitem__(self, key, /)\n",
      " |      Delete self[key].\n",
      " |  \n",
      " |  __eq__(self, value, /)\n",
      " |      Return self==value.\n",
      " |  \n",
      " |  __ge__(self, value, /)\n",
      " |      Return self>=value.\n",
      " |  \n",
      " |  __getattribute__(self, name, /)\n",
      " |      Return getattr(self, name).\n",
      " |  \n",
      " |  __getitem__(...)\n",
      " |      x.__getitem__(y) <==> x[y]\n",
      " |  \n",
      " |  __gt__(self, value, /)\n",
      " |      Return self>value.\n",
      " |  \n",
      " |  __iadd__(self, value, /)\n",
      " |      Implement self+=value.\n",
      " |  \n",
      " |  __imul__(self, value, /)\n",
      " |      Implement self*=value.\n",
      " |  \n",
      " |  __init__(self, /, *args, **kwargs)\n",
      " |      Initialize self.  See help(type(self)) for accurate signature.\n",
      " |  \n",
      " |  __iter__(self, /)\n",
      " |      Implement iter(self).\n",
      " |  \n",
      " |  __le__(self, value, /)\n",
      " |      Return self<=value.\n",
      " |  \n",
      " |  __len__(self, /)\n",
      " |      Return len(self).\n",
      " |  \n",
      " |  __lt__(self, value, /)\n",
      " |      Return self<value.\n",
      " |  \n",
      " |  __mul__(self, value, /)\n",
      " |      Return self*value.\n",
      " |  \n",
      " |  __ne__(self, value, /)\n",
      " |      Return self!=value.\n",
      " |  \n",
      " |  __repr__(self, /)\n",
      " |      Return repr(self).\n",
      " |  \n",
      " |  __reversed__(self, /)\n",
      " |      Return a reverse iterator over the list.\n",
      " |  \n",
      " |  __rmul__(self, value, /)\n",
      " |      Return value*self.\n",
      " |  \n",
      " |  __setitem__(self, key, value, /)\n",
      " |      Set self[key] to value.\n",
      " |  \n",
      " |  __sizeof__(self, /)\n",
      " |      Return the size of the list in memory, in bytes.\n",
      " |  \n",
      " |  append(self, object, /)\n",
      " |      Append object to the end of the list.\n",
      " |  \n",
      " |  clear(self, /)\n",
      " |      Remove all items from list.\n",
      " |  \n",
      " |  copy(self, /)\n",
      " |      Return a shallow copy of the list.\n",
      " |  \n",
      " |  count(self, value, /)\n",
      " |      Return number of occurrences of value.\n",
      " |  \n",
      " |  extend(self, iterable, /)\n",
      " |      Extend list by appending elements from the iterable.\n",
      " |  \n",
      " |  index(self, value, start=0, stop=9223372036854775807, /)\n",
      " |      Return first index of value.\n",
      " |      \n",
      " |      Raises ValueError if the value is not present.\n",
      " |  \n",
      " |  insert(self, index, object, /)\n",
      " |      Insert object before index.\n",
      " |  \n",
      " |  pop(self, index=-1, /)\n",
      " |      Remove and return item at index (default last).\n",
      " |      \n",
      " |      Raises IndexError if list is empty or index is out of range.\n",
      " |  \n",
      " |  remove(self, value, /)\n",
      " |      Remove first occurrence of value.\n",
      " |      \n",
      " |      Raises ValueError if the value is not present.\n",
      " |  \n",
      " |  reverse(self, /)\n",
      " |      Reverse *IN PLACE*.\n",
      " |  \n",
      " |  sort(self, /, *, key=None, reverse=False)\n",
      " |      Stable sort *IN PLACE*.\n",
      " |  \n",
      " |  ----------------------------------------------------------------------\n",
      " |  Static methods defined here:\n",
      " |  \n",
      " |  __new__(*args, **kwargs) from builtins.type\n",
      " |      Create and return a new object.  See help(type) for accurate signature.\n",
      " |  \n",
      " |  ----------------------------------------------------------------------\n",
      " |  Data and other attributes defined here:\n",
      " |  \n",
      " |  __hash__ = None\n",
      "\n"
     ]
    }
   ],
   "metadata": {
    "_kg_hide-output": true,
    "execution": {
     "iopub.execute_input": "2021-06-04T13:07:06.670142Z",
     "iopub.status.busy": "2021-06-04T13:07:06.669400Z",
     "iopub.status.idle": "2021-06-04T13:07:06.687367Z",
     "shell.execute_reply": "2021-06-04T13:07:06.687902Z"
    },
    "papermill": {
     "duration": 0.078735,
     "end_time": "2021-06-04T13:07:06.688074",
     "exception": false,
     "start_time": "2021-06-04T13:07:06.609339",
     "status": "completed"
    },
    "tags": []
   }
  },
  {
   "cell_type": "markdown",
   "source": [
    "Lists have lots of methods with weird-looking names like `__eq__` and `__iadd__`. Don't worry too much about these for now. (You'll probably never call such methods directly. But they get called behind the scenes when we use syntax like indexing or comparison operators.) The most interesting methods are toward the bottom of the list (`append`, `clear`, `copy`, etc.)."
   ],
   "metadata": {
    "papermill": {
     "duration": 0.055886,
     "end_time": "2021-06-04T13:07:06.800016",
     "exception": false,
     "start_time": "2021-06-04T13:07:06.744130",
     "status": "completed"
    },
    "tags": []
   }
  },
  {
   "cell_type": "markdown",
   "source": [
    "## Tuples\n",
    "\n",
    "Tuples are almost exactly the same as lists. They differ in just two ways.\n",
    "\n",
    "**1:** The syntax for creating them uses parentheses instead of square brackets"
   ],
   "metadata": {
    "papermill": {
     "duration": 0.057219,
     "end_time": "2021-06-04T13:07:06.913392",
     "exception": false,
     "start_time": "2021-06-04T13:07:06.856173",
     "status": "completed"
    },
    "tags": []
   }
  },
  {
   "cell_type": "code",
   "execution_count": 33,
   "source": [
    "t = (1, 2, 3)"
   ],
   "outputs": [],
   "metadata": {
    "execution": {
     "iopub.execute_input": "2021-06-04T13:07:07.028883Z",
     "iopub.status.busy": "2021-06-04T13:07:07.028243Z",
     "iopub.status.idle": "2021-06-04T13:07:07.033146Z",
     "shell.execute_reply": "2021-06-04T13:07:07.032478Z"
    },
    "papermill": {
     "duration": 0.06364,
     "end_time": "2021-06-04T13:07:07.033290",
     "exception": false,
     "start_time": "2021-06-04T13:07:06.969650",
     "status": "completed"
    },
    "tags": []
   }
  },
  {
   "cell_type": "code",
   "execution_count": 34,
   "source": [
    "t = 1, 2, 3 # equivalent to above\r\n",
    "t"
   ],
   "outputs": [
    {
     "output_type": "execute_result",
     "data": {
      "text/plain": [
       "(1, 2, 3)"
      ]
     },
     "metadata": {},
     "execution_count": 34
    }
   ],
   "metadata": {
    "execution": {
     "iopub.execute_input": "2021-06-04T13:07:07.150889Z",
     "iopub.status.busy": "2021-06-04T13:07:07.150231Z",
     "iopub.status.idle": "2021-06-04T13:07:07.155499Z",
     "shell.execute_reply": "2021-06-04T13:07:07.156109Z"
    },
    "papermill": {
     "duration": 0.065417,
     "end_time": "2021-06-04T13:07:07.156281",
     "exception": false,
     "start_time": "2021-06-04T13:07:07.090864",
     "status": "completed"
    },
    "tags": []
   }
  },
  {
   "cell_type": "markdown",
   "source": [
    "**2:** They cannot be modified (they are *immutable*)."
   ],
   "metadata": {
    "papermill": {
     "duration": 0.057893,
     "end_time": "2021-06-04T13:07:07.272119",
     "exception": false,
     "start_time": "2021-06-04T13:07:07.214226",
     "status": "completed"
    },
    "tags": []
   }
  },
  {
   "cell_type": "code",
   "execution_count": 35,
   "source": [
    "t[0] = 100"
   ],
   "outputs": [
    {
     "output_type": "error",
     "ename": "TypeError",
     "evalue": "'tuple' object does not support item assignment",
     "traceback": [
      "\u001b[1;31m---------------------------------------------------------------------------\u001b[0m",
      "\u001b[1;31mTypeError\u001b[0m                                 Traceback (most recent call last)",
      "\u001b[1;32m<ipython-input-35-e6cf7836e708>\u001b[0m in \u001b[0;36m<module>\u001b[1;34m\u001b[0m\n\u001b[1;32m----> 1\u001b[1;33m \u001b[0mt\u001b[0m\u001b[1;33m[\u001b[0m\u001b[1;36m0\u001b[0m\u001b[1;33m]\u001b[0m \u001b[1;33m=\u001b[0m \u001b[1;36m100\u001b[0m\u001b[1;33m\u001b[0m\u001b[1;33m\u001b[0m\u001b[0m\n\u001b[0m",
      "\u001b[1;31mTypeError\u001b[0m: 'tuple' object does not support item assignment"
     ]
    }
   ],
   "metadata": {
    "execution": {
     "iopub.execute_input": "2021-06-04T13:07:07.398289Z",
     "iopub.status.busy": "2021-06-04T13:07:07.390656Z",
     "iopub.status.idle": "2021-06-04T13:07:07.403112Z",
     "shell.execute_reply": "2021-06-04T13:07:07.403592Z"
    },
    "papermill": {
     "duration": 0.073938,
     "end_time": "2021-06-04T13:07:07.403772",
     "exception": false,
     "start_time": "2021-06-04T13:07:07.329834",
     "status": "completed"
    },
    "tags": [
     "raises-exception"
    ]
   }
  },
  {
   "cell_type": "markdown",
   "source": [
    "### Tuples over List\r\n",
    "- ***Tuples are faster than lists***. If you're defining a constant set of values and all you're ever going to do with it is iterate through it, use a tuple instead of a list.\r\n",
    "\r\n",
    "- It makes your code safer if you “write-protect” data that does not need to be changed. Using a tuple instead of a list is like having an implied assert statement that this data is constant, and that special thought (and a specific function) is required to override that.\r\n",
    "\r\n",
    "- Some tuples can be used as dictionary keys (specifically, tuples that contain immutable values like strings, numbers, and other tuples). Lists can never be used as dictionary keys, because lists are not immutable."
   ],
   "metadata": {}
  },
  {
   "cell_type": "markdown",
   "source": [
    "Tuples are often used for functions that have multiple return values.\n",
    "\n",
    "For example, the ``as_integer_ratio()`` method of float objects returns a numerator and a denominator in the form of a tuple:"
   ],
   "metadata": {
    "papermill": {
     "duration": 0.057871,
     "end_time": "2021-06-04T13:07:07.518842",
     "exception": false,
     "start_time": "2021-06-04T13:07:07.460971",
     "status": "completed"
    },
    "tags": []
   }
  },
  {
   "cell_type": "code",
   "execution_count": 36,
   "source": [
    "x = 0.125\r\n",
    "x.as_integer_ratio()"
   ],
   "outputs": [
    {
     "output_type": "execute_result",
     "data": {
      "text/plain": [
       "(1, 8)"
      ]
     },
     "metadata": {},
     "execution_count": 36
    }
   ],
   "metadata": {
    "execution": {
     "iopub.execute_input": "2021-06-04T13:07:07.638797Z",
     "iopub.status.busy": "2021-06-04T13:07:07.638154Z",
     "iopub.status.idle": "2021-06-04T13:07:07.643724Z",
     "shell.execute_reply": "2021-06-04T13:07:07.643110Z"
    },
    "papermill": {
     "duration": 0.066618,
     "end_time": "2021-06-04T13:07:07.643871",
     "exception": false,
     "start_time": "2021-06-04T13:07:07.577253",
     "status": "completed"
    },
    "tags": []
   }
  },
  {
   "cell_type": "markdown",
   "source": [
    "These multiple return values can be individually assigned as follows:"
   ],
   "metadata": {
    "papermill": {
     "duration": 0.058958,
     "end_time": "2021-06-04T13:07:07.760362",
     "exception": false,
     "start_time": "2021-06-04T13:07:07.701404",
     "status": "completed"
    },
    "tags": []
   }
  },
  {
   "cell_type": "code",
   "execution_count": 37,
   "source": [
    "numerator, denominator = x.as_integer_ratio()\r\n",
    "print(numerator)\r\n",
    "print(denominator)\r\n",
    "print(numerator / denominator)"
   ],
   "outputs": [
    {
     "output_type": "stream",
     "name": "stdout",
     "text": [
      "1\n",
      "8\n",
      "0.125\n"
     ]
    }
   ],
   "metadata": {
    "execution": {
     "iopub.execute_input": "2021-06-04T13:07:07.890051Z",
     "iopub.status.busy": "2021-06-04T13:07:07.888970Z",
     "iopub.status.idle": "2021-06-04T13:07:07.894361Z",
     "shell.execute_reply": "2021-06-04T13:07:07.894989Z"
    },
    "papermill": {
     "duration": 0.071033,
     "end_time": "2021-06-04T13:07:07.895160",
     "exception": false,
     "start_time": "2021-06-04T13:07:07.824127",
     "status": "completed"
    },
    "tags": []
   }
  },
  {
   "cell_type": "markdown",
   "source": [
    "Finally we have some insight into the classic Stupid Python Trick™ for swapping two variables!"
   ],
   "metadata": {
    "papermill": {
     "duration": 0.064879,
     "end_time": "2021-06-04T13:07:08.032873",
     "exception": false,
     "start_time": "2021-06-04T13:07:07.967994",
     "status": "completed"
    },
    "tags": []
   }
  },
  {
   "cell_type": "code",
   "execution_count": 38,
   "source": [
    "a = 1\r\n",
    "b = 0\r\n",
    "a, b = b, a\r\n",
    "print(a, b)"
   ],
   "outputs": [
    {
     "output_type": "stream",
     "name": "stdout",
     "text": [
      "0 1\n"
     ]
    }
   ],
   "metadata": {
    "execution": {
     "iopub.execute_input": "2021-06-04T13:07:08.166730Z",
     "iopub.status.busy": "2021-06-04T13:07:08.165690Z",
     "iopub.status.idle": "2021-06-04T13:07:08.171738Z",
     "shell.execute_reply": "2021-06-04T13:07:08.172280Z"
    },
    "papermill": {
     "duration": 0.069239,
     "end_time": "2021-06-04T13:07:08.172447",
     "exception": false,
     "start_time": "2021-06-04T13:07:08.103208",
     "status": "completed"
    },
    "tags": []
   }
  },
  {
   "cell_type": "markdown",
   "source": [
    "## Exercise\r\n",
    "Things get more interesting with lists. You'll apply your new knowledge to solve the questions below."
   ],
   "metadata": {}
  },
  {
   "cell_type": "markdown",
   "source": [
    "# 1. Second Element\r\n",
    "\r\n",
    "Complete the function below according to its docstring.\r\n",
    "\r\n",
    "Hint: Python starts counting at 0."
   ],
   "metadata": {}
  },
  {
   "cell_type": "code",
   "execution_count": 41,
   "source": [
    "def select_second(L):\r\n",
    "    \"\"\"Return the second element of the given list. If the list has no second\r\n",
    "    element, return None.\r\n",
    "    \"\"\"\r\n",
    "    if len(L) >= 2:\r\n",
    "        return L[1]\r\n",
    "    else:\r\n",
    "        return None\r\n",
    "    pass"
   ],
   "outputs": [],
   "metadata": {}
  },
  {
   "cell_type": "markdown",
   "source": [
    "# 2. Captain of the worst team.\r\n",
    "\r\n",
    "You are analyzing sports teams.  Members of each team are stored in a list. The Coach is the first name in the list, the captain is the second name in the list, and other players are listed after that. \r\n",
    "These lists are stored in another list, which starts with the best team and proceeds through the list to the worst team last.  Complete the function below to select the **captain** of the worst team."
   ],
   "metadata": {}
  },
  {
   "cell_type": "code",
   "execution_count": null,
   "source": [
    "def losing_team_captain(teams):\r\n",
    "    \"\"\"Given a list of teams, where each team is a list of names, return the 2nd player (captain)\r\n",
    "    from the last listed team\r\n",
    "    \"\"\"\r\n",
    "    return teams[len(teams) -1][1]\r\n",
    "    pass"
   ],
   "outputs": [],
   "metadata": {}
  },
  {
   "cell_type": "markdown",
   "source": [
    "# 3. Purple Shell\r\n",
    "\r\n",
    "The next iteration of Mario Kart will feature an extra-infuriating new item, the *Purple Shell*. When used, it warps the last place racer into first place and the first place racer into last place. Complete the function below to implement the Purple Shell's effect."
   ],
   "metadata": {}
  },
  {
   "cell_type": "code",
   "execution_count": null,
   "source": [
    "def purple_shell(racers):\r\n",
    "    \"\"\"Given a list of racers, set the first place racer (at the front of the list) to last\r\n",
    "    place and vice versa.\r\n",
    "    \r\n",
    "    >>> r = [\"Mario\", \"Bowser\", \"Luigi\"]\r\n",
    "    >>> purple_shell(r)\r\n",
    "    >>> r\r\n",
    "    [\"Luigi\", \"Bowser\", \"Mario\"]\r\n",
    "    \"\"\"\r\n",
    "    a = racers[len(racers) - 1]\r\n",
    "    racers[len(racers) - 1] = racer[0]\r\n",
    "    racer[0] = a\r\n",
    "    pass"
   ],
   "outputs": [],
   "metadata": {}
  },
  {
   "cell_type": "markdown",
   "source": [
    "# 4. Guest the Length!\r\n",
    "\r\n",
    "What are the lengths of the following lists? Fill in the variable `lengths` with your predictions. (Try to make a prediction for each list *without* just calling `len()` on it.)"
   ],
   "metadata": {}
  },
  {
   "cell_type": "code",
   "execution_count": 42,
   "source": [
    "a = [1, 2, 3]\r\n",
    "b = [1, [2, 3]]\r\n",
    "c = []\r\n",
    "d = [1, 2, 3][1:]\r\n",
    "\r\n",
    "# Put your predictions in the list below. Lengths should contain 4 numbers, the\r\n",
    "# first being the length of a, the second being the length of b and so on.\r\n",
    "lengths = [3, 2, 0, 2]"
   ],
   "outputs": [],
   "metadata": {}
  },
  {
   "cell_type": "markdown",
   "source": [
    "# 5. Who is late? <span title=\"A bit spicy\" style=\"color: darkgreen \">🌶️</span>\r\n",
    "\r\n",
    "We're using lists to record people who attended our party and what order they arrived in. For example, the following list represents a party with 7 guests, in which Adela showed up first and Ford was the last to arrive:\r\n",
    "\r\n",
    "    party_attendees = ['Adela', 'Fleda', 'Owen', 'May', 'Mona', 'Gilbert', 'Ford']\r\n",
    "\r\n",
    "A guest is considered 'fashionably late' if they arrived after at least half of the party's guests. However, they must not be the very last guest (that's taking it too far). In the above example, Mona and Gilbert are the only guests who were fashionably late.\r\n",
    "\r\n",
    "Complete the function below which takes a list of party attendees as well as a person, and tells us whether that person is fashionably late."
   ],
   "metadata": {}
  },
  {
   "cell_type": "code",
   "execution_count": 44,
   "source": [
    "def fashionably_late(arrivals, name):\r\n",
    "    \"\"\"Given an ordered list of arrivals to the party and a name, return whether the guest with that\r\n",
    "    name was fashionably late.\r\n",
    "    \"\"\"\r\n",
    "    late_start = round(len(arrivals)/2)\r\n",
    "    late_stop = len(arrivals) - 1\r\n",
    "    fas_late = arrivals[late_start:late_stop]\r\n",
    "    return name in fas_late\r\n",
    "    pass"
   ],
   "outputs": [],
   "metadata": {}
  }
 ],
 "metadata": {
  "anaconda-cloud": {},
  "kernelspec": {
   "name": "python3",
   "display_name": "Python 3.7.4 64-bit ('base': conda)"
  },
  "language_info": {
   "codemirror_mode": {
    "name": "ipython",
    "version": 3
   },
   "file_extension": ".py",
   "mimetype": "text/x-python",
   "name": "python",
   "nbconvert_exporter": "python",
   "pygments_lexer": "ipython3",
   "version": "3.7.4"
  },
  "learntools_metadata": {
   "lesson_index": 3,
   "type": "tutorial"
  },
  "papermill": {
   "default_parameters": {},
   "duration": 15.412386,
   "end_time": "2021-06-04T13:07:09.077009",
   "environment_variables": {},
   "exception": null,
   "input_path": "__notebook__.ipynb",
   "output_path": "__notebook__.ipynb",
   "parameters": {},
   "start_time": "2021-06-04T13:06:53.664623",
   "version": "2.3.2"
  },
  "interpreter": {
   "hash": "6ad2903d9f8eb78095a8e1054d3b7d96029c25240c1559c5c7674409ebbac066"
  }
 },
 "nbformat": 4,
 "nbformat_minor": 5
}