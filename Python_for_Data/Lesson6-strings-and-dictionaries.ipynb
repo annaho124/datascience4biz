{
 "cells": [
  {
   "cell_type": "markdown",
   "source": [
    "# Strings"
   ],
   "metadata": {
    "papermill": {
     "duration": 0.039222,
     "end_time": "2021-06-04T13:07:04.841814",
     "exception": false,
     "start_time": "2021-06-04T13:07:04.802592",
     "status": "completed"
    },
    "tags": []
   }
  },
  {
   "cell_type": "markdown",
   "source": [
    "One place where the Python language really shines is in the manipulation of strings.\r\n",
    "This section will cover some of Python's built-in string methods and formatting operations.\r\n",
    "\r\n",
    "Such string manipulation patterns come up often in the context of data science work, and is one big perk of Python in this context\r\n",
    "\r\n",
    "## String syntax\r\n",
    "\r\n",
    "You've already seen plenty of strings in examples during the previous lessons, but just to recap, strings in Python can be defined using either single or double quotations. They are functionally equivalent."
   ],
   "metadata": {
    "papermill": {
     "duration": 0.03921,
     "end_time": "2021-06-04T13:07:04.920002",
     "exception": false,
     "start_time": "2021-06-04T13:07:04.880792",
     "status": "completed"
    },
    "tags": []
   }
  },
  {
   "cell_type": "code",
   "execution_count": 1,
   "source": [
    "x = 'Pluto is a planet'\r\n",
    "y = \"Pluto is a planet\"\r\n",
    "x == y"
   ],
   "outputs": [
    {
     "output_type": "execute_result",
     "data": {
      "text/plain": [
       "True"
      ]
     },
     "metadata": {},
     "execution_count": 1
    }
   ],
   "metadata": {
    "execution": {
     "iopub.execute_input": "2021-06-04T13:07:05.002494Z",
     "iopub.status.busy": "2021-06-04T13:07:05.001350Z",
     "iopub.status.idle": "2021-06-04T13:07:05.008928Z",
     "shell.execute_reply": "2021-06-04T13:07:05.009421Z"
    },
    "papermill": {
     "duration": 0.050882,
     "end_time": "2021-06-04T13:07:05.009707",
     "exception": false,
     "start_time": "2021-06-04T13:07:04.958825",
     "status": "completed"
    },
    "tags": []
   }
  },
  {
   "cell_type": "markdown",
   "source": [
    "Double quotes are convenient if your string contains a single quote character (e.g. representing an apostrophe).\n",
    "\n",
    "Similarly, it's easy to create a string that contains double-quotes if you wrap it in single quotes:"
   ],
   "metadata": {
    "papermill": {
     "duration": 0.039368,
     "end_time": "2021-06-04T13:07:05.089224",
     "exception": false,
     "start_time": "2021-06-04T13:07:05.049856",
     "status": "completed"
    },
    "tags": []
   }
  },
  {
   "cell_type": "code",
   "execution_count": 2,
   "source": [
    "print(\"Let's learn some code!\")\r\n",
    "print('My cat is named \"Noel\"')"
   ],
   "outputs": [
    {
     "output_type": "stream",
     "name": "stdout",
     "text": [
      "Let's learn some code!\n",
      "My cat is named \"Noel\"\n"
     ]
    }
   ],
   "metadata": {
    "execution": {
     "iopub.execute_input": "2021-06-04T13:07:05.175437Z",
     "iopub.status.busy": "2021-06-04T13:07:05.174615Z",
     "iopub.status.idle": "2021-06-04T13:07:05.177801Z",
     "shell.execute_reply": "2021-06-04T13:07:05.178300Z"
    },
    "papermill": {
     "duration": 0.048953,
     "end_time": "2021-06-04T13:07:05.178476",
     "exception": false,
     "start_time": "2021-06-04T13:07:05.129523",
     "status": "completed"
    },
    "tags": []
   }
  },
  {
   "cell_type": "markdown",
   "source": [
    "If we try to put a single quote character inside a single-quoted string, Python gets confused:"
   ],
   "metadata": {
    "papermill": {
     "duration": 0.039971,
     "end_time": "2021-06-04T13:07:05.258962",
     "exception": false,
     "start_time": "2021-06-04T13:07:05.218991",
     "status": "completed"
    },
    "tags": []
   }
  },
  {
   "cell_type": "code",
   "execution_count": 3,
   "source": [
    "'Pluto's a planet!'"
   ],
   "outputs": [
    {
     "output_type": "error",
     "ename": "SyntaxError",
     "evalue": "invalid syntax (<ipython-input-3-a43631749f52>, line 1)",
     "traceback": [
      "\u001b[1;36m  File \u001b[1;32m\"<ipython-input-3-a43631749f52>\"\u001b[1;36m, line \u001b[1;32m1\u001b[0m\n\u001b[1;33m    'Pluto's a planet!'\u001b[0m\n\u001b[1;37m           ^\u001b[0m\n\u001b[1;31mSyntaxError\u001b[0m\u001b[1;31m:\u001b[0m invalid syntax\n"
     ]
    }
   ],
   "metadata": {
    "execution": {
     "iopub.execute_input": "2021-06-04T13:07:05.344976Z",
     "iopub.status.busy": "2021-06-04T13:07:05.344017Z",
     "iopub.status.idle": "2021-06-04T13:07:05.349646Z",
     "shell.execute_reply": "2021-06-04T13:07:05.350178Z"
    },
    "papermill": {
     "duration": 0.049553,
     "end_time": "2021-06-04T13:07:05.350415",
     "exception": false,
     "start_time": "2021-06-04T13:07:05.300862",
     "status": "completed"
    },
    "tags": [
     "raises-exception"
    ]
   }
  },
  {
   "cell_type": "markdown",
   "source": [
    "We can fix this by \"escaping\" the single quote with a backslash. "
   ],
   "metadata": {
    "papermill": {
     "duration": 0.042822,
     "end_time": "2021-06-04T13:07:05.435656",
     "exception": false,
     "start_time": "2021-06-04T13:07:05.392834",
     "status": "completed"
    },
    "tags": []
   }
  },
  {
   "cell_type": "code",
   "execution_count": 4,
   "source": [
    "'Pluto\\'s a planet!'"
   ],
   "outputs": [
    {
     "output_type": "execute_result",
     "data": {
      "text/plain": [
       "\"Pluto's a planet!\""
      ]
     },
     "metadata": {},
     "execution_count": 4
    }
   ],
   "metadata": {
    "execution": {
     "iopub.execute_input": "2021-06-04T13:07:05.523320Z",
     "iopub.status.busy": "2021-06-04T13:07:05.522343Z",
     "iopub.status.idle": "2021-06-04T13:07:05.528668Z",
     "shell.execute_reply": "2021-06-04T13:07:05.528126Z"
    },
    "papermill": {
     "duration": 0.050436,
     "end_time": "2021-06-04T13:07:05.528805",
     "exception": false,
     "start_time": "2021-06-04T13:07:05.478369",
     "status": "completed"
    },
    "tags": []
   }
  },
  {
   "cell_type": "markdown",
   "source": [
    "The table below summarizes some important uses of the backslash character.\n",
    "\n",
    "| What you type... | What you get | example               | `print(example)`             |\n",
    "|--------------|----------------|--------------------------------------------------------|\n",
    "| `\\'`         | `'`            | `'What\\'s up?'`         | `What's up?`                 |  \n",
    "| `\\\"`         | `\"`            | `\"That's \\\"cool\\\"\"`     | `That's \"cool\"`              |  \n",
    "| `\\\\`         | `\\`            |  `\"Look, a mountain: /\\\\\"` |  `Look, a mountain: /\\`  |\n",
    "| `\\n`        |   <br/>      |   `\"1\\n2 3\"`                       |   `1`<br/>`2 3`              |"
   ],
   "metadata": {
    "papermill": {
     "duration": 0.041169,
     "end_time": "2021-06-04T13:07:05.611311",
     "exception": false,
     "start_time": "2021-06-04T13:07:05.570142",
     "status": "completed"
    },
    "tags": []
   }
  },
  {
   "cell_type": "markdown",
   "source": [
    "The last sequence, `\\n`, represents the *newline character*. It causes Python to start a new line."
   ],
   "metadata": {
    "papermill": {
     "duration": 0.041361,
     "end_time": "2021-06-04T13:07:05.694200",
     "exception": false,
     "start_time": "2021-06-04T13:07:05.652839",
     "status": "completed"
    },
    "tags": []
   }
  },
  {
   "cell_type": "code",
   "execution_count": 5,
   "source": [
    "hello = \"hello\\nworld\"\r\n",
    "print(hello)"
   ],
   "outputs": [
    {
     "output_type": "stream",
     "name": "stdout",
     "text": [
      "hello\n",
      "world\n"
     ]
    }
   ],
   "metadata": {
    "execution": {
     "iopub.execute_input": "2021-06-04T13:07:05.784381Z",
     "iopub.status.busy": "2021-06-04T13:07:05.783383Z",
     "iopub.status.idle": "2021-06-04T13:07:05.786690Z",
     "shell.execute_reply": "2021-06-04T13:07:05.787209Z"
    },
    "papermill": {
     "duration": 0.050948,
     "end_time": "2021-06-04T13:07:05.787402",
     "exception": false,
     "start_time": "2021-06-04T13:07:05.736454",
     "status": "completed"
    },
    "tags": []
   }
  },
  {
   "cell_type": "markdown",
   "source": [
    "In addition, Python's triple quote syntax for strings lets us include newlines literally (i.e. by just hitting 'Enter' on our keyboard, rather than using the special '\\n' sequence). We've already seen this in the docstrings we use to document our functions, but we can use them anywhere we want to define a string."
   ],
   "metadata": {
    "papermill": {
     "duration": 0.042132,
     "end_time": "2021-06-04T13:07:05.871670",
     "exception": false,
     "start_time": "2021-06-04T13:07:05.829538",
     "status": "completed"
    },
    "tags": []
   }
  },
  {
   "cell_type": "code",
   "execution_count": 7,
   "source": [
    "triplequoted_hello = \"\"\"hello\r\n",
    "world\"\"\"\r\n",
    "print(triplequoted_hello)\r\n",
    "triplequoted_hello == hello"
   ],
   "outputs": [
    {
     "output_type": "stream",
     "name": "stdout",
     "text": [
      "hello\n",
      "world\n"
     ]
    },
    {
     "output_type": "execute_result",
     "data": {
      "text/plain": [
       "True"
      ]
     },
     "metadata": {},
     "execution_count": 7
    }
   ],
   "metadata": {
    "execution": {
     "iopub.execute_input": "2021-06-04T13:07:05.962754Z",
     "iopub.status.busy": "2021-06-04T13:07:05.961767Z",
     "iopub.status.idle": "2021-06-04T13:07:05.966577Z",
     "shell.execute_reply": "2021-06-04T13:07:05.965937Z"
    },
    "papermill": {
     "duration": 0.052782,
     "end_time": "2021-06-04T13:07:05.966715",
     "exception": false,
     "start_time": "2021-06-04T13:07:05.913933",
     "status": "completed"
    },
    "tags": []
   }
  },
  {
   "cell_type": "markdown",
   "source": [
    "The `print()` function automatically adds a newline character unless we specify a value for the keyword argument `end` other than the default value of `'\\n'`:"
   ],
   "metadata": {
    "papermill": {
     "duration": 0.043056,
     "end_time": "2021-06-04T13:07:06.052250",
     "exception": false,
     "start_time": "2021-06-04T13:07:06.009194",
     "status": "completed"
    },
    "tags": []
   }
  },
  {
   "cell_type": "code",
   "execution_count": 8,
   "source": [
    "print(\"hello\")\r\n",
    "print(\"world\")\r\n",
    "print(\"hello\", end='')\r\n",
    "print(\"Noel\", end='')"
   ],
   "outputs": [
    {
     "output_type": "stream",
     "name": "stdout",
     "text": [
      "hello\n",
      "world\n",
      "helloNoel"
     ]
    }
   ],
   "metadata": {
    "execution": {
     "iopub.execute_input": "2021-06-04T13:07:06.141625Z",
     "iopub.status.busy": "2021-06-04T13:07:06.140940Z",
     "iopub.status.idle": "2021-06-04T13:07:06.147053Z",
     "shell.execute_reply": "2021-06-04T13:07:06.146573Z"
    },
    "papermill": {
     "duration": 0.051614,
     "end_time": "2021-06-04T13:07:06.147213",
     "exception": false,
     "start_time": "2021-06-04T13:07:06.095599",
     "status": "completed"
    },
    "tags": []
   }
  },
  {
   "cell_type": "markdown",
   "source": [
    "## Strings are sequences\n",
    "\n",
    "Strings can be thought of as sequences of characters. Almost everything we've seen that we can do to a list, we can also do to a string."
   ],
   "metadata": {
    "papermill": {
     "duration": 0.042513,
     "end_time": "2021-06-04T13:07:06.233013",
     "exception": false,
     "start_time": "2021-06-04T13:07:06.190500",
     "status": "completed"
    },
    "tags": []
   }
  },
  {
   "cell_type": "code",
   "execution_count": 9,
   "source": [
    "# Indexing\r\n",
    "planet = 'Pluto'\r\n",
    "planet[0]"
   ],
   "outputs": [
    {
     "output_type": "execute_result",
     "data": {
      "text/plain": [
       "'P'"
      ]
     },
     "metadata": {},
     "execution_count": 9
    }
   ],
   "metadata": {
    "execution": {
     "iopub.execute_input": "2021-06-04T13:07:06.342135Z",
     "iopub.status.busy": "2021-06-04T13:07:06.340835Z",
     "iopub.status.idle": "2021-06-04T13:07:06.347831Z",
     "shell.execute_reply": "2021-06-04T13:07:06.348570Z"
    },
    "papermill": {
     "duration": 0.070048,
     "end_time": "2021-06-04T13:07:06.348810",
     "exception": false,
     "start_time": "2021-06-04T13:07:06.278762",
     "status": "completed"
    },
    "tags": []
   }
  },
  {
   "cell_type": "code",
   "execution_count": 10,
   "source": [
    "# Slicing\r\n",
    "planet[-3:]"
   ],
   "outputs": [
    {
     "output_type": "execute_result",
     "data": {
      "text/plain": [
       "'uto'"
      ]
     },
     "metadata": {},
     "execution_count": 10
    }
   ],
   "metadata": {
    "execution": {
     "iopub.execute_input": "2021-06-04T13:07:06.453791Z",
     "iopub.status.busy": "2021-06-04T13:07:06.452713Z",
     "iopub.status.idle": "2021-06-04T13:07:06.458612Z",
     "shell.execute_reply": "2021-06-04T13:07:06.459120Z"
    },
    "papermill": {
     "duration": 0.054563,
     "end_time": "2021-06-04T13:07:06.459295",
     "exception": false,
     "start_time": "2021-06-04T13:07:06.404732",
     "status": "completed"
    },
    "tags": []
   }
  },
  {
   "cell_type": "code",
   "execution_count": 12,
   "source": [
    "# How long is this string?\r\n",
    "len(planet)"
   ],
   "outputs": [
    {
     "output_type": "execute_result",
     "data": {
      "text/plain": [
       "5"
      ]
     },
     "metadata": {},
     "execution_count": 12
    }
   ],
   "metadata": {
    "execution": {
     "iopub.execute_input": "2021-06-04T13:07:06.554317Z",
     "iopub.status.busy": "2021-06-04T13:07:06.553281Z",
     "iopub.status.idle": "2021-06-04T13:07:06.558423Z",
     "shell.execute_reply": "2021-06-04T13:07:06.558866Z"
    },
    "papermill": {
     "duration": 0.055511,
     "end_time": "2021-06-04T13:07:06.559038",
     "exception": false,
     "start_time": "2021-06-04T13:07:06.503527",
     "status": "completed"
    },
    "tags": []
   }
  },
  {
   "cell_type": "code",
   "execution_count": 13,
   "source": [
    "# Yes, we can even loop over them\r\n",
    "[char+'! ' for char in planet]"
   ],
   "outputs": [
    {
     "output_type": "execute_result",
     "data": {
      "text/plain": [
       "['P! ', 'l! ', 'u! ', 't! ', 'o! ']"
      ]
     },
     "metadata": {},
     "execution_count": 13
    }
   ],
   "metadata": {
    "execution": {
     "iopub.execute_input": "2021-06-04T13:07:06.651775Z",
     "iopub.status.busy": "2021-06-04T13:07:06.650787Z",
     "iopub.status.idle": "2021-06-04T13:07:06.656322Z",
     "shell.execute_reply": "2021-06-04T13:07:06.656759Z"
    },
    "papermill": {
     "duration": 0.053488,
     "end_time": "2021-06-04T13:07:06.656933",
     "exception": false,
     "start_time": "2021-06-04T13:07:06.603445",
     "status": "completed"
    },
    "tags": []
   }
  },
  {
   "cell_type": "markdown",
   "source": [
    "But a major way in which they differ from lists is that they are *immutable*. We can't modify them."
   ],
   "metadata": {
    "papermill": {
     "duration": 0.044818,
     "end_time": "2021-06-04T13:07:06.746385",
     "exception": false,
     "start_time": "2021-06-04T13:07:06.701567",
     "status": "completed"
    },
    "tags": []
   }
  },
  {
   "cell_type": "code",
   "execution_count": 14,
   "source": [
    "planet[0] = 'B'\r\n",
    "# planet.append doesn't work either"
   ],
   "outputs": [
    {
     "output_type": "error",
     "ename": "TypeError",
     "evalue": "'str' object does not support item assignment",
     "traceback": [
      "\u001b[1;31m---------------------------------------------------------------------------\u001b[0m",
      "\u001b[1;31mTypeError\u001b[0m                                 Traceback (most recent call last)",
      "\u001b[1;32m<ipython-input-14-6ca42463b9f9>\u001b[0m in \u001b[0;36m<module>\u001b[1;34m\u001b[0m\n\u001b[1;32m----> 1\u001b[1;33m \u001b[0mplanet\u001b[0m\u001b[1;33m[\u001b[0m\u001b[1;36m0\u001b[0m\u001b[1;33m]\u001b[0m \u001b[1;33m=\u001b[0m \u001b[1;34m'B'\u001b[0m\u001b[1;33m\u001b[0m\u001b[1;33m\u001b[0m\u001b[0m\n\u001b[0m\u001b[0;32m      2\u001b[0m \u001b[1;31m# planet.append doesn't work either\u001b[0m\u001b[1;33m\u001b[0m\u001b[1;33m\u001b[0m\u001b[1;33m\u001b[0m\u001b[0m\n",
      "\u001b[1;31mTypeError\u001b[0m: 'str' object does not support item assignment"
     ]
    }
   ],
   "metadata": {
    "execution": {
     "iopub.execute_input": "2021-06-04T13:07:06.866723Z",
     "iopub.status.busy": "2021-06-04T13:07:06.865738Z",
     "iopub.status.idle": "2021-06-04T13:07:06.919668Z",
     "shell.execute_reply": "2021-06-04T13:07:06.920419Z"
    },
    "papermill": {
     "duration": 0.113934,
     "end_time": "2021-06-04T13:07:06.920634",
     "exception": false,
     "start_time": "2021-06-04T13:07:06.806700",
     "status": "completed"
    },
    "tags": [
     "raises-exception"
    ]
   }
  },
  {
   "cell_type": "markdown",
   "source": [
    "## String methods\n",
    "\n",
    "Like `list`, the type `str` has lots of very useful methods. I'll show just a few examples here."
   ],
   "metadata": {
    "papermill": {
     "duration": 0.047378,
     "end_time": "2021-06-04T13:07:07.015019",
     "exception": false,
     "start_time": "2021-06-04T13:07:06.967641",
     "status": "completed"
    },
    "tags": []
   }
  },
  {
   "cell_type": "code",
   "execution_count": 15,
   "source": [
    "# ALL CAPS\r\n",
    "claim = \"Pluto is a planet!\"\r\n",
    "claim.upper()"
   ],
   "outputs": [
    {
     "output_type": "execute_result",
     "data": {
      "text/plain": [
       "'PLUTO IS A PLANET!'"
      ]
     },
     "metadata": {},
     "execution_count": 15
    }
   ],
   "metadata": {
    "execution": {
     "iopub.execute_input": "2021-06-04T13:07:07.121481Z",
     "iopub.status.busy": "2021-06-04T13:07:07.120482Z",
     "iopub.status.idle": "2021-06-04T13:07:07.127457Z",
     "shell.execute_reply": "2021-06-04T13:07:07.126874Z"
    },
    "papermill": {
     "duration": 0.059392,
     "end_time": "2021-06-04T13:07:07.127617",
     "exception": false,
     "start_time": "2021-06-04T13:07:07.068225",
     "status": "completed"
    },
    "tags": []
   }
  },
  {
   "cell_type": "code",
   "execution_count": 16,
   "source": [
    "# all lowercase\r\n",
    "claim.lower()"
   ],
   "outputs": [
    {
     "output_type": "execute_result",
     "data": {
      "text/plain": [
       "'pluto is a planet!'"
      ]
     },
     "metadata": {},
     "execution_count": 16
    }
   ],
   "metadata": {
    "execution": {
     "iopub.execute_input": "2021-06-04T13:07:07.228229Z",
     "iopub.status.busy": "2021-06-04T13:07:07.227220Z",
     "iopub.status.idle": "2021-06-04T13:07:07.232619Z",
     "shell.execute_reply": "2021-06-04T13:07:07.231944Z"
    },
    "papermill": {
     "duration": 0.057723,
     "end_time": "2021-06-04T13:07:07.232765",
     "exception": false,
     "start_time": "2021-06-04T13:07:07.175042",
     "status": "completed"
    },
    "tags": []
   }
  },
  {
   "cell_type": "code",
   "execution_count": 17,
   "source": [
    "# Searching for the first index of a substring\r\n",
    "claim.index('plan')"
   ],
   "outputs": [
    {
     "output_type": "execute_result",
     "data": {
      "text/plain": [
       "11"
      ]
     },
     "metadata": {},
     "execution_count": 17
    }
   ],
   "metadata": {
    "execution": {
     "iopub.execute_input": "2021-06-04T13:07:07.334332Z",
     "iopub.status.busy": "2021-06-04T13:07:07.333331Z",
     "iopub.status.idle": "2021-06-04T13:07:07.338596Z",
     "shell.execute_reply": "2021-06-04T13:07:07.337865Z"
    },
    "papermill": {
     "duration": 0.058859,
     "end_time": "2021-06-04T13:07:07.338764",
     "exception": false,
     "start_time": "2021-06-04T13:07:07.279905",
     "status": "completed"
    },
    "tags": []
   }
  },
  {
   "cell_type": "code",
   "execution_count": 18,
   "source": [
    "claim.startswith(planet)"
   ],
   "outputs": [
    {
     "output_type": "execute_result",
     "data": {
      "text/plain": [
       "True"
      ]
     },
     "metadata": {},
     "execution_count": 18
    }
   ],
   "metadata": {
    "execution": {
     "iopub.execute_input": "2021-06-04T13:07:07.442252Z",
     "iopub.status.busy": "2021-06-04T13:07:07.441239Z",
     "iopub.status.idle": "2021-06-04T13:07:07.446617Z",
     "shell.execute_reply": "2021-06-04T13:07:07.447077Z"
    },
    "papermill": {
     "duration": 0.058687,
     "end_time": "2021-06-04T13:07:07.447281",
     "exception": false,
     "start_time": "2021-06-04T13:07:07.388594",
     "status": "completed"
    },
    "tags": []
   }
  },
  {
   "cell_type": "code",
   "execution_count": 19,
   "source": [
    "claim.endswith('dwarf planet')"
   ],
   "outputs": [
    {
     "output_type": "execute_result",
     "data": {
      "text/plain": [
       "False"
      ]
     },
     "metadata": {},
     "execution_count": 19
    }
   ],
   "metadata": {
    "execution": {
     "iopub.execute_input": "2021-06-04T13:07:07.548237Z",
     "iopub.status.busy": "2021-06-04T13:07:07.547246Z",
     "iopub.status.idle": "2021-06-04T13:07:07.553369Z",
     "shell.execute_reply": "2021-06-04T13:07:07.553902Z"
    },
    "papermill": {
     "duration": 0.057639,
     "end_time": "2021-06-04T13:07:07.554126",
     "exception": false,
     "start_time": "2021-06-04T13:07:07.496487",
     "status": "completed"
    },
    "tags": []
   }
  },
  {
   "cell_type": "markdown",
   "source": [
    "### Going between strings and lists: `.split()` and `.join()`\n",
    "\n",
    "`str.split()` turns a string into a list of smaller strings, breaking on whitespace by default. This is super useful for taking you from one big string to a list of words."
   ],
   "metadata": {
    "papermill": {
     "duration": 0.048364,
     "end_time": "2021-06-04T13:07:07.650331",
     "exception": false,
     "start_time": "2021-06-04T13:07:07.601967",
     "status": "completed"
    },
    "tags": []
   }
  },
  {
   "cell_type": "code",
   "execution_count": 20,
   "source": [
    "words = claim.split()\r\n",
    "words"
   ],
   "outputs": [
    {
     "output_type": "execute_result",
     "data": {
      "text/plain": [
       "['Pluto', 'is', 'a', 'planet!']"
      ]
     },
     "metadata": {},
     "execution_count": 20
    }
   ],
   "metadata": {
    "execution": {
     "iopub.execute_input": "2021-06-04T13:07:07.750555Z",
     "iopub.status.busy": "2021-06-04T13:07:07.749900Z",
     "iopub.status.idle": "2021-06-04T13:07:07.755268Z",
     "shell.execute_reply": "2021-06-04T13:07:07.755745Z"
    },
    "papermill": {
     "duration": 0.056746,
     "end_time": "2021-06-04T13:07:07.755923",
     "exception": false,
     "start_time": "2021-06-04T13:07:07.699177",
     "status": "completed"
    },
    "tags": []
   }
  },
  {
   "cell_type": "markdown",
   "source": [
    "Occasionally you'll want to split on something other than whitespace:"
   ],
   "metadata": {
    "papermill": {
     "duration": 0.049884,
     "end_time": "2021-06-04T13:07:07.854930",
     "exception": false,
     "start_time": "2021-06-04T13:07:07.805046",
     "status": "completed"
    },
    "tags": []
   }
  },
  {
   "cell_type": "code",
   "execution_count": 21,
   "source": [
    "datestr = '1956-01-31'\r\n",
    "year, month, day = datestr.split('-')"
   ],
   "outputs": [],
   "metadata": {
    "collapsed": true,
    "execution": {
     "iopub.execute_input": "2021-06-04T13:07:07.960120Z",
     "iopub.status.busy": "2021-06-04T13:07:07.959285Z",
     "iopub.status.idle": "2021-06-04T13:07:07.962415Z",
     "shell.execute_reply": "2021-06-04T13:07:07.961900Z"
    },
    "papermill": {
     "duration": 0.057674,
     "end_time": "2021-06-04T13:07:07.962574",
     "exception": false,
     "start_time": "2021-06-04T13:07:07.904900",
     "status": "completed"
    },
    "tags": []
   }
  },
  {
   "cell_type": "markdown",
   "source": [
    "`str.join()` takes us in the other direction, sewing a list of strings up into one long string, using the string it was called on as a separator."
   ],
   "metadata": {
    "papermill": {
     "duration": 0.048854,
     "end_time": "2021-06-04T13:07:08.062226",
     "exception": false,
     "start_time": "2021-06-04T13:07:08.013372",
     "status": "completed"
    },
    "tags": []
   }
  },
  {
   "cell_type": "code",
   "execution_count": 22,
   "source": [
    "'/'.join([month, day, year])"
   ],
   "outputs": [
    {
     "output_type": "execute_result",
     "data": {
      "text/plain": [
       "'01/31/1956'"
      ]
     },
     "metadata": {},
     "execution_count": 22
    }
   ],
   "metadata": {
    "execution": {
     "iopub.execute_input": "2021-06-04T13:07:08.168249Z",
     "iopub.status.busy": "2021-06-04T13:07:08.167460Z",
     "iopub.status.idle": "2021-06-04T13:07:08.173009Z",
     "shell.execute_reply": "2021-06-04T13:07:08.172401Z"
    },
    "papermill": {
     "duration": 0.061052,
     "end_time": "2021-06-04T13:07:08.173189",
     "exception": false,
     "start_time": "2021-06-04T13:07:08.112137",
     "status": "completed"
    },
    "tags": []
   }
  },
  {
   "cell_type": "code",
   "execution_count": 23,
   "source": [
    "# Yes, we can put unicode characters right in our string literals :)\r\n",
    "' 👏 '.join([word.upper() for word in words])"
   ],
   "outputs": [
    {
     "output_type": "execute_result",
     "data": {
      "text/plain": [
       "'PLUTO 👏 IS 👏 A 👏 PLANET!'"
      ]
     },
     "metadata": {},
     "execution_count": 23
    }
   ],
   "metadata": {
    "execution": {
     "iopub.execute_input": "2021-06-04T13:07:08.278350Z",
     "iopub.status.busy": "2021-06-04T13:07:08.277635Z",
     "iopub.status.idle": "2021-06-04T13:07:08.282941Z",
     "shell.execute_reply": "2021-06-04T13:07:08.282424Z"
    },
    "papermill": {
     "duration": 0.05959,
     "end_time": "2021-06-04T13:07:08.283121",
     "exception": false,
     "start_time": "2021-06-04T13:07:08.223531",
     "status": "completed"
    },
    "tags": []
   }
  },
  {
   "cell_type": "markdown",
   "source": [
    "### Building strings with `.format()`\n",
    "\n",
    "Python lets us concatenate strings with the `+` operator."
   ],
   "metadata": {
    "papermill": {
     "duration": 0.052421,
     "end_time": "2021-06-04T13:07:08.388335",
     "exception": false,
     "start_time": "2021-06-04T13:07:08.335914",
     "status": "completed"
    },
    "tags": []
   }
  },
  {
   "cell_type": "code",
   "execution_count": 24,
   "source": [
    "planet + ', we miss you.'"
   ],
   "outputs": [
    {
     "output_type": "execute_result",
     "data": {
      "text/plain": [
       "'Pluto, we miss you.'"
      ]
     },
     "metadata": {},
     "execution_count": 24
    }
   ],
   "metadata": {
    "execution": {
     "iopub.execute_input": "2021-06-04T13:07:08.495327Z",
     "iopub.status.busy": "2021-06-04T13:07:08.494519Z",
     "iopub.status.idle": "2021-06-04T13:07:08.498717Z",
     "shell.execute_reply": "2021-06-04T13:07:08.499248Z"
    },
    "papermill": {
     "duration": 0.060583,
     "end_time": "2021-06-04T13:07:08.499426",
     "exception": false,
     "start_time": "2021-06-04T13:07:08.438843",
     "status": "completed"
    },
    "tags": []
   }
  },
  {
   "cell_type": "markdown",
   "source": [
    "If we want to throw in any non-string objects, we have to be careful to call `str()` on them first"
   ],
   "metadata": {
    "papermill": {
     "duration": 0.049763,
     "end_time": "2021-06-04T13:07:08.600005",
     "exception": false,
     "start_time": "2021-06-04T13:07:08.550242",
     "status": "completed"
    },
    "tags": []
   }
  },
  {
   "cell_type": "code",
   "execution_count": 25,
   "source": [
    "position = 9\r\n",
    "planet + \", you'll always be the \" + position + \"th planet to me.\""
   ],
   "outputs": [
    {
     "output_type": "error",
     "ename": "TypeError",
     "evalue": "can only concatenate str (not \"int\") to str",
     "traceback": [
      "\u001b[1;31m---------------------------------------------------------------------------\u001b[0m",
      "\u001b[1;31mTypeError\u001b[0m                                 Traceback (most recent call last)",
      "\u001b[1;32m<ipython-input-25-73295f9638cc>\u001b[0m in \u001b[0;36m<module>\u001b[1;34m\u001b[0m\n\u001b[0;32m      1\u001b[0m \u001b[0mposition\u001b[0m \u001b[1;33m=\u001b[0m \u001b[1;36m9\u001b[0m\u001b[1;33m\u001b[0m\u001b[1;33m\u001b[0m\u001b[0m\n\u001b[1;32m----> 2\u001b[1;33m \u001b[0mplanet\u001b[0m \u001b[1;33m+\u001b[0m \u001b[1;34m\", you'll always be the \"\u001b[0m \u001b[1;33m+\u001b[0m \u001b[0mposition\u001b[0m \u001b[1;33m+\u001b[0m \u001b[1;34m\"th planet to me.\"\u001b[0m\u001b[1;33m\u001b[0m\u001b[1;33m\u001b[0m\u001b[0m\n\u001b[0m",
      "\u001b[1;31mTypeError\u001b[0m: can only concatenate str (not \"int\") to str"
     ]
    }
   ],
   "metadata": {
    "execution": {
     "iopub.execute_input": "2021-06-04T13:07:08.714382Z",
     "iopub.status.busy": "2021-06-04T13:07:08.713673Z",
     "iopub.status.idle": "2021-06-04T13:07:08.717558Z",
     "shell.execute_reply": "2021-06-04T13:07:08.718126Z"
    },
    "papermill": {
     "duration": 0.067766,
     "end_time": "2021-06-04T13:07:08.718313",
     "exception": false,
     "start_time": "2021-06-04T13:07:08.650547",
     "status": "completed"
    },
    "tags": [
     "raises-exception"
    ]
   }
  },
  {
   "cell_type": "code",
   "execution_count": 26,
   "source": [
    "planet + \", you'll always be the \" + str(position) + \"th planet to me.\""
   ],
   "outputs": [
    {
     "output_type": "execute_result",
     "data": {
      "text/plain": [
       "\"Pluto, you'll always be the 9th planet to me.\""
      ]
     },
     "metadata": {},
     "execution_count": 26
    }
   ],
   "metadata": {
    "execution": {
     "iopub.execute_input": "2021-06-04T13:07:08.824490Z",
     "iopub.status.busy": "2021-06-04T13:07:08.823706Z",
     "iopub.status.idle": "2021-06-04T13:07:08.828887Z",
     "shell.execute_reply": "2021-06-04T13:07:08.829407Z"
    },
    "papermill": {
     "duration": 0.060318,
     "end_time": "2021-06-04T13:07:08.829594",
     "exception": false,
     "start_time": "2021-06-04T13:07:08.769276",
     "status": "completed"
    },
    "tags": []
   }
  },
  {
   "cell_type": "markdown",
   "source": [
    "This is getting hard to read and annoying to type. `str.format()` to the rescue."
   ],
   "metadata": {
    "papermill": {
     "duration": 0.051168,
     "end_time": "2021-06-04T13:07:08.932729",
     "exception": false,
     "start_time": "2021-06-04T13:07:08.881561",
     "status": "completed"
    },
    "tags": []
   }
  },
  {
   "cell_type": "code",
   "execution_count": 27,
   "source": [
    "\"{}, you'll always be the {}th planet to me.\".format(planet, position)"
   ],
   "outputs": [
    {
     "output_type": "execute_result",
     "data": {
      "text/plain": [
       "\"Pluto, you'll always be the 9th planet to me.\""
      ]
     },
     "metadata": {},
     "execution_count": 27
    }
   ],
   "metadata": {
    "execution": {
     "iopub.execute_input": "2021-06-04T13:07:09.041381Z",
     "iopub.status.busy": "2021-06-04T13:07:09.040573Z",
     "iopub.status.idle": "2021-06-04T13:07:09.046512Z",
     "shell.execute_reply": "2021-06-04T13:07:09.045905Z"
    },
    "papermill": {
     "duration": 0.060652,
     "end_time": "2021-06-04T13:07:09.046673",
     "exception": false,
     "start_time": "2021-06-04T13:07:08.986021",
     "status": "completed"
    },
    "tags": []
   }
  },
  {
   "cell_type": "markdown",
   "source": [
    "So much cleaner! We call `.format()` on a \"format string\", where the Python values we want to insert are represented with `{}` placeholders.\n",
    "\n",
    "Notice how we didn't even have to call `str()` to convert `position` from an int. `format()` takes care of that for us.\n",
    "\n",
    "If that was all that `format()` did, it would still be incredibly useful. But as it turns out, it can do a *lot* more. Here's just a taste:"
   ],
   "metadata": {
    "papermill": {
     "duration": 0.052125,
     "end_time": "2021-06-04T13:07:09.150379",
     "exception": false,
     "start_time": "2021-06-04T13:07:09.098254",
     "status": "completed"
    },
    "tags": []
   }
  },
  {
   "cell_type": "code",
   "execution_count": 28,
   "source": [
    "pluto_mass = 1.303 * 10**22\r\n",
    "earth_mass = 5.9722 * 10**24\r\n",
    "population = 52910390\r\n",
    "#         2 decimal points   3 decimal points, format as percent     separate with commas\r\n",
    "\"{} weighs about {:.2} kilograms ({:.3%} of Earth's mass). It is home to {:,} Plutonians.\".format(\r\n",
    "    planet, pluto_mass, pluto_mass / earth_mass, population,\r\n",
    ")"
   ],
   "outputs": [
    {
     "output_type": "execute_result",
     "data": {
      "text/plain": [
       "\"Pluto weighs about 1.3e+22 kilograms (0.218% of Earth's mass). It is home to 52,910,390 Plutonians.\""
      ]
     },
     "metadata": {},
     "execution_count": 28
    }
   ],
   "metadata": {
    "execution": {
     "iopub.execute_input": "2021-06-04T13:07:09.259163Z",
     "iopub.status.busy": "2021-06-04T13:07:09.258463Z",
     "iopub.status.idle": "2021-06-04T13:07:09.262378Z",
     "shell.execute_reply": "2021-06-04T13:07:09.261837Z"
    },
    "papermill": {
     "duration": 0.060612,
     "end_time": "2021-06-04T13:07:09.262527",
     "exception": false,
     "start_time": "2021-06-04T13:07:09.201915",
     "status": "completed"
    },
    "tags": []
   }
  },
  {
   "cell_type": "code",
   "execution_count": 29,
   "source": [
    "# Referring to format() arguments by index, starting from 0\r\n",
    "s = \"\"\"Pluto's a {0}.\r\n",
    "No, it's a {1}.\r\n",
    "{0}!\r\n",
    "{1}!\"\"\".format('planet', 'dwarf planet')\r\n",
    "print(s)"
   ],
   "outputs": [
    {
     "output_type": "stream",
     "name": "stdout",
     "text": [
      "Pluto's a planet.\n",
      "No, it's a dwarf planet.\n",
      "planet!\n",
      "dwarf planet!\n"
     ]
    }
   ],
   "metadata": {
    "execution": {
     "iopub.execute_input": "2021-06-04T13:07:09.373487Z",
     "iopub.status.busy": "2021-06-04T13:07:09.372719Z",
     "iopub.status.idle": "2021-06-04T13:07:09.376351Z",
     "shell.execute_reply": "2021-06-04T13:07:09.375784Z"
    },
    "papermill": {
     "duration": 0.06186,
     "end_time": "2021-06-04T13:07:09.376500",
     "exception": false,
     "start_time": "2021-06-04T13:07:09.314640",
     "status": "completed"
    },
    "tags": []
   }
  },
  {
   "cell_type": "markdown",
   "source": [
    "You could probably write a short book just on `str.format`, but it is extra for the purpose of this course.\r\n",
    "\r\n",
    "So I'll stop here, and point you to [pyformat.info](https://pyformat.info/) and [the official docs](https://docs.python.org/3/library/string.html#formatstrings) for further reading."
   ],
   "metadata": {
    "papermill": {
     "duration": 0.05201,
     "end_time": "2021-06-04T13:07:09.481702",
     "exception": false,
     "start_time": "2021-06-04T13:07:09.429692",
     "status": "completed"
    },
    "tags": []
   }
  },
  {
   "cell_type": "markdown",
   "source": [
    "# Dictionaries\n",
    "\n",
    "Dictionaries are a built-in Python data structure for mapping keys to values."
   ],
   "metadata": {
    "papermill": {
     "duration": 0.052058,
     "end_time": "2021-06-04T13:07:09.585851",
     "exception": false,
     "start_time": "2021-06-04T13:07:09.533793",
     "status": "completed"
    },
    "tags": []
   }
  },
  {
   "cell_type": "code",
   "execution_count": 30,
   "source": [
    "numbers = {'one':1, 'two':2, 'three':3}"
   ],
   "outputs": [],
   "metadata": {
    "collapsed": true,
    "execution": {
     "iopub.execute_input": "2021-06-04T13:07:09.695517Z",
     "iopub.status.busy": "2021-06-04T13:07:09.694701Z",
     "iopub.status.idle": "2021-06-04T13:07:09.698049Z",
     "shell.execute_reply": "2021-06-04T13:07:09.697455Z"
    },
    "papermill": {
     "duration": 0.060443,
     "end_time": "2021-06-04T13:07:09.698222",
     "exception": false,
     "start_time": "2021-06-04T13:07:09.637779",
     "status": "completed"
    },
    "tags": []
   }
  },
  {
   "cell_type": "markdown",
   "source": [
    "In this case `'one'`, `'two'`, and `'three'` are the **keys**, and 1, 2 and 3 are their corresponding values.\n",
    "\n",
    "Values are accessed via square bracket syntax similar to indexing into lists and strings."
   ],
   "metadata": {
    "papermill": {
     "duration": 0.055018,
     "end_time": "2021-06-04T13:07:09.806993",
     "exception": false,
     "start_time": "2021-06-04T13:07:09.751975",
     "status": "completed"
    },
    "tags": []
   }
  },
  {
   "cell_type": "code",
   "execution_count": 31,
   "source": [
    "numbers['one']"
   ],
   "outputs": [
    {
     "output_type": "execute_result",
     "data": {
      "text/plain": [
       "1"
      ]
     },
     "metadata": {},
     "execution_count": 31
    }
   ],
   "metadata": {
    "execution": {
     "iopub.execute_input": "2021-06-04T13:07:09.918844Z",
     "iopub.status.busy": "2021-06-04T13:07:09.917905Z",
     "iopub.status.idle": "2021-06-04T13:07:09.924554Z",
     "shell.execute_reply": "2021-06-04T13:07:09.923901Z"
    },
    "papermill": {
     "duration": 0.06168,
     "end_time": "2021-06-04T13:07:09.924700",
     "exception": false,
     "start_time": "2021-06-04T13:07:09.863020",
     "status": "completed"
    },
    "tags": []
   }
  },
  {
   "cell_type": "markdown",
   "source": [
    "We can use the same syntax to add another key, value pair"
   ],
   "metadata": {
    "papermill": {
     "duration": 0.052847,
     "end_time": "2021-06-04T13:07:10.031541",
     "exception": false,
     "start_time": "2021-06-04T13:07:09.978694",
     "status": "completed"
    },
    "tags": []
   }
  },
  {
   "cell_type": "code",
   "execution_count": 32,
   "source": [
    "numbers['eleven'] = 11\r\n",
    "numbers"
   ],
   "outputs": [
    {
     "output_type": "execute_result",
     "data": {
      "text/plain": [
       "{'one': 1, 'two': 2, 'three': 3, 'eleven': 11}"
      ]
     },
     "metadata": {},
     "execution_count": 32
    }
   ],
   "metadata": {
    "execution": {
     "iopub.execute_input": "2021-06-04T13:07:10.143317Z",
     "iopub.status.busy": "2021-06-04T13:07:10.142489Z",
     "iopub.status.idle": "2021-06-04T13:07:10.146988Z",
     "shell.execute_reply": "2021-06-04T13:07:10.146354Z"
    },
    "papermill": {
     "duration": 0.062483,
     "end_time": "2021-06-04T13:07:10.147151",
     "exception": false,
     "start_time": "2021-06-04T13:07:10.084668",
     "status": "completed"
    },
    "tags": []
   }
  },
  {
   "cell_type": "markdown",
   "source": [
    "Or to change the value associated with an existing key"
   ],
   "metadata": {
    "papermill": {
     "duration": 0.052721,
     "end_time": "2021-06-04T13:07:10.253229",
     "exception": false,
     "start_time": "2021-06-04T13:07:10.200508",
     "status": "completed"
    },
    "tags": []
   }
  },
  {
   "cell_type": "code",
   "execution_count": 33,
   "source": [
    "numbers['one'] = 'Pluto'\r\n",
    "numbers"
   ],
   "outputs": [
    {
     "output_type": "execute_result",
     "data": {
      "text/plain": [
       "{'one': 'Pluto', 'two': 2, 'three': 3, 'eleven': 11}"
      ]
     },
     "metadata": {},
     "execution_count": 33
    }
   ],
   "metadata": {
    "execution": {
     "iopub.execute_input": "2021-06-04T13:07:10.365484Z",
     "iopub.status.busy": "2021-06-04T13:07:10.364634Z",
     "iopub.status.idle": "2021-06-04T13:07:10.369071Z",
     "shell.execute_reply": "2021-06-04T13:07:10.368450Z"
    },
    "papermill": {
     "duration": 0.062396,
     "end_time": "2021-06-04T13:07:10.369231",
     "exception": false,
     "start_time": "2021-06-04T13:07:10.306835",
     "status": "completed"
    },
    "tags": []
   }
  },
  {
   "cell_type": "markdown",
   "source": [
    "Python has *dictionary comprehensions* with a syntax similar to the list comprehensions we saw in the previous tutorial."
   ],
   "metadata": {
    "papermill": {
     "duration": 0.053229,
     "end_time": "2021-06-04T13:07:10.475784",
     "exception": false,
     "start_time": "2021-06-04T13:07:10.422555",
     "status": "completed"
    },
    "tags": []
   }
  },
  {
   "cell_type": "code",
   "execution_count": 34,
   "source": [
    "planets = ['Mercury', 'Venus', 'Earth', 'Mars', 'Jupiter', 'Saturn', 'Uranus', 'Neptune']\r\n",
    "planet_to_initial = {planet: planet[0] for planet in planets}\r\n",
    "planet_to_initial"
   ],
   "outputs": [
    {
     "output_type": "execute_result",
     "data": {
      "text/plain": [
       "{'Mercury': 'M',\n",
       " 'Venus': 'V',\n",
       " 'Earth': 'E',\n",
       " 'Mars': 'M',\n",
       " 'Jupiter': 'J',\n",
       " 'Saturn': 'S',\n",
       " 'Uranus': 'U',\n",
       " 'Neptune': 'N'}"
      ]
     },
     "metadata": {},
     "execution_count": 34
    }
   ],
   "metadata": {
    "execution": {
     "iopub.execute_input": "2021-06-04T13:07:10.592600Z",
     "iopub.status.busy": "2021-06-04T13:07:10.591885Z",
     "iopub.status.idle": "2021-06-04T13:07:10.596171Z",
     "shell.execute_reply": "2021-06-04T13:07:10.596650Z"
    },
    "papermill": {
     "duration": 0.065079,
     "end_time": "2021-06-04T13:07:10.596832",
     "exception": false,
     "start_time": "2021-06-04T13:07:10.531753",
     "status": "completed"
    },
    "tags": []
   }
  },
  {
   "cell_type": "markdown",
   "source": [
    "The `in` operator tells us whether something is a key in the dictionary"
   ],
   "metadata": {
    "papermill": {
     "duration": 0.053866,
     "end_time": "2021-06-04T13:07:10.704534",
     "exception": false,
     "start_time": "2021-06-04T13:07:10.650668",
     "status": "completed"
    },
    "tags": []
   }
  },
  {
   "cell_type": "code",
   "execution_count": 35,
   "source": [
    "'Saturn' in planet_to_initial"
   ],
   "outputs": [
    {
     "output_type": "execute_result",
     "data": {
      "text/plain": [
       "True"
      ]
     },
     "metadata": {},
     "execution_count": 35
    }
   ],
   "metadata": {
    "execution": {
     "iopub.execute_input": "2021-06-04T13:07:10.816931Z",
     "iopub.status.busy": "2021-06-04T13:07:10.816311Z",
     "iopub.status.idle": "2021-06-04T13:07:10.819528Z",
     "shell.execute_reply": "2021-06-04T13:07:10.820033Z"
    },
    "papermill": {
     "duration": 0.062127,
     "end_time": "2021-06-04T13:07:10.820247",
     "exception": false,
     "start_time": "2021-06-04T13:07:10.758120",
     "status": "completed"
    },
    "tags": []
   }
  },
  {
   "cell_type": "code",
   "execution_count": 36,
   "source": [
    "'Betelgeuse' in planet_to_initial"
   ],
   "outputs": [
    {
     "output_type": "execute_result",
     "data": {
      "text/plain": [
       "False"
      ]
     },
     "metadata": {},
     "execution_count": 36
    }
   ],
   "metadata": {
    "execution": {
     "iopub.execute_input": "2021-06-04T13:07:10.933479Z",
     "iopub.status.busy": "2021-06-04T13:07:10.932885Z",
     "iopub.status.idle": "2021-06-04T13:07:10.938141Z",
     "shell.execute_reply": "2021-06-04T13:07:10.937512Z"
    },
    "papermill": {
     "duration": 0.062926,
     "end_time": "2021-06-04T13:07:10.938290",
     "exception": false,
     "start_time": "2021-06-04T13:07:10.875364",
     "status": "completed"
    },
    "tags": []
   }
  },
  {
   "cell_type": "markdown",
   "source": [
    "A for loop over a dictionary will loop over its keys"
   ],
   "metadata": {
    "papermill": {
     "duration": 0.055292,
     "end_time": "2021-06-04T13:07:11.049253",
     "exception": false,
     "start_time": "2021-06-04T13:07:10.993961",
     "status": "completed"
    },
    "tags": []
   }
  },
  {
   "cell_type": "code",
   "execution_count": 37,
   "source": [
    "for k in numbers:\r\n",
    "    print(\"{} = {}\".format(k, numbers[k]))"
   ],
   "outputs": [
    {
     "output_type": "stream",
     "name": "stdout",
     "text": [
      "one = Pluto\n",
      "two = 2\n",
      "three = 3\n",
      "eleven = 11\n"
     ]
    }
   ],
   "metadata": {
    "execution": {
     "iopub.execute_input": "2021-06-04T13:07:11.164759Z",
     "iopub.status.busy": "2021-06-04T13:07:11.164061Z",
     "iopub.status.idle": "2021-06-04T13:07:11.167717Z",
     "shell.execute_reply": "2021-06-04T13:07:11.168216Z"
    },
    "papermill": {
     "duration": 0.064202,
     "end_time": "2021-06-04T13:07:11.168381",
     "exception": false,
     "start_time": "2021-06-04T13:07:11.104179",
     "status": "completed"
    },
    "tags": []
   }
  },
  {
   "cell_type": "markdown",
   "source": [
    "We can access a collection of all the keys or all the values with `dict.keys()` and `dict.values()`, respectively."
   ],
   "metadata": {
    "papermill": {
     "duration": 0.054193,
     "end_time": "2021-06-04T13:07:11.277308",
     "exception": false,
     "start_time": "2021-06-04T13:07:11.223115",
     "status": "completed"
    },
    "tags": []
   }
  },
  {
   "cell_type": "code",
   "execution_count": 38,
   "source": [
    "# Get all the initials, sort them alphabetically, and put them in a space-separated string.\r\n",
    "' '.join(sorted(planet_to_initial.values()))"
   ],
   "outputs": [
    {
     "output_type": "execute_result",
     "data": {
      "text/plain": [
       "'E J M M N S U V'"
      ]
     },
     "metadata": {},
     "execution_count": 38
    }
   ],
   "metadata": {
    "execution": {
     "iopub.execute_input": "2021-06-04T13:07:11.392038Z",
     "iopub.status.busy": "2021-06-04T13:07:11.391429Z",
     "iopub.status.idle": "2021-06-04T13:07:11.394715Z",
     "shell.execute_reply": "2021-06-04T13:07:11.395280Z"
    },
    "papermill": {
     "duration": 0.063562,
     "end_time": "2021-06-04T13:07:11.395447",
     "exception": false,
     "start_time": "2021-06-04T13:07:11.331885",
     "status": "completed"
    },
    "tags": []
   }
  },
  {
   "cell_type": "markdown",
   "source": [
    "The very useful `dict.items()` method lets us iterate over the keys and values of a dictionary simultaneously. (In Python jargon, an **item** refers to a key, value pair)"
   ],
   "metadata": {
    "papermill": {
     "duration": 0.05481,
     "end_time": "2021-06-04T13:07:11.505201",
     "exception": false,
     "start_time": "2021-06-04T13:07:11.450391",
     "status": "completed"
    },
    "tags": []
   }
  },
  {
   "cell_type": "code",
   "execution_count": 39,
   "source": [
    "for planet, initial in planet_to_initial.items():\r\n",
    "    print(\"{} begins with \\\"{}\\\"\".format(planet.rjust(10), initial))"
   ],
   "outputs": [
    {
     "output_type": "stream",
     "name": "stdout",
     "text": [
      "   Mercury begins with \"M\"\n",
      "     Venus begins with \"V\"\n",
      "     Earth begins with \"E\"\n",
      "      Mars begins with \"M\"\n",
      "   Jupiter begins with \"J\"\n",
      "    Saturn begins with \"S\"\n",
      "    Uranus begins with \"U\"\n",
      "   Neptune begins with \"N\"\n"
     ]
    }
   ],
   "metadata": {
    "execution": {
     "iopub.execute_input": "2021-06-04T13:07:11.618945Z",
     "iopub.status.busy": "2021-06-04T13:07:11.618352Z",
     "iopub.status.idle": "2021-06-04T13:07:11.625820Z",
     "shell.execute_reply": "2021-06-04T13:07:11.625297Z"
    },
    "papermill": {
     "duration": 0.06536,
     "end_time": "2021-06-04T13:07:11.625965",
     "exception": false,
     "start_time": "2021-06-04T13:07:11.560605",
     "status": "completed"
    },
    "tags": []
   }
  },
  {
   "cell_type": "markdown",
   "source": [
    "To read a full inventory of dictionaries' methods, click the \"output\" button below to read the full help page, or check out the [official online documentation](https://docs.python.org/3/library/stdtypes.html#dict)."
   ],
   "metadata": {
    "papermill": {
     "duration": 0.056648,
     "end_time": "2021-06-04T13:07:11.739712",
     "exception": false,
     "start_time": "2021-06-04T13:07:11.683064",
     "status": "completed"
    },
    "tags": []
   }
  },
  {
   "cell_type": "code",
   "execution_count": 40,
   "source": [
    "help(dict)"
   ],
   "outputs": [
    {
     "output_type": "stream",
     "name": "stdout",
     "text": [
      "Help on class dict in module builtins:\n",
      "\n",
      "class dict(object)\n",
      " |  dict() -> new empty dictionary\n",
      " |  dict(mapping) -> new dictionary initialized from a mapping object's\n",
      " |      (key, value) pairs\n",
      " |  dict(iterable) -> new dictionary initialized as if via:\n",
      " |      d = {}\n",
      " |      for k, v in iterable:\n",
      " |          d[k] = v\n",
      " |  dict(**kwargs) -> new dictionary initialized with the name=value pairs\n",
      " |      in the keyword argument list.  For example:  dict(one=1, two=2)\n",
      " |  \n",
      " |  Methods defined here:\n",
      " |  \n",
      " |  __contains__(self, key, /)\n",
      " |      True if the dictionary has the specified key, else False.\n",
      " |  \n",
      " |  __delitem__(self, key, /)\n",
      " |      Delete self[key].\n",
      " |  \n",
      " |  __eq__(self, value, /)\n",
      " |      Return self==value.\n",
      " |  \n",
      " |  __ge__(self, value, /)\n",
      " |      Return self>=value.\n",
      " |  \n",
      " |  __getattribute__(self, name, /)\n",
      " |      Return getattr(self, name).\n",
      " |  \n",
      " |  __getitem__(...)\n",
      " |      x.__getitem__(y) <==> x[y]\n",
      " |  \n",
      " |  __gt__(self, value, /)\n",
      " |      Return self>value.\n",
      " |  \n",
      " |  __init__(self, /, *args, **kwargs)\n",
      " |      Initialize self.  See help(type(self)) for accurate signature.\n",
      " |  \n",
      " |  __iter__(self, /)\n",
      " |      Implement iter(self).\n",
      " |  \n",
      " |  __le__(self, value, /)\n",
      " |      Return self<=value.\n",
      " |  \n",
      " |  __len__(self, /)\n",
      " |      Return len(self).\n",
      " |  \n",
      " |  __lt__(self, value, /)\n",
      " |      Return self<value.\n",
      " |  \n",
      " |  __ne__(self, value, /)\n",
      " |      Return self!=value.\n",
      " |  \n",
      " |  __repr__(self, /)\n",
      " |      Return repr(self).\n",
      " |  \n",
      " |  __setitem__(self, key, value, /)\n",
      " |      Set self[key] to value.\n",
      " |  \n",
      " |  __sizeof__(...)\n",
      " |      D.__sizeof__() -> size of D in memory, in bytes\n",
      " |  \n",
      " |  clear(...)\n",
      " |      D.clear() -> None.  Remove all items from D.\n",
      " |  \n",
      " |  copy(...)\n",
      " |      D.copy() -> a shallow copy of D\n",
      " |  \n",
      " |  get(self, key, default=None, /)\n",
      " |      Return the value for key if key is in the dictionary, else default.\n",
      " |  \n",
      " |  items(...)\n",
      " |      D.items() -> a set-like object providing a view on D's items\n",
      " |  \n",
      " |  keys(...)\n",
      " |      D.keys() -> a set-like object providing a view on D's keys\n",
      " |  \n",
      " |  pop(...)\n",
      " |      D.pop(k[,d]) -> v, remove specified key and return the corresponding value.\n",
      " |      If key is not found, d is returned if given, otherwise KeyError is raised\n",
      " |  \n",
      " |  popitem(...)\n",
      " |      D.popitem() -> (k, v), remove and return some (key, value) pair as a\n",
      " |      2-tuple; but raise KeyError if D is empty.\n",
      " |  \n",
      " |  setdefault(self, key, default=None, /)\n",
      " |      Insert key with a value of default if key is not in the dictionary.\n",
      " |      \n",
      " |      Return the value for key if key is in the dictionary, else default.\n",
      " |  \n",
      " |  update(...)\n",
      " |      D.update([E, ]**F) -> None.  Update D from dict/iterable E and F.\n",
      " |      If E is present and has a .keys() method, then does:  for k in E: D[k] = E[k]\n",
      " |      If E is present and lacks a .keys() method, then does:  for k, v in E: D[k] = v\n",
      " |      In either case, this is followed by: for k in F:  D[k] = F[k]\n",
      " |  \n",
      " |  values(...)\n",
      " |      D.values() -> an object providing a view on D's values\n",
      " |  \n",
      " |  ----------------------------------------------------------------------\n",
      " |  Class methods defined here:\n",
      " |  \n",
      " |  fromkeys(iterable, value=None, /) from builtins.type\n",
      " |      Create a new dictionary with keys from iterable and values set to value.\n",
      " |  \n",
      " |  ----------------------------------------------------------------------\n",
      " |  Static methods defined here:\n",
      " |  \n",
      " |  __new__(*args, **kwargs) from builtins.type\n",
      " |      Create and return a new object.  See help(type) for accurate signature.\n",
      " |  \n",
      " |  ----------------------------------------------------------------------\n",
      " |  Data and other attributes defined here:\n",
      " |  \n",
      " |  __hash__ = None\n",
      "\n"
     ]
    }
   ],
   "metadata": {
    "_kg_hide-output": true,
    "collapsed": true,
    "execution": {
     "iopub.execute_input": "2021-06-04T13:07:11.869587Z",
     "iopub.status.busy": "2021-06-04T13:07:11.868615Z",
     "iopub.status.idle": "2021-06-04T13:07:11.872854Z",
     "shell.execute_reply": "2021-06-04T13:07:11.872142Z"
    },
    "papermill": {
     "duration": 0.075541,
     "end_time": "2021-06-04T13:07:11.873006",
     "exception": false,
     "start_time": "2021-06-04T13:07:11.797465",
     "status": "completed"
    },
    "tags": []
   }
  },
  {
   "cell_type": "markdown",
   "source": [
    "# Exercise"
   ],
   "metadata": {
    "papermill": {
     "duration": 0.059408,
     "end_time": "2021-06-04T13:07:11.990598",
     "exception": false,
     "start_time": "2021-06-04T13:07:11.931190",
     "status": "completed"
    },
    "tags": []
   }
  },
  {
   "cell_type": "markdown",
   "source": [
    "## 0. Guess the length\r\n",
    "Let's start with a string lightning round to warm up. What are the lengths of the strings below?\r\n",
    "\r\n",
    "For each of the five strings below, predict what `len()` would return when passed that string. Use the variable `length` to record your answer. Then use the `len()` to check if you're right!"
   ],
   "metadata": {}
  },
  {
   "cell_type": "code",
   "execution_count": null,
   "source": [
    "a = \"\"\r\n",
    "length = "
   ],
   "outputs": [],
   "metadata": {}
  },
  {
   "cell_type": "code",
   "execution_count": null,
   "source": [
    "b = \"it's ok\"\r\n",
    "length = "
   ],
   "outputs": [],
   "metadata": {}
  },
  {
   "cell_type": "code",
   "execution_count": null,
   "source": [
    "c = 'it\\'s ok'\r\n",
    "length = "
   ],
   "outputs": [],
   "metadata": {}
  },
  {
   "cell_type": "code",
   "execution_count": null,
   "source": [
    "d = \"\"\"hey\"\"\"\r\n",
    "length = "
   ],
   "outputs": [],
   "metadata": {}
  },
  {
   "cell_type": "code",
   "execution_count": null,
   "source": [
    "e = '\\n'\r\n",
    "length = "
   ],
   "outputs": [],
   "metadata": {}
  },
  {
   "cell_type": "markdown",
   "source": [
    "# 1. Check the Zip Code\r\n",
    "\r\n",
    "There is a saying that \"Data scientists spend 80% of their time cleaning data, and 20% of their time complaining about cleaning data.\" Let's see if you can write a function to help clean US zip code data. Given a string, it should return whether or not that string represents a valid zip code. For our purposes, a valid zip code is any string consisting of exactly 5 digits.\r\n",
    "\r\n",
    "HINT: `str` has a method that will be useful here. Use `help(str)` to review a list of string methods."
   ],
   "metadata": {}
  },
  {
   "cell_type": "code",
   "execution_count": null,
   "source": [
    "def is_valid_zip(zip_code):\r\n",
    "    \"\"\"Returns whether the input string is a valid (5 digit) zip code\r\n",
    "    \"\"\"\r\n",
    "    pass"
   ],
   "outputs": [],
   "metadata": {}
  },
  {
   "cell_type": "markdown",
   "source": [
    "# 2. Searching for a Word\r\n",
    "\r\n",
    "A researcher has gathered thousands of news articles. But she wants to focus her attention on articles including a specific word. Complete the function below to help her filter her list of articles.\r\n",
    "\r\n",
    "Your function should meet the following criteria:\r\n",
    "\r\n",
    "- Do not include documents where the keyword string shows up only as a part of a larger word. For example, if she were looking for the keyword “closed”, you would not include the string “enclosed.” \r\n",
    "- She does not want you to distinguish upper case from lower case letters. So the phrase “Closed the case.” would be included when the keyword is “closed”\r\n",
    "- Do not let periods or commas affect what is matched. “It is closed.” would be included when the keyword is “closed”. But you can assume there are no other types of punctuation.\r\n",
    "\r\n",
    "HINT: Some methods that may be useful here: str.split(), str.strip(), str.lower()"
   ],
   "metadata": {}
  },
  {
   "cell_type": "code",
   "execution_count": null,
   "source": [
    "def word_search(doc_list, keyword):\r\n",
    "    \"\"\"\r\n",
    "    Takes a list of documents (each document is a string) and a keyword. \r\n",
    "    Returns list of the index values into the original list for all documents \r\n",
    "    containing the keyword.\r\n",
    "\r\n",
    "    Example:\r\n",
    "    doc_list = [\"The Learn Python Challenge Casino.\", \"They bought a car\", \"Casinoville\"]\r\n",
    "    >>> word_search(doc_list, 'casino')\r\n",
    "    >>> [0]\r\n",
    "    \"\"\"\r\n",
    "    pass"
   ],
   "outputs": [],
   "metadata": {}
  },
  {
   "cell_type": "markdown",
   "source": [
    "# 3. Searching for Multiple Word\r\n",
    "\r\n",
    "Now the researcher wants to supply multiple keywords to search for. Complete the function below to help her.\r\n",
    "\r\n",
    "(You're encouraged to use the `word_search` function you just wrote when implementing this function. Reusing code in this way makes your programs more robust and readable - and it saves typing!)"
   ],
   "metadata": {}
  },
  {
   "cell_type": "code",
   "execution_count": null,
   "source": [
    "def multi_word_search(doc_list, keywords):\r\n",
    "    \"\"\"\r\n",
    "    Takes list of documents (each document is a string) and a list of keywords.  \r\n",
    "    Returns a dictionary where each key is a keyword, and the value is a list of indices\r\n",
    "    (from doc_list) of the documents containing that keyword\r\n",
    "\r\n",
    "    >>> doc_list = [\"The Learn Python Challenge Casino.\", \"They bought a car and a casino\", \"Casinoville\"]\r\n",
    "    >>> keywords = ['casino', 'they']\r\n",
    "    >>> multi_word_search(doc_list, keywords)\r\n",
    "    {'casino': [0, 1], 'they': [1]}\r\n",
    "    \"\"\"\r\n",
    "    pass"
   ],
   "outputs": [],
   "metadata": {}
  },
  {
   "cell_type": "markdown",
   "source": [
    "# Keep Going!"
   ],
   "metadata": {}
  }
 ],
 "metadata": {
  "anaconda-cloud": {},
  "kernelspec": {
   "name": "python3",
   "display_name": "Python 3.7.4 64-bit ('base': conda)"
  },
  "language_info": {
   "codemirror_mode": {
    "name": "ipython",
    "version": 3
   },
   "file_extension": ".py",
   "mimetype": "text/x-python",
   "name": "python",
   "nbconvert_exporter": "python",
   "pygments_lexer": "ipython3",
   "version": "3.7.4"
  },
  "learntools_metadata": {
   "lesson_index": 5,
   "type": "tutorial"
  },
  "papermill": {
   "default_parameters": {},
   "duration": 14.84335,
   "end_time": "2021-06-04T13:07:12.772887",
   "environment_variables": {},
   "exception": null,
   "input_path": "__notebook__.ipynb",
   "output_path": "__notebook__.ipynb",
   "parameters": {},
   "start_time": "2021-06-04T13:06:57.929537",
   "version": "2.3.2"
  },
  "interpreter": {
   "hash": "6ad2903d9f8eb78095a8e1054d3b7d96029c25240c1559c5c7674409ebbac066"
  }
 },
 "nbformat": 4,
 "nbformat_minor": 5
}