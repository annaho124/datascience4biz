{
 "cells": [
  {
   "cell_type": "markdown",
   "source": [
    "# 7. Working with External Libraries!"
   ],
   "metadata": {}
  },
  {
   "cell_type": "markdown",
   "source": [
    "In this tutorial, you will learn about **imports** in Python, get some tips for working with unfamiliar libraries (and the objects they return), and dig into **operator overloading**."
   ],
   "metadata": {
    "papermill": {
     "duration": 0.032112,
     "end_time": "2021-06-04T13:07:05.975107",
     "exception": false,
     "start_time": "2021-06-04T13:07:05.942995",
     "status": "completed"
    },
    "tags": []
   }
  },
  {
   "cell_type": "markdown",
   "source": [
    "# Imports\n",
    "\n",
    "So far we've talked about types and functions which are built-in to the language. \n",
    "\n",
    "But one of the best things about Python (especially if you're a data scientist) is the vast number of high-quality custom libraries that have been written for it. \n",
    "\n",
    "Some of these libraries are in the \"standard library\", meaning you can find them anywhere you run Python. Others libraries can be easily added, even if they aren't always shipped with Python.\n",
    "\n",
    "Either way, we'll access this code with **imports**.\n",
    "\n",
    "We'll start our example by importing `math` from the standard library."
   ],
   "metadata": {
    "papermill": {
     "duration": 0.031397,
     "end_time": "2021-06-04T13:07:06.039195",
     "exception": false,
     "start_time": "2021-06-04T13:07:06.007798",
     "status": "completed"
    },
    "tags": []
   }
  },
  {
   "cell_type": "code",
   "execution_count": null,
   "source": [
    "import math\r\n",
    "\r\n",
    "print(\"It's math! It has type {}\".format(type(math)))"
   ],
   "outputs": [],
   "metadata": {
    "execution": {
     "iopub.execute_input": "2021-06-04T13:07:06.109256Z",
     "iopub.status.busy": "2021-06-04T13:07:06.107433Z",
     "iopub.status.idle": "2021-06-04T13:07:06.114013Z",
     "shell.execute_reply": "2021-06-04T13:07:06.113363Z"
    },
    "papermill": {
     "duration": 0.043483,
     "end_time": "2021-06-04T13:07:06.114168",
     "exception": false,
     "start_time": "2021-06-04T13:07:06.070685",
     "status": "completed"
    },
    "tags": []
   }
  },
  {
   "cell_type": "markdown",
   "source": [
    "`math` is a module. A module is just a collection of variables (a *namespace*, if you like) defined by someone else. We can see all the names in `math` using the built-in function `dir()`."
   ],
   "metadata": {
    "papermill": {
     "duration": 0.031461,
     "end_time": "2021-06-04T13:07:06.177811",
     "exception": false,
     "start_time": "2021-06-04T13:07:06.146350",
     "status": "completed"
    },
    "tags": []
   }
  },
  {
   "cell_type": "code",
   "execution_count": null,
   "source": [
    "print(dir(math))"
   ],
   "outputs": [],
   "metadata": {
    "execution": {
     "iopub.execute_input": "2021-06-04T13:07:06.247143Z",
     "iopub.status.busy": "2021-06-04T13:07:06.246292Z",
     "iopub.status.idle": "2021-06-04T13:07:06.249501Z",
     "shell.execute_reply": "2021-06-04T13:07:06.250041Z"
    },
    "papermill": {
     "duration": 0.040556,
     "end_time": "2021-06-04T13:07:06.250213",
     "exception": false,
     "start_time": "2021-06-04T13:07:06.209657",
     "status": "completed"
    },
    "tags": []
   }
  },
  {
   "cell_type": "markdown",
   "source": [
    "We can access these variables using dot syntax. Some of them refer to simple values, like `math.pi`:"
   ],
   "metadata": {
    "papermill": {
     "duration": 0.031528,
     "end_time": "2021-06-04T13:07:06.313629",
     "exception": false,
     "start_time": "2021-06-04T13:07:06.282101",
     "status": "completed"
    },
    "tags": []
   }
  },
  {
   "cell_type": "code",
   "execution_count": null,
   "source": [
    "print(\"pi to 4 significant digits = {:.4}\".format(math.pi))"
   ],
   "outputs": [],
   "metadata": {
    "execution": {
     "iopub.execute_input": "2021-06-04T13:07:06.383206Z",
     "iopub.status.busy": "2021-06-04T13:07:06.382337Z",
     "iopub.status.idle": "2021-06-04T13:07:06.386015Z",
     "shell.execute_reply": "2021-06-04T13:07:06.385393Z"
    },
    "papermill": {
     "duration": 0.040407,
     "end_time": "2021-06-04T13:07:06.386157",
     "exception": false,
     "start_time": "2021-06-04T13:07:06.345750",
     "status": "completed"
    },
    "tags": []
   }
  },
  {
   "cell_type": "markdown",
   "source": [
    "But most of what we'll find in the module are functions, like `math.log`:"
   ],
   "metadata": {
    "papermill": {
     "duration": 0.032039,
     "end_time": "2021-06-04T13:07:06.450770",
     "exception": false,
     "start_time": "2021-06-04T13:07:06.418731",
     "status": "completed"
    },
    "tags": []
   }
  },
  {
   "cell_type": "code",
   "execution_count": null,
   "source": [
    "math.log(32, 2)"
   ],
   "outputs": [],
   "metadata": {
    "execution": {
     "iopub.execute_input": "2021-06-04T13:07:06.522809Z",
     "iopub.status.busy": "2021-06-04T13:07:06.522171Z",
     "iopub.status.idle": "2021-06-04T13:07:06.527297Z",
     "shell.execute_reply": "2021-06-04T13:07:06.526737Z"
    },
    "papermill": {
     "duration": 0.044167,
     "end_time": "2021-06-04T13:07:06.527449",
     "exception": false,
     "start_time": "2021-06-04T13:07:06.483282",
     "status": "completed"
    },
    "tags": []
   }
  },
  {
   "cell_type": "markdown",
   "source": [
    "Of course, if we don't know what `math.log` does, we can call `help()` on it:"
   ],
   "metadata": {
    "papermill": {
     "duration": 0.033575,
     "end_time": "2021-06-04T13:07:06.594551",
     "exception": false,
     "start_time": "2021-06-04T13:07:06.560976",
     "status": "completed"
    },
    "tags": []
   }
  },
  {
   "cell_type": "code",
   "execution_count": null,
   "source": [
    "help(math.log)"
   ],
   "outputs": [],
   "metadata": {
    "execution": {
     "iopub.execute_input": "2021-06-04T13:07:06.665996Z",
     "iopub.status.busy": "2021-06-04T13:07:06.665086Z",
     "iopub.status.idle": "2021-06-04T13:07:06.668950Z",
     "shell.execute_reply": "2021-06-04T13:07:06.668331Z"
    },
    "papermill": {
     "duration": 0.041604,
     "end_time": "2021-06-04T13:07:06.669099",
     "exception": false,
     "start_time": "2021-06-04T13:07:06.627495",
     "status": "completed"
    },
    "tags": []
   }
  },
  {
   "cell_type": "markdown",
   "source": [
    "We can also call `help()` on the module itself. This will give us the combined documentation for *all* the functions and values in the module (as well as a high-level description of the module). Click the \"output\" button to see the whole `math` help page."
   ],
   "metadata": {
    "papermill": {
     "duration": 0.033049,
     "end_time": "2021-06-04T13:07:06.735386",
     "exception": false,
     "start_time": "2021-06-04T13:07:06.702337",
     "status": "completed"
    },
    "tags": []
   }
  },
  {
   "cell_type": "code",
   "execution_count": null,
   "source": [
    "help(math)"
   ],
   "outputs": [],
   "metadata": {
    "_kg_hide-output": true,
    "execution": {
     "iopub.execute_input": "2021-06-04T13:07:06.823125Z",
     "iopub.status.busy": "2021-06-04T13:07:06.822445Z",
     "iopub.status.idle": "2021-06-04T13:07:06.827535Z",
     "shell.execute_reply": "2021-06-04T13:07:06.826885Z"
    },
    "papermill": {
     "duration": 0.059003,
     "end_time": "2021-06-04T13:07:06.827673",
     "exception": false,
     "start_time": "2021-06-04T13:07:06.768670",
     "status": "completed"
    },
    "tags": []
   }
  },
  {
   "cell_type": "markdown",
   "source": [
    "### Other import syntax\n",
    "\n",
    "If we know we'll be using functions in `math` frequently we can import it under a shorter alias to save some typing (though in this case \"math\" is already pretty short)."
   ],
   "metadata": {
    "papermill": {
     "duration": 0.03429,
     "end_time": "2021-06-04T13:07:06.895982",
     "exception": false,
     "start_time": "2021-06-04T13:07:06.861692",
     "status": "completed"
    },
    "tags": []
   }
  },
  {
   "cell_type": "code",
   "execution_count": null,
   "source": [
    "import math as mt\r\n",
    "mt.pi"
   ],
   "outputs": [],
   "metadata": {
    "execution": {
     "iopub.execute_input": "2021-06-04T13:07:06.969131Z",
     "iopub.status.busy": "2021-06-04T13:07:06.968403Z",
     "iopub.status.idle": "2021-06-04T13:07:06.972406Z",
     "shell.execute_reply": "2021-06-04T13:07:06.971705Z"
    },
    "papermill": {
     "duration": 0.042144,
     "end_time": "2021-06-04T13:07:06.972546",
     "exception": false,
     "start_time": "2021-06-04T13:07:06.930402",
     "status": "completed"
    },
    "tags": []
   }
  },
  {
   "cell_type": "markdown",
   "source": [
    "> You may have seen code that does this with certain popular libraries like Pandas, Numpy, Tensorflow, or Matplotlib. For example, it's a common convention to `import numpy as np` and `import pandas as pd`."
   ],
   "metadata": {
    "papermill": {
     "duration": 0.03434,
     "end_time": "2021-06-04T13:07:07.041509",
     "exception": false,
     "start_time": "2021-06-04T13:07:07.007169",
     "status": "completed"
    },
    "tags": []
   }
  },
  {
   "cell_type": "markdown",
   "source": [
    "The `as` simply renames the imported module. It's equivalent to doing something like:"
   ],
   "metadata": {
    "papermill": {
     "duration": 0.034222,
     "end_time": "2021-06-04T13:07:07.111654",
     "exception": false,
     "start_time": "2021-06-04T13:07:07.077432",
     "status": "completed"
    },
    "tags": []
   }
  },
  {
   "cell_type": "code",
   "execution_count": null,
   "source": [
    "import math\r\n",
    "mt = math"
   ],
   "outputs": [],
   "metadata": {
    "collapsed": true,
    "execution": {
     "iopub.execute_input": "2021-06-04T13:07:07.184233Z",
     "iopub.status.busy": "2021-06-04T13:07:07.183581Z",
     "iopub.status.idle": "2021-06-04T13:07:07.187911Z",
     "shell.execute_reply": "2021-06-04T13:07:07.187409Z"
    },
    "papermill": {
     "duration": 0.041095,
     "end_time": "2021-06-04T13:07:07.188049",
     "exception": false,
     "start_time": "2021-06-04T13:07:07.146954",
     "status": "completed"
    },
    "tags": []
   }
  },
  {
   "cell_type": "markdown",
   "source": [
    "Wouldn't it be great if we could refer to all the variables in the `math` module by themselves? i.e. if we could just refer to `pi` instead of `math.pi` or `mt.pi`? Good news: we can do that."
   ],
   "metadata": {
    "papermill": {
     "duration": 0.034006,
     "end_time": "2021-06-04T13:07:07.256275",
     "exception": false,
     "start_time": "2021-06-04T13:07:07.222269",
     "status": "completed"
    },
    "tags": []
   }
  },
  {
   "cell_type": "code",
   "execution_count": null,
   "source": [
    "from math import *\r\n",
    "print(pi, log(32, 2))"
   ],
   "outputs": [],
   "metadata": {
    "execution": {
     "iopub.execute_input": "2021-06-04T13:07:07.328300Z",
     "iopub.status.busy": "2021-06-04T13:07:07.327604Z",
     "iopub.status.idle": "2021-06-04T13:07:07.332188Z",
     "shell.execute_reply": "2021-06-04T13:07:07.332773Z"
    },
    "papermill": {
     "duration": 0.042198,
     "end_time": "2021-06-04T13:07:07.332963",
     "exception": false,
     "start_time": "2021-06-04T13:07:07.290765",
     "status": "completed"
    },
    "tags": []
   }
  },
  {
   "cell_type": "markdown",
   "source": [
    "`import *` makes all the module's variables directly accessible to you (without any dotted prefix).\n",
    "\n",
    "Bad news: some purists might grumble at you for doing this.\n",
    "\n",
    "Worse: they kind of have a point."
   ],
   "metadata": {
    "papermill": {
     "duration": 0.034598,
     "end_time": "2021-06-04T13:07:07.402564",
     "exception": false,
     "start_time": "2021-06-04T13:07:07.367966",
     "status": "completed"
    },
    "tags": []
   }
  },
  {
   "cell_type": "code",
   "execution_count": null,
   "source": [
    "from math import *\r\n",
    "from numpy import *\r\n",
    "print(pi, log(32, 2))"
   ],
   "outputs": [],
   "metadata": {
    "execution": {
     "iopub.execute_input": "2021-06-04T13:07:07.475946Z",
     "iopub.status.busy": "2021-06-04T13:07:07.475319Z",
     "iopub.status.idle": "2021-06-04T13:07:07.525194Z",
     "shell.execute_reply": "2021-06-04T13:07:07.524476Z"
    },
    "papermill": {
     "duration": 0.087772,
     "end_time": "2021-06-04T13:07:07.525399",
     "exception": false,
     "start_time": "2021-06-04T13:07:07.437627",
     "status": "completed"
    },
    "tags": [
     "raises-exception"
    ]
   }
  },
  {
   "cell_type": "markdown",
   "source": [
    "What has happened? It worked before!\n",
    "\n",
    "These kinds of \"star imports\" can occasionally lead to weird, difficult-to-debug situations.\n",
    "\n",
    "The problem in this case is that the `math` and `numpy` modules both have functions called `log`, but they have different semantics. Because we import from `numpy` second, its `log` overwrites (or \"shadows\") the `log` variable we imported from `math`.\n",
    "\n",
    "A good compromise is to import only the specific things we'll need from each module:"
   ],
   "metadata": {
    "papermill": {
     "duration": 0.03566,
     "end_time": "2021-06-04T13:07:07.596961",
     "exception": false,
     "start_time": "2021-06-04T13:07:07.561301",
     "status": "completed"
    },
    "tags": []
   }
  },
  {
   "cell_type": "code",
   "execution_count": null,
   "source": [
    "from math import log, pi\r\n",
    "from numpy import asarray"
   ],
   "outputs": [],
   "metadata": {
    "collapsed": true,
    "execution": {
     "iopub.execute_input": "2021-06-04T13:07:07.673570Z",
     "iopub.status.busy": "2021-06-04T13:07:07.672882Z",
     "iopub.status.idle": "2021-06-04T13:07:07.675691Z",
     "shell.execute_reply": "2021-06-04T13:07:07.675186Z"
    },
    "papermill": {
     "duration": 0.042808,
     "end_time": "2021-06-04T13:07:07.675842",
     "exception": false,
     "start_time": "2021-06-04T13:07:07.633034",
     "status": "completed"
    },
    "tags": []
   }
  },
  {
   "cell_type": "markdown",
   "source": [
    "### Submodules\n",
    "\n",
    "We've seen that modules contain variables which can refer to functions or values. Something to be aware of is that they can also have variables referring to *other modules*. "
   ],
   "metadata": {
    "papermill": {
     "duration": 0.035664,
     "end_time": "2021-06-04T13:07:07.747131",
     "exception": false,
     "start_time": "2021-06-04T13:07:07.711467",
     "status": "completed"
    },
    "tags": []
   }
  },
  {
   "cell_type": "code",
   "execution_count": null,
   "source": [
    "import numpy\r\n",
    "print(\"numpy.random is a\", type(numpy.random))\r\n",
    "print(\"it contains names such as...\",\r\n",
    "      dir(numpy.random)[-15:]\r\n",
    "     )"
   ],
   "outputs": [],
   "metadata": {
    "execution": {
     "iopub.execute_input": "2021-06-04T13:07:07.828778Z",
     "iopub.status.busy": "2021-06-04T13:07:07.827934Z",
     "iopub.status.idle": "2021-06-04T13:07:07.831168Z",
     "shell.execute_reply": "2021-06-04T13:07:07.831681Z"
    },
    "papermill": {
     "duration": 0.044966,
     "end_time": "2021-06-04T13:07:07.831871",
     "exception": false,
     "start_time": "2021-06-04T13:07:07.786905",
     "status": "completed"
    },
    "tags": []
   }
  },
  {
   "cell_type": "markdown",
   "source": [
    "So if we import `numpy` as above, then calling a function in the `random` \"submodule\" will require *two* dots."
   ],
   "metadata": {
    "papermill": {
     "duration": 0.036395,
     "end_time": "2021-06-04T13:07:07.904628",
     "exception": false,
     "start_time": "2021-06-04T13:07:07.868233",
     "status": "completed"
    },
    "tags": []
   }
  },
  {
   "cell_type": "code",
   "execution_count": null,
   "source": [
    "# Roll 10 dice\r\n",
    "rolls = numpy.random.randint(low=1, high=6, size=10)\r\n",
    "rolls"
   ],
   "outputs": [],
   "metadata": {
    "execution": {
     "iopub.execute_input": "2021-06-04T13:07:07.985613Z",
     "iopub.status.busy": "2021-06-04T13:07:07.984973Z",
     "iopub.status.idle": "2021-06-04T13:07:07.988783Z",
     "shell.execute_reply": "2021-06-04T13:07:07.989280Z"
    },
    "papermill": {
     "duration": 0.048291,
     "end_time": "2021-06-04T13:07:07.989455",
     "exception": false,
     "start_time": "2021-06-04T13:07:07.941164",
     "status": "completed"
    },
    "tags": []
   }
  },
  {
   "cell_type": "markdown",
   "source": [
    "## Oh the places you'll go, oh the objects you'll see\n",
    "\n",
    "So after 6 lessons, you're a pro with ints, floats, bools, lists, strings, and dicts (right?). \n",
    "\n",
    "Even if that were true, it doesn't end there. As you work with various libraries for specialized tasks, you'll find that they define their own types which you'll have to learn to work with. For example, if you work with the graphing library `matplotlib`, you'll be coming into contact with objects it defines which represent Subplots, Figures, TickMarks, and Annotations. `pandas` functions will give you DataFrames and Series. \n",
    "\n",
    "In this section, I want to share with you a quick survival guide for working with strange types.\n",
    "\n",
    "## Three tools for understanding strange objects\n",
    "\n",
    "In the cell above, we saw that calling a `numpy` function gave us an \"array\". We've never seen anything like this before (not in this course anyways). But don't panic: we have three familiar builtin functions to help us here.\n",
    "\n",
    "**1: `type()`** (what is this thing?)"
   ],
   "metadata": {
    "papermill": {
     "duration": 0.036363,
     "end_time": "2021-06-04T13:07:08.063521",
     "exception": false,
     "start_time": "2021-06-04T13:07:08.027158",
     "status": "completed"
    },
    "tags": []
   }
  },
  {
   "cell_type": "code",
   "execution_count": null,
   "source": [
    "type(rolls)"
   ],
   "outputs": [],
   "metadata": {
    "execution": {
     "iopub.execute_input": "2021-06-04T13:07:08.141543Z",
     "iopub.status.busy": "2021-06-04T13:07:08.140571Z",
     "iopub.status.idle": "2021-06-04T13:07:08.145729Z",
     "shell.execute_reply": "2021-06-04T13:07:08.146209Z"
    },
    "papermill": {
     "duration": 0.045245,
     "end_time": "2021-06-04T13:07:08.146373",
     "exception": false,
     "start_time": "2021-06-04T13:07:08.101128",
     "status": "completed"
    },
    "tags": []
   }
  },
  {
   "cell_type": "markdown",
   "source": [
    "**2: `dir()`** (what can I do with it?)"
   ],
   "metadata": {
    "papermill": {
     "duration": 0.036863,
     "end_time": "2021-06-04T13:07:08.220540",
     "exception": false,
     "start_time": "2021-06-04T13:07:08.183677",
     "status": "completed"
    },
    "tags": []
   }
  },
  {
   "cell_type": "code",
   "execution_count": null,
   "source": [
    "print(dir(rolls))"
   ],
   "outputs": [],
   "metadata": {
    "execution": {
     "iopub.execute_input": "2021-06-04T13:07:08.298478Z",
     "iopub.status.busy": "2021-06-04T13:07:08.297482Z",
     "iopub.status.idle": "2021-06-04T13:07:08.303464Z",
     "shell.execute_reply": "2021-06-04T13:07:08.302960Z"
    },
    "papermill": {
     "duration": 0.04608,
     "end_time": "2021-06-04T13:07:08.303603",
     "exception": false,
     "start_time": "2021-06-04T13:07:08.257523",
     "status": "completed"
    },
    "tags": []
   }
  },
  {
   "cell_type": "code",
   "execution_count": null,
   "source": [
    "# If I want the average roll, the \"mean\" method looks promising...\r\n",
    "rolls.mean()"
   ],
   "outputs": [],
   "metadata": {
    "execution": {
     "iopub.execute_input": "2021-06-04T13:07:08.384623Z",
     "iopub.status.busy": "2021-06-04T13:07:08.383880Z",
     "iopub.status.idle": "2021-06-04T13:07:08.387763Z",
     "shell.execute_reply": "2021-06-04T13:07:08.387272Z"
    },
    "papermill": {
     "duration": 0.046283,
     "end_time": "2021-06-04T13:07:08.387976",
     "exception": false,
     "start_time": "2021-06-04T13:07:08.341693",
     "status": "completed"
    },
    "tags": []
   }
  },
  {
   "cell_type": "code",
   "execution_count": null,
   "source": [
    "# Or maybe I just want to turn the array into a list, in which case I can use \"tolist\"\r\n",
    "rolls.tolist()"
   ],
   "outputs": [],
   "metadata": {
    "execution": {
     "iopub.execute_input": "2021-06-04T13:07:08.469807Z",
     "iopub.status.busy": "2021-06-04T13:07:08.469176Z",
     "iopub.status.idle": "2021-06-04T13:07:08.472193Z",
     "shell.execute_reply": "2021-06-04T13:07:08.472661Z"
    },
    "papermill": {
     "duration": 0.046461,
     "end_time": "2021-06-04T13:07:08.472850",
     "exception": false,
     "start_time": "2021-06-04T13:07:08.426389",
     "status": "completed"
    },
    "tags": []
   }
  },
  {
   "cell_type": "markdown",
   "source": [
    "**3: `help()`** (tell me more)"
   ],
   "metadata": {
    "papermill": {
     "duration": 0.038286,
     "end_time": "2021-06-04T13:07:08.549944",
     "exception": false,
     "start_time": "2021-06-04T13:07:08.511658",
     "status": "completed"
    },
    "tags": []
   }
  },
  {
   "cell_type": "code",
   "execution_count": null,
   "source": [
    "# That \"ravel\" attribute sounds interesting. I'm a big classical music fan.\r\n",
    "help(rolls.ravel)"
   ],
   "outputs": [],
   "metadata": {
    "execution": {
     "iopub.execute_input": "2021-06-04T13:07:08.630894Z",
     "iopub.status.busy": "2021-06-04T13:07:08.630183Z",
     "iopub.status.idle": "2021-06-04T13:07:08.634532Z",
     "shell.execute_reply": "2021-06-04T13:07:08.635031Z"
    },
    "papermill": {
     "duration": 0.046743,
     "end_time": "2021-06-04T13:07:08.635197",
     "exception": false,
     "start_time": "2021-06-04T13:07:08.588454",
     "status": "completed"
    },
    "tags": []
   }
  },
  {
   "cell_type": "code",
   "execution_count": null,
   "source": [
    "# Okay, just tell me everything there is to know about numpy.ndarray\r\n",
    "# (Click the \"output\" button to see the novel-length output)\r\n",
    "help(rolls)"
   ],
   "outputs": [],
   "metadata": {
    "_kg_hide-output": true,
    "execution": {
     "iopub.execute_input": "2021-06-04T13:07:08.716313Z",
     "iopub.status.busy": "2021-06-04T13:07:08.715654Z",
     "iopub.status.idle": "2021-06-04T13:07:08.761559Z",
     "shell.execute_reply": "2021-06-04T13:07:08.762266Z"
    },
    "papermill": {
     "duration": 0.088259,
     "end_time": "2021-06-04T13:07:08.762518",
     "exception": false,
     "start_time": "2021-06-04T13:07:08.674259",
     "status": "completed"
    },
    "tags": []
   }
  },
  {
   "cell_type": "markdown",
   "source": [
    "(Of course, you might also prefer to check out [the online docs](https://docs.scipy.org/doc/numpy-1.14.0/reference/generated/numpy.ndarray.html).)"
   ],
   "metadata": {
    "papermill": {
     "duration": 0.042668,
     "end_time": "2021-06-04T13:07:08.849457",
     "exception": false,
     "start_time": "2021-06-04T13:07:08.806789",
     "status": "completed"
    },
    "tags": []
   }
  },
  {
   "cell_type": "markdown",
   "source": [
    "# Your turn!"
   ],
   "metadata": {
    "papermill": {
     "duration": 0.046194,
     "end_time": "2021-06-04T13:07:16.301467",
     "exception": false,
     "start_time": "2021-06-04T13:07:16.255273",
     "status": "completed"
    },
    "tags": []
   }
  }
 ],
 "metadata": {
  "kernelspec": {
   "name": "python3",
   "display_name": "Python 3.7.4 64-bit ('base': conda)"
  },
  "language_info": {
   "codemirror_mode": {
    "name": "ipython",
    "version": 3
   },
   "file_extension": ".py",
   "mimetype": "text/x-python",
   "name": "python",
   "nbconvert_exporter": "python",
   "pygments_lexer": "ipython3",
   "version": "3.7.4"
  },
  "learntools_metadata": {
   "lesson_index": 6,
   "type": "tutorial"
  },
  "papermill": {
   "default_parameters": {},
   "duration": 17.695781,
   "end_time": "2021-06-04T13:07:17.452283",
   "environment_variables": {},
   "exception": null,
   "input_path": "__notebook__.ipynb",
   "output_path": "__notebook__.ipynb",
   "parameters": {},
   "start_time": "2021-06-04T13:06:59.756502",
   "version": "2.3.2"
  },
  "interpreter": {
   "hash": "6ad2903d9f8eb78095a8e1054d3b7d96029c25240c1559c5c7674409ebbac066"
  }
 },
 "nbformat": 4,
 "nbformat_minor": 5
}