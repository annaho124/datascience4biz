{
  "nbformat": 4,
  "nbformat_minor": 0,
  "metadata": {
    "colab": {
      "name": "Introduction to Python.ipynb",
      "provenance": [],
      "collapsed_sections": [],
      "toc_visible": true,
      "authorship_tag": "ABX9TyO2re0voEBNwrB+HyvIXZ0I",
      "include_colab_link": true
    },
    "kernelspec": {
      "name": "python3",
      "display_name": "Python 3"
    }
  },
  "cells": [
    {
      "cell_type": "markdown",
      "metadata": {
        "id": "view-in-github",
        "colab_type": "text"
      },
      "source": [
        "<a href=\"https://colab.research.google.com/github/nnbphuong/datascience4biz/blob/master/Introduction_to_Python.ipynb\" target=\"_parent\"><img src=\"https://colab.research.google.com/assets/colab-badge.svg\" alt=\"Open In Colab\"/></a>"
      ]
    },
    {
      "cell_type": "markdown",
      "metadata": {
        "id": "FJlhDl6s6Bvf",
        "colab_type": "text"
      },
      "source": [
        "#**INTRODUCTION TO PYTHON**\n",
        "\n",
        "Phuong Nguyen @ [DataScience.vn](https://datascience.vn)\n",
        "\n",
        "\n",
        "---\n",
        "\n"
      ]
    },
    {
      "cell_type": "markdown",
      "metadata": {
        "id": "uAe91K-dUsRr",
        "colab_type": "text"
      },
      "source": [
        "# Hello, world!"
      ]
    },
    {
      "cell_type": "code",
      "metadata": {
        "id": "x9uOOXoKvo-W",
        "colab_type": "code",
        "colab": {}
      },
      "source": [
        "print('Hello, world!')"
      ],
      "execution_count": 0,
      "outputs": []
    },
    {
      "cell_type": "markdown",
      "metadata": {
        "id": "yihA1IGF6eNl",
        "colab_type": "text"
      },
      "source": [
        "# Creating Variables\n",
        "\n",
        "In Python, a variable can be assigned a value without specifying data type. Python automatically infers the variable type from values assigned to it. Also, the variable need not be assigned a value of same type during its lifetime.\n",
        "\n",
        "Python supports the following variable types:\n",
        "1. *int* – Integer type.\n",
        "2. *float* – Floating point numbers.\n",
        "3. *bool* – Booleans are subtypes of integers and assigned value using literals True and False.\n",
        "4. *str* – Textual data."
      ]
    },
    {
      "cell_type": "code",
      "metadata": {
        "id": "0I2TulhP6Kzu",
        "colab_type": "code",
        "colab": {}
      },
      "source": [
        "var1 = 2\n",
        "var2 = 5.0\n",
        "var3 = 1 > 2\n",
        "var4 = \"Data Science for Business\""
      ],
      "execution_count": 0,
      "outputs": []
    },
    {
      "cell_type": "code",
      "metadata": {
        "id": "QjOq_gHr6qZd",
        "colab_type": "code",
        "colab": {}
      },
      "source": [
        "print(\"Value of var1:\", var1, type(var1))\n",
        "print(\"Value of var2:\", var2, type(var2))\n",
        "print(\"Value of var3:\", var3, type(var3))\n",
        "print(\"Value of var4:\", var4, type(var4))"
      ],
      "execution_count": 0,
      "outputs": []
    },
    {
      "cell_type": "markdown",
      "metadata": {
        "id": "mhdzwgtA7_G_",
        "colab_type": "text"
      },
      "source": [
        "# Generating Sequence/Random Numbers"
      ]
    },
    {
      "cell_type": "code",
      "metadata": {
        "id": "UfbarHaw7_hE",
        "colab_type": "code",
        "colab": {}
      },
      "source": [
        "# Initializing the sequence of numbers starting from 1 and ending (not including) with 6\n",
        "numbers = range(1, 6)\n",
        "numbers"
      ],
      "execution_count": 0,
      "outputs": []
    },
    {
      "cell_type": "code",
      "metadata": {
        "id": "qchORQ0X8ddN",
        "colab_type": "code",
        "colab": {}
      },
      "source": [
        "type(numbers)"
      ],
      "execution_count": 0,
      "outputs": []
    },
    {
      "cell_type": "code",
      "metadata": {
        "id": "H7EROJMICN9y",
        "colab_type": "code",
        "colab": {}
      },
      "source": [
        "import random\n",
        "# from random import sample\n",
        "# https://docs.python.org/3/library/random.html\n",
        "randomList = random.sample(range(0, 100), 20)\n",
        "randomList"
      ],
      "execution_count": 0,
      "outputs": []
    },
    {
      "cell_type": "code",
      "metadata": {
        "id": "Lp3LRcVcD4_0",
        "colab_type": "code",
        "colab": {}
      },
      "source": [
        "type(randomList)"
      ],
      "execution_count": 0,
      "outputs": []
    },
    {
      "cell_type": "markdown",
      "metadata": {
        "id": "ZinhQ-Fb8UN2",
        "colab_type": "text"
      },
      "source": [
        "# Control Flow Statements\n",
        "\n",
        "With control flow, you can execute certain code blocks conditionally and/or repeatedly: these basic building blocks can be combined to create surprisingly sophisticated programs!\n",
        "\n",
        "![alt text](http://net-informations.com/python/flow/img/control.png)"
      ]
    },
    {
      "cell_type": "markdown",
      "metadata": {
        "id": "yj6gwEPb6728",
        "colab_type": "text"
      },
      "source": [
        "## Conditional Statements\n",
        "\n",
        "Conditional statement in Python performs different computations or actions depending on whether a specific Boolean constraint evaluates to true or false."
      ]
    },
    {
      "cell_type": "code",
      "metadata": {
        "id": "p6VFYvR267O1",
        "colab_type": "code",
        "colab": {}
      },
      "source": [
        "# Checking a condition if the variable value is more than 1\n",
        "if var1 > 1:\n",
        "  print( \"Bigger than 1\" )"
      ],
      "execution_count": 0,
      "outputs": []
    },
    {
      "cell_type": "code",
      "metadata": {
        "id": "9-x70K_I7Mdu",
        "colab_type": "code",
        "colab": {}
      },
      "source": [
        "x = 10\n",
        "y = 12\n",
        "# if x is greater than y\n",
        "if x > y:\n",
        "  print (\"x > y\")\n",
        "# if x is lesser than y\n",
        "elif x < y:\n",
        "  print (\"x < y\")\n",
        "else:\n",
        "  print (\"x = y\")"
      ],
      "execution_count": 0,
      "outputs": []
    },
    {
      "cell_type": "code",
      "metadata": {
        "id": "_a2vwyIY7lGk",
        "colab_type": "code",
        "colab": {}
      },
      "source": [
        "# Initialize\n",
        "x = 5\n",
        "# Assign True if x is more than 10 or assign False using ternary operator\n",
        "isGreater = True if x > 10 else False\n",
        "isGreater"
      ],
      "execution_count": 0,
      "outputs": []
    },
    {
      "cell_type": "markdown",
      "metadata": {
        "colab_type": "text",
        "id": "4OYozYFwODs_"
      },
      "source": [
        "## Looping Statements\n",
        "\n",
        "Python provides following types of loops to handle looping requirements:\n",
        "\n",
        "*   **For loop** in Python is used to execute a block of statements or code several times until the given condition becomes false. We use for loop when we know the number of times to iterate.\n",
        "*   **While loop** in Python is used to execute multiple statement or codes repeatedly until the given condition is true. We use while loop when we don’t know the number of times to iterate."
      ]
    },
    {
      "cell_type": "code",
      "metadata": {
        "id": "fOc-FF318V1N",
        "colab_type": "code",
        "colab": {}
      },
      "source": [
        "# Iterate through the collection\n",
        "for i in numbers:\n",
        "  print(i)"
      ],
      "execution_count": 0,
      "outputs": []
    },
    {
      "cell_type": "code",
      "metadata": {
        "id": "tVUe2_au8pi9",
        "colab_type": "code",
        "colab": {}
      },
      "source": [
        "# Initialize the value of 1\n",
        "i = 1\n",
        "# check the value of i to check if the loop will be continued or not\n",
        "while i < 5:\n",
        "  print(i)\n",
        "  # Increment the value of i.\n",
        "  i = i+1\n",
        "# print after the value of i\n",
        "print('Done')"
      ],
      "execution_count": 0,
      "outputs": []
    },
    {
      "cell_type": "markdown",
      "metadata": {
        "id": "NnD6Md1A9JXt",
        "colab_type": "text"
      },
      "source": [
        "# Functions\n",
        "Functions are the most important part of a language. Python has a number of functions built into it that are always available: https://docs.python.org/3/library/functions.html\n",
        "\n",
        "You can create your own functions which can be named or unnamed. Unnamed functions are defined using the `lambda` keyword."
      ]
    },
    {
      "cell_type": "code",
      "metadata": {
        "id": "ck4vdPpFAP-0",
        "colab_type": "code",
        "colab": {}
      },
      "source": [
        "myfunc = lambda a, b: a + b      # example of an unnamed function\n",
        "print(myfunc(2, 3))"
      ],
      "execution_count": 0,
      "outputs": []
    },
    {
      "cell_type": "markdown",
      "metadata": {
        "id": "EasKOJ5fA4QA",
        "colab_type": "text"
      },
      "source": [
        "Named functions are defined using the `def` keyword.\n",
        "\n",
        "1. The function signature should contain the function name followed by the input parameters\n",
        "enclosed in brackets and must end with a colon (:).\n",
        "2. Parameters are optional if initialized in the definition. The code block inside the method should\n",
        "be indented.\n",
        "3. The function ends with a `return` statement. No `return` statement implies the function returns\n",
        "`None`. The data types of parameters and return types are inferred at runtime."
      ]
    },
    {
      "cell_type": "code",
      "metadata": {
        "id": "Yn9jcZLh9LcN",
        "colab_type": "code",
        "colab": {}
      },
      "source": [
        "def addElements(a, b):\n",
        "  return a + b"
      ],
      "execution_count": 0,
      "outputs": []
    },
    {
      "cell_type": "code",
      "metadata": {
        "id": "Y3iRGiy_9Qj1",
        "colab_type": "code",
        "colab": {}
      },
      "source": [
        "result = addElements(2, 3)\n",
        "result"
      ],
      "execution_count": 0,
      "outputs": []
    },
    {
      "cell_type": "code",
      "metadata": {
        "id": "6m9smjGp9Xgt",
        "colab_type": "code",
        "colab": {}
      },
      "source": [
        "result = addElements(2.3, 4.5)\n",
        "result"
      ],
      "execution_count": 0,
      "outputs": []
    },
    {
      "cell_type": "code",
      "metadata": {
        "id": "rdpXdLJA9bKw",
        "colab_type": "code",
        "colab": {}
      },
      "source": [
        "result = addElements(\"Data\", \"Science\")\n",
        "result"
      ],
      "execution_count": 0,
      "outputs": []
    },
    {
      "cell_type": "code",
      "metadata": {
        "id": "l21b4C_C9mJN",
        "colab_type": "code",
        "colab": {}
      },
      "source": [
        "def addElements(a, b = 4):\n",
        "  return a + b"
      ],
      "execution_count": 0,
      "outputs": []
    },
    {
      "cell_type": "code",
      "metadata": {
        "id": "ZlvkO8sO9qBU",
        "colab_type": "code",
        "colab": {}
      },
      "source": [
        "addElements(2)"
      ],
      "execution_count": 0,
      "outputs": []
    },
    {
      "cell_type": "code",
      "metadata": {
        "id": "BbDnnfGu9uEu",
        "colab_type": "code",
        "colab": {}
      },
      "source": [
        "addElements(2, 5)"
      ],
      "execution_count": 0,
      "outputs": []
    },
    {
      "cell_type": "markdown",
      "metadata": {
        "id": "yOkg7nZdBDGr",
        "colab_type": "text"
      },
      "source": [
        "**MODULE VS PACKAGE**\n",
        "\n",
        "In Python, a **module** is a file that consists of functions, classes, and variables. A set of modules under\n",
        "a namespace (mostly a directory) is called a **package**. The modules and packages can be imported to another module using `import` statement. Using `from ... import` syntax, a specific module or object (e.g., class or function) can be imported from a\n",
        "package.\n",
        "\n",
        "*   The Python Standard Library: https://docs.python.org/3/library/index.html\n",
        "\n",
        "*   Python Packages: https://pypi.org/"
      ]
    },
    {
      "cell_type": "code",
      "metadata": {
        "id": "1BKuQuwKCrnl",
        "colab_type": "code",
        "colab": {}
      },
      "source": [
        "# import statistics: https://docs.python.org/3/library/statistics.html\n",
        "from statistics import mean, median\n",
        "def getMeanAndMedian(listNum):\n",
        "  return mean(listNum), median(listNum)"
      ],
      "execution_count": 0,
      "outputs": []
    },
    {
      "cell_type": "code",
      "metadata": {
        "id": "_YPDAgvNC0JO",
        "colab_type": "code",
        "colab": {}
      },
      "source": [
        "mean, median = getMeanAndMedian(randomList)\n",
        "print(\"Mean: \", mean, \"; Median: \", median)"
      ],
      "execution_count": 0,
      "outputs": []
    },
    {
      "cell_type": "markdown",
      "metadata": {
        "id": "Libdz5U60zgN",
        "colab_type": "text"
      },
      "source": [
        "**FUNCTION VS METHOD**\n",
        "\n",
        "*   A **function** is a piece of code that is called by name. It can be passed data to operate on (i.e. the parameters) and can optionally return data (the return value). All data that is passed to a function is explicitly passed.\n",
        "\n",
        "*   A **method** is a piece of code that is called by a name that is associated with an object. In most respects it is identical to a function except for two key differences: (1) A method is implicitly passed the object on which it was called; (2) A method is able to operate on data that is contained within the class (remembering that an object is an instance of a class - the class is the definition, the object is an instance of that data)."
      ]
    },
    {
      "cell_type": "markdown",
      "metadata": {
        "id": "rGFI8zA19x3A",
        "colab_type": "text"
      },
      "source": [
        "# Working with Collections\n",
        "Collections are useful containers or data structures to store and manipulate list of homogeneous or heterogeneous elements. "
      ]
    },
    {
      "cell_type": "markdown",
      "metadata": {
        "id": "n3QY8scx94vr",
        "colab_type": "text"
      },
      "source": [
        "## List\n",
        "Lists can contain heterogeneous items, that is, a single list can contain items of type\n",
        "integer, float, string, or objects. It is also not a unique set of items, that is, the values can repeat. Lists are mutable and generally initialized with a list of values specified inside square brackets or an empty list."
      ]
    },
    {
      "cell_type": "code",
      "metadata": {
        "id": "-7sQM6bU99nU",
        "colab_type": "code",
        "colab": {}
      },
      "source": [
        "# Create an empty list\n",
        "emptyList = []"
      ],
      "execution_count": 0,
      "outputs": []
    },
    {
      "cell_type": "code",
      "metadata": {
        "id": "qXY_EO1iAFhE",
        "colab_type": "code",
        "colab": {}
      },
      "source": [
        "students = ['Đỗ Tiến Sĩ', 'Bùi Rút Lan', 'Nguyễn Y Vân', 'Vũ Như Cẩn', 'Mai Com Bu Tơ', 'Tiểu Long Nữ']"
      ],
      "execution_count": 0,
      "outputs": []
    },
    {
      "cell_type": "code",
      "metadata": {
        "id": "zAZk3ZXI_K8U",
        "colab_type": "code",
        "colab": {}
      },
      "source": [
        "students[0]"
      ],
      "execution_count": 0,
      "outputs": []
    },
    {
      "cell_type": "code",
      "metadata": {
        "id": "v0UzY0-v_PFZ",
        "colab_type": "code",
        "colab": {}
      },
      "source": [
        "# Slicing an list\n",
        "students[0:2]"
      ],
      "execution_count": 0,
      "outputs": []
    },
    {
      "cell_type": "code",
      "metadata": {
        "id": "GhjBseJR_VHO",
        "colab_type": "code",
        "colab": {}
      },
      "source": [
        "# Accessing the last element\n",
        "students[-1]"
      ],
      "execution_count": 0,
      "outputs": []
    },
    {
      "cell_type": "code",
      "metadata": {
        "id": "wgWlua_d_hge",
        "colab_type": "code",
        "colab": {}
      },
      "source": [
        "# how many elements in the list\n",
        "len(students)"
      ],
      "execution_count": 0,
      "outputs": []
    },
    {
      "cell_type": "code",
      "metadata": {
        "id": "eBdIZ7IIAIsV",
        "colab_type": "code",
        "colab": {}
      },
      "source": [
        "lecturers = ['Bình Phương', 'Thập Phương', 'Vô Phương']"
      ],
      "execution_count": 0,
      "outputs": []
    },
    {
      "cell_type": "code",
      "metadata": {
        "id": "F4Y9JUMPAU1s",
        "colab_type": "code",
        "colab": {}
      },
      "source": [
        "people = students + lecturers"
      ],
      "execution_count": 0,
      "outputs": []
    },
    {
      "cell_type": "code",
      "metadata": {
        "id": "GvBDcmJvAZ2m",
        "colab_type": "code",
        "colab": {}
      },
      "source": [
        "people"
      ],
      "execution_count": 0,
      "outputs": []
    },
    {
      "cell_type": "code",
      "metadata": {
        "id": "hZIhF4jmAfr0",
        "colab_type": "code",
        "colab": {}
      },
      "source": [
        "people.reverse()"
      ],
      "execution_count": 0,
      "outputs": []
    },
    {
      "cell_type": "code",
      "metadata": {
        "id": "ZKMgbkZ3ApBE",
        "colab_type": "code",
        "colab": {}
      },
      "source": [
        "people"
      ],
      "execution_count": 0,
      "outputs": []
    },
    {
      "cell_type": "code",
      "metadata": {
        "id": "M00tAbe1Aude",
        "colab_type": "code",
        "colab": {}
      },
      "source": [
        "people.index('Vô Phương')"
      ],
      "execution_count": 0,
      "outputs": []
    },
    {
      "cell_type": "code",
      "metadata": {
        "id": "FHJEhqKhA1Hl",
        "colab_type": "code",
        "colab": {}
      },
      "source": [
        "'Mai Com Bu Tơ' in people"
      ],
      "execution_count": 0,
      "outputs": []
    },
    {
      "cell_type": "markdown",
      "metadata": {
        "id": "bcmsvAU7A-uk",
        "colab_type": "text"
      },
      "source": [
        "## Tuple\n",
        "Tuple is also a list, but it is immutable. Once a tuple has been created it cannot be modified. "
      ]
    },
    {
      "cell_type": "code",
      "metadata": {
        "id": "Fnyx3V3LM7bP",
        "colab_type": "code",
        "colab": {}
      },
      "source": [
        "my_info = ('Bình Phương', 1981)"
      ],
      "execution_count": 0,
      "outputs": []
    },
    {
      "cell_type": "code",
      "metadata": {
        "id": "t6KSA4VBNEl6",
        "colab_type": "code",
        "colab": {}
      },
      "source": [
        "my_info[0]"
      ],
      "execution_count": 0,
      "outputs": []
    },
    {
      "cell_type": "code",
      "metadata": {
        "id": "6IFIFj7nNHzM",
        "colab_type": "code",
        "colab": {}
      },
      "source": [
        "my_info[1] = 2020"
      ],
      "execution_count": 0,
      "outputs": []
    },
    {
      "cell_type": "code",
      "metadata": {
        "id": "2q0H2LdEBALz",
        "colab_type": "code",
        "colab": {}
      },
      "source": [
        " # An existing list can be converted into tuple using tuple type cast. \n",
        " # We convert the list people into tuple so that it cannot be modified anymore.\n",
        " people_tuple = tuple(people)"
      ],
      "execution_count": 0,
      "outputs": []
    },
    {
      "cell_type": "code",
      "metadata": {
        "id": "IHdSBetJHvd5",
        "colab_type": "code",
        "colab": {}
      },
      "source": [
        "people_tuple"
      ],
      "execution_count": 0,
      "outputs": []
    },
    {
      "cell_type": "markdown",
      "metadata": {
        "id": "X1BgpAK9BKr8",
        "colab_type": "text"
      },
      "source": [
        "## Set\n",
        "A set is a collection of unique elements, that is, the values cannot repeat. A set can be initialized with a\n",
        "list of items enclosed with curly brackets. The set automatically removes duplicates and contains only unique list of numbers."
      ]
    },
    {
      "cell_type": "code",
      "metadata": {
        "id": "zOmKnBsEBL_N",
        "colab_type": "code",
        "colab": {}
      },
      "source": [
        "setOfNumbers = {6,1,1,2,4,5}"
      ],
      "execution_count": 0,
      "outputs": []
    },
    {
      "cell_type": "code",
      "metadata": {
        "id": "zmE5U9N8Emx9",
        "colab_type": "code",
        "colab": {}
      },
      "source": [
        "setOfNumbers"
      ],
      "execution_count": 0,
      "outputs": []
    },
    {
      "cell_type": "code",
      "metadata": {
        "id": "-ufwgwhfEx70",
        "colab_type": "code",
        "colab": {}
      },
      "source": [
        "set1 = {\"A\", \"B\", \"C\"}\n",
        "set2 = {\"C\", \"D\", \"E\"}"
      ],
      "execution_count": 0,
      "outputs": []
    },
    {
      "cell_type": "code",
      "metadata": {
        "id": "1c7DKUbqE_Dm",
        "colab_type": "code",
        "colab": {}
      },
      "source": [
        "set1.union(set2)"
      ],
      "execution_count": 0,
      "outputs": []
    },
    {
      "cell_type": "code",
      "metadata": {
        "id": "MfbOu-04FJ7M",
        "colab_type": "code",
        "colab": {}
      },
      "source": [
        "set1.intersection(set2) "
      ],
      "execution_count": 0,
      "outputs": []
    },
    {
      "cell_type": "code",
      "metadata": {
        "id": "kDs2QMqNFRjf",
        "colab_type": "code",
        "colab": {}
      },
      "source": [
        "set2.difference(set1)"
      ],
      "execution_count": 0,
      "outputs": []
    },
    {
      "cell_type": "markdown",
      "metadata": {
        "id": "cAxoB3TbBQBf",
        "colab_type": "text"
      },
      "source": [
        "## Dictionary\n",
        "Dictionary is a list of key and value pairs. All the keys in a dictionary are unique. "
      ]
    },
    {
      "cell_type": "code",
      "metadata": {
        "id": "d8sYVS7RBSE_",
        "colab_type": "code",
        "colab": {}
      },
      "source": [
        "winners = {2017: \"Vũ Như Cẩn\", \n",
        "           2018: \"Vũ Như Cẩn\",\n",
        "           2019: \"Bùi Rút Lan\"}"
      ],
      "execution_count": 0,
      "outputs": []
    },
    {
      "cell_type": "code",
      "metadata": {
        "id": "dM1OLicCGTGW",
        "colab_type": "code",
        "colab": {}
      },
      "source": [
        "winners[2018]"
      ],
      "execution_count": 0,
      "outputs": []
    },
    {
      "cell_type": "code",
      "metadata": {
        "id": "Ivb4lCSOGZ5M",
        "colab_type": "code",
        "colab": {}
      },
      "source": [
        "winners.values()"
      ],
      "execution_count": 0,
      "outputs": []
    },
    {
      "cell_type": "code",
      "metadata": {
        "id": "7uS45KDjGfA-",
        "colab_type": "code",
        "colab": {}
      },
      "source": [
        "# The above list had repeated names of people as they have won multiple times. \n",
        "# To find unique list of people, the above list can be converted to a set.\n",
        "set(winners.values())"
      ],
      "execution_count": 0,
      "outputs": []
    },
    {
      "cell_type": "code",
      "metadata": {
        "id": "ZyAjQld7GrTg",
        "colab_type": "code",
        "colab": {}
      },
      "source": [
        "winners[2020]"
      ],
      "execution_count": 0,
      "outputs": []
    },
    {
      "cell_type": "code",
      "metadata": {
        "id": "YEpv00i4GuLE",
        "colab_type": "code",
        "colab": {}
      },
      "source": [
        "winners[2020] = \"Nguyễn Y Vân\""
      ],
      "execution_count": 0,
      "outputs": []
    },
    {
      "cell_type": "code",
      "metadata": {
        "id": "ZFMjzNvFG1Q7",
        "colab_type": "code",
        "colab": {}
      },
      "source": [
        "winners"
      ],
      "execution_count": 0,
      "outputs": []
    },
    {
      "cell_type": "markdown",
      "metadata": {
        "id": "0VtADRmhBVxv",
        "colab_type": "text"
      },
      "source": [
        "## String\n",
        "\n",
        "Strings in Python are arrays of bytes representing unicode characters. However, Python does not have a character data type, a single character is simply a string with a length of 1. Square brackets can be used to access elements of the string."
      ]
    },
    {
      "cell_type": "code",
      "metadata": {
        "id": "CLWsEOW2BXFt",
        "colab_type": "code",
        "colab": {}
      },
      "source": [
        "string0 = 'python'\n",
        "string1 = \"data science\""
      ],
      "execution_count": 0,
      "outputs": []
    },
    {
      "cell_type": "code",
      "metadata": {
        "id": "CFUtlPCvwO69",
        "colab_type": "code",
        "colab": {}
      },
      "source": [
        "print(len(string0))"
      ],
      "execution_count": 0,
      "outputs": []
    },
    {
      "cell_type": "code",
      "metadata": {
        "id": "EXIphmZpBqKV",
        "colab_type": "code",
        "colab": {}
      },
      "source": [
        "# Converting to upper case\n",
        "string0.upper()\n",
        "# Similarly string.lower() can be used to convert to lower case.\n",
        "# string0.lower()"
      ],
      "execution_count": 0,
      "outputs": []
    },
    {
      "cell_type": "code",
      "metadata": {
        "id": "Zay5xb7UBwRO",
        "colab_type": "code",
        "colab": {}
      },
      "source": [
        "tokens = string1.split(' ')\n",
        "tokens"
      ],
      "execution_count": 0,
      "outputs": []
    },
    {
      "cell_type": "code",
      "metadata": {
        "id": "EEZME31-NmE-",
        "colab_type": "code",
        "colab": {}
      },
      "source": [
        "string1[0:4]"
      ],
      "execution_count": 0,
      "outputs": []
    },
    {
      "cell_type": "markdown",
      "metadata": {
        "colab_type": "text",
        "id": "QMoQLbJ3Jhvx"
      },
      "source": [
        "---\n",
        "\n",
        "Phuong Nguyen @ [DataScience.vn](https://datascience.vn)\n",
        "\n",
        "**END**"
      ]
    }
  ]
}